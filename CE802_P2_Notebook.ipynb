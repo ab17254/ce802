{
  "nbformat": 4,
  "nbformat_minor": 0,
  "metadata": {
    "colab": {
      "name": "CE802_P2_Notebook.ipynb",
      "provenance": [],
      "authorship_tag": "ABX9TyPATwI/01FNVMKXhl0+XyZp",
      "include_colab_link": true
    },
    "kernelspec": {
      "name": "python3",
      "display_name": "Python 3"
    }
  },
  "cells": [
    {
      "cell_type": "markdown",
      "metadata": {
        "id": "view-in-github",
        "colab_type": "text"
      },
      "source": [
        "<a href=\"https://colab.research.google.com/github/ab17254/ce802/blob/main/CE802_P2_Notebook.ipynb\" target=\"_parent\"><img src=\"https://colab.research.google.com/assets/colab-badge.svg\" alt=\"Open In Colab\"/></a>"
      ]
    },
    {
      "cell_type": "code",
      "metadata": {
        "id": "Q06TM-PdSOHl"
      },
      "source": [
        "import numpy as np\r\n",
        "import pandas as pd\r\n",
        "import matplotlib.pyplot as plt\r\n",
        "import seaborn as sns\r\n",
        "from sklearn.model_selection import KFold, cross_val_score\r\n",
        "from sklearn.preprocessing import StandardScaler\r\n",
        "from sklearn.tree import DecisionTreeClassifier\r\n",
        "from sklearn.impute import SimpleImputer\r\n",
        "from sklearn.model_selection import train_test_split, GridSearchCV\r\n",
        "from sklearn import tree, metrics\r\n",
        "from sklearn.metrics import classification_report, confusion_matrix, f1_score, make_scorer\r\n",
        "from sklearn.neighbors import KNeighborsClassifier\r\n",
        "from sklearn.svm import SVC\r\n",
        "from sklearn.linear_model import LogisticRegression\r\n",
        "\r\n",
        "sns.set_style('whitegrid')"
      ],
      "execution_count": 1,
      "outputs": []
    },
    {
      "cell_type": "code",
      "metadata": {
        "colab": {
          "resources": {
            "http://localhost:8080/nbextensions/google.colab/files.js": {
              "data": "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",
              "ok": true,
              "headers": [
                [
                  "content-type",
                  "application/javascript"
                ]
              ],
              "status": 200,
              "status_text": ""
            }
          },
          "base_uri": "https://localhost:8080/",
          "height": 140
        },
        "id": "zqR3QVbBU1Q0",
        "outputId": "c60c1d94-00cd-4188-aa00-89932a7ee39a"
      },
      "source": [
        "from google.colab import files\r\n",
        "\r\n",
        "uploaded = files.upload()\r\n",
        "\r\n",
        "for fn in uploaded.keys():\r\n",
        "  print('User uploaded file \"{name}\" with length {length} bytes'.format(\r\n",
        "      name=fn, length=len(uploaded[fn])))"
      ],
      "execution_count": 2,
      "outputs": [
        {
          "output_type": "display_data",
          "data": {
            "text/html": [
              "\n",
              "     <input type=\"file\" id=\"files-11be423c-c030-4925-86e2-132b6a193fe0\" name=\"files[]\" multiple disabled\n",
              "        style=\"border:none\" />\n",
              "     <output id=\"result-11be423c-c030-4925-86e2-132b6a193fe0\">\n",
              "      Upload widget is only available when the cell has been executed in the\n",
              "      current browser session. Please rerun this cell to enable.\n",
              "      </output>\n",
              "      <script src=\"/nbextensions/google.colab/files.js\"></script> "
            ],
            "text/plain": [
              "<IPython.core.display.HTML object>"
            ]
          },
          "metadata": {
            "tags": []
          }
        },
        {
          "output_type": "stream",
          "text": [
            "Saving CE802_P2_Data.csv to CE802_P2_Data.csv\n",
            "Saving CE802_P2_Test.csv to CE802_P2_Test.csv\n",
            "User uploaded file \"CE802_P2_Data.csv\" with length 119990 bytes\n",
            "User uploaded file \"CE802_P2_Test.csv\" with length 113062 bytes\n"
          ],
          "name": "stdout"
        }
      ]
    },
    {
      "cell_type": "code",
      "metadata": {
        "id": "MuVYlCR5VtEl"
      },
      "source": [
        "data = pd.read_csv('/content/CE802_P2_Data.csv')\r\n",
        "test = pd.read_csv('/content/CE802_P2_Test.csv')\r\n"
      ],
      "execution_count": null,
      "outputs": []
    },
    {
      "cell_type": "code",
      "metadata": {
        "colab": {
          "base_uri": "https://localhost:8080/",
          "height": 204
        },
        "id": "KWaEZfgnnrX6",
        "outputId": "797151a9-ea88-41af-f942-181ed67170f5"
      },
      "source": [
        "data.head()"
      ],
      "execution_count": 92,
      "outputs": [
        {
          "output_type": "execute_result",
          "data": {
            "text/html": [
              "<div>\n",
              "<style scoped>\n",
              "    .dataframe tbody tr th:only-of-type {\n",
              "        vertical-align: middle;\n",
              "    }\n",
              "\n",
              "    .dataframe tbody tr th {\n",
              "        vertical-align: top;\n",
              "    }\n",
              "\n",
              "    .dataframe thead th {\n",
              "        text-align: right;\n",
              "    }\n",
              "</style>\n",
              "<table border=\"1\" class=\"dataframe\">\n",
              "  <thead>\n",
              "    <tr style=\"text-align: right;\">\n",
              "      <th></th>\n",
              "      <th>F1</th>\n",
              "      <th>F2</th>\n",
              "      <th>F3</th>\n",
              "      <th>F4</th>\n",
              "      <th>F5</th>\n",
              "      <th>F6</th>\n",
              "      <th>F7</th>\n",
              "      <th>F8</th>\n",
              "      <th>F9</th>\n",
              "      <th>F10</th>\n",
              "      <th>F11</th>\n",
              "      <th>F12</th>\n",
              "      <th>F13</th>\n",
              "      <th>F14</th>\n",
              "      <th>F15</th>\n",
              "      <th>Class</th>\n",
              "    </tr>\n",
              "  </thead>\n",
              "  <tbody>\n",
              "    <tr>\n",
              "      <th>0</th>\n",
              "      <td>11.7</td>\n",
              "      <td>4.02</td>\n",
              "      <td>-4.34</td>\n",
              "      <td>9.90</td>\n",
              "      <td>29.79</td>\n",
              "      <td>89.58</td>\n",
              "      <td>0.63</td>\n",
              "      <td>23</td>\n",
              "      <td>10.35</td>\n",
              "      <td>158.56</td>\n",
              "      <td>-7.88</td>\n",
              "      <td>0.03</td>\n",
              "      <td>1</td>\n",
              "      <td>1.96</td>\n",
              "      <td>NaN</td>\n",
              "      <td>False</td>\n",
              "    </tr>\n",
              "    <tr>\n",
              "      <th>1</th>\n",
              "      <td>11.7</td>\n",
              "      <td>4.20</td>\n",
              "      <td>-3.68</td>\n",
              "      <td>10.98</td>\n",
              "      <td>17.46</td>\n",
              "      <td>179.58</td>\n",
              "      <td>0.05</td>\n",
              "      <td>11</td>\n",
              "      <td>8.30</td>\n",
              "      <td>110.56</td>\n",
              "      <td>-3.10</td>\n",
              "      <td>0.84</td>\n",
              "      <td>1</td>\n",
              "      <td>1.50</td>\n",
              "      <td>NaN</td>\n",
              "      <td>False</td>\n",
              "    </tr>\n",
              "    <tr>\n",
              "      <th>2</th>\n",
              "      <td>37.7</td>\n",
              "      <td>25.80</td>\n",
              "      <td>3.60</td>\n",
              "      <td>0.48</td>\n",
              "      <td>12.24</td>\n",
              "      <td>407.58</td>\n",
              "      <td>-0.29</td>\n",
              "      <td>230</td>\n",
              "      <td>4.06</td>\n",
              "      <td>254.56</td>\n",
              "      <td>6.68</td>\n",
              "      <td>21.60</td>\n",
              "      <td>10</td>\n",
              "      <td>7.63</td>\n",
              "      <td>NaN</td>\n",
              "      <td>True</td>\n",
              "    </tr>\n",
              "    <tr>\n",
              "      <th>3</th>\n",
              "      <td>7.7</td>\n",
              "      <td>5.40</td>\n",
              "      <td>0.30</td>\n",
              "      <td>9.42</td>\n",
              "      <td>19.86</td>\n",
              "      <td>119.58</td>\n",
              "      <td>0.29</td>\n",
              "      <td>12</td>\n",
              "      <td>7.61</td>\n",
              "      <td>66.56</td>\n",
              "      <td>-1.84</td>\n",
              "      <td>1.05</td>\n",
              "      <td>1</td>\n",
              "      <td>2.27</td>\n",
              "      <td>12.17</td>\n",
              "      <td>True</td>\n",
              "    </tr>\n",
              "    <tr>\n",
              "      <th>4</th>\n",
              "      <td>15.7</td>\n",
              "      <td>5.58</td>\n",
              "      <td>-2.58</td>\n",
              "      <td>16.34</td>\n",
              "      <td>17.49</td>\n",
              "      <td>146.58</td>\n",
              "      <td>-0.64</td>\n",
              "      <td>25</td>\n",
              "      <td>9.86</td>\n",
              "      <td>106.56</td>\n",
              "      <td>-4.36</td>\n",
              "      <td>1.68</td>\n",
              "      <td>1</td>\n",
              "      <td>1.28</td>\n",
              "      <td>NaN</td>\n",
              "      <td>False</td>\n",
              "    </tr>\n",
              "  </tbody>\n",
              "</table>\n",
              "</div>"
            ],
            "text/plain": [
              "     F1     F2    F3     F4     F5  ...    F12  F13   F14    F15  Class\n",
              "0  11.7   4.02 -4.34   9.90  29.79  ...   0.03    1  1.96    NaN  False\n",
              "1  11.7   4.20 -3.68  10.98  17.46  ...   0.84    1  1.50    NaN  False\n",
              "2  37.7  25.80  3.60   0.48  12.24  ...  21.60   10  7.63    NaN   True\n",
              "3   7.7   5.40  0.30   9.42  19.86  ...   1.05    1  2.27  12.17   True\n",
              "4  15.7   5.58 -2.58  16.34  17.49  ...   1.68    1  1.28    NaN  False\n",
              "\n",
              "[5 rows x 16 columns]"
            ]
          },
          "metadata": {
            "tags": []
          },
          "execution_count": 92
        }
      ]
    },
    {
      "cell_type": "code",
      "metadata": {
        "colab": {
          "base_uri": "https://localhost:8080/",
          "height": 204
        },
        "id": "JhSxMK4UnNWa",
        "outputId": "28e2faaa-129b-4d8d-fe25-29f12acb876e"
      },
      "source": [
        "test.head()"
      ],
      "execution_count": 91,
      "outputs": [
        {
          "output_type": "execute_result",
          "data": {
            "text/html": [
              "<div>\n",
              "<style scoped>\n",
              "    .dataframe tbody tr th:only-of-type {\n",
              "        vertical-align: middle;\n",
              "    }\n",
              "\n",
              "    .dataframe tbody tr th {\n",
              "        vertical-align: top;\n",
              "    }\n",
              "\n",
              "    .dataframe thead th {\n",
              "        text-align: right;\n",
              "    }\n",
              "</style>\n",
              "<table border=\"1\" class=\"dataframe\">\n",
              "  <thead>\n",
              "    <tr style=\"text-align: right;\">\n",
              "      <th></th>\n",
              "      <th>F1</th>\n",
              "      <th>F2</th>\n",
              "      <th>F3</th>\n",
              "      <th>F4</th>\n",
              "      <th>F5</th>\n",
              "      <th>F6</th>\n",
              "      <th>F7</th>\n",
              "      <th>F8</th>\n",
              "      <th>F9</th>\n",
              "      <th>F10</th>\n",
              "      <th>F11</th>\n",
              "      <th>F12</th>\n",
              "      <th>F13</th>\n",
              "      <th>F14</th>\n",
              "      <th>F15</th>\n",
              "      <th>Class</th>\n",
              "    </tr>\n",
              "  </thead>\n",
              "  <tbody>\n",
              "    <tr>\n",
              "      <th>0</th>\n",
              "      <td>37.7</td>\n",
              "      <td>33.15</td>\n",
              "      <td>9.26</td>\n",
              "      <td>3.88</td>\n",
              "      <td>5.91</td>\n",
              "      <td>-12.42</td>\n",
              "      <td>-0.77</td>\n",
              "      <td>165</td>\n",
              "      <td>3.32</td>\n",
              "      <td>334.56</td>\n",
              "      <td>4.42</td>\n",
              "      <td>18.75</td>\n",
              "      <td>10</td>\n",
              "      <td>7.78</td>\n",
              "      <td>NaN</td>\n",
              "      <td>NaN</td>\n",
              "    </tr>\n",
              "    <tr>\n",
              "      <th>1</th>\n",
              "      <td>17.7</td>\n",
              "      <td>24.30</td>\n",
              "      <td>6.58</td>\n",
              "      <td>3.40</td>\n",
              "      <td>10.47</td>\n",
              "      <td>-57.42</td>\n",
              "      <td>-0.77</td>\n",
              "      <td>20</td>\n",
              "      <td>3.22</td>\n",
              "      <td>224.56</td>\n",
              "      <td>0.28</td>\n",
              "      <td>15.30</td>\n",
              "      <td>10</td>\n",
              "      <td>8.13</td>\n",
              "      <td>NaN</td>\n",
              "      <td>NaN</td>\n",
              "    </tr>\n",
              "    <tr>\n",
              "      <th>2</th>\n",
              "      <td>37.7</td>\n",
              "      <td>17.55</td>\n",
              "      <td>10.16</td>\n",
              "      <td>-1.94</td>\n",
              "      <td>6.90</td>\n",
              "      <td>92.58</td>\n",
              "      <td>-0.84</td>\n",
              "      <td>215</td>\n",
              "      <td>4.71</td>\n",
              "      <td>94.56</td>\n",
              "      <td>6.98</td>\n",
              "      <td>17.70</td>\n",
              "      <td>10</td>\n",
              "      <td>10.08</td>\n",
              "      <td>13.27</td>\n",
              "      <td>NaN</td>\n",
              "    </tr>\n",
              "    <tr>\n",
              "      <th>3</th>\n",
              "      <td>11.7</td>\n",
              "      <td>2.61</td>\n",
              "      <td>-8.28</td>\n",
              "      <td>8.96</td>\n",
              "      <td>23.22</td>\n",
              "      <td>161.58</td>\n",
              "      <td>1.69</td>\n",
              "      <td>6</td>\n",
              "      <td>8.54</td>\n",
              "      <td>64.56</td>\n",
              "      <td>-6.52</td>\n",
              "      <td>1.32</td>\n",
              "      <td>1</td>\n",
              "      <td>1.80</td>\n",
              "      <td>11.73</td>\n",
              "      <td>NaN</td>\n",
              "    </tr>\n",
              "    <tr>\n",
              "      <th>4</th>\n",
              "      <td>7.7</td>\n",
              "      <td>5.55</td>\n",
              "      <td>1.52</td>\n",
              "      <td>8.50</td>\n",
              "      <td>21.66</td>\n",
              "      <td>95.58</td>\n",
              "      <td>2.41</td>\n",
              "      <td>22</td>\n",
              "      <td>10.74</td>\n",
              "      <td>128.56</td>\n",
              "      <td>-3.84</td>\n",
              "      <td>2.76</td>\n",
              "      <td>1</td>\n",
              "      <td>2.22</td>\n",
              "      <td>12.31</td>\n",
              "      <td>NaN</td>\n",
              "    </tr>\n",
              "  </tbody>\n",
              "</table>\n",
              "</div>"
            ],
            "text/plain": [
              "     F1     F2     F3    F4     F5  ...    F12  F13    F14    F15  Class\n",
              "0  37.7  33.15   9.26  3.88   5.91  ...  18.75   10   7.78    NaN    NaN\n",
              "1  17.7  24.30   6.58  3.40  10.47  ...  15.30   10   8.13    NaN    NaN\n",
              "2  37.7  17.55  10.16 -1.94   6.90  ...  17.70   10  10.08  13.27    NaN\n",
              "3  11.7   2.61  -8.28  8.96  23.22  ...   1.32    1   1.80  11.73    NaN\n",
              "4   7.7   5.55   1.52  8.50  21.66  ...   2.76    1   2.22  12.31    NaN\n",
              "\n",
              "[5 rows x 16 columns]"
            ]
          },
          "metadata": {
            "tags": []
          },
          "execution_count": 91
        }
      ]
    },
    {
      "cell_type": "code",
      "metadata": {
        "colab": {
          "base_uri": "https://localhost:8080/"
        },
        "id": "MbIDty-UWQye",
        "outputId": "4b1262ee-f54b-428d-e7ce-55fab24c5a01"
      },
      "source": [
        "data.dtypes"
      ],
      "execution_count": 5,
      "outputs": [
        {
          "output_type": "execute_result",
          "data": {
            "text/plain": [
              "F1       float64\n",
              "F2       float64\n",
              "F3       float64\n",
              "F4       float64\n",
              "F5       float64\n",
              "F6       float64\n",
              "F7       float64\n",
              "F8         int64\n",
              "F9       float64\n",
              "F10      float64\n",
              "F11      float64\n",
              "F12      float64\n",
              "F13        int64\n",
              "F14      float64\n",
              "F15      float64\n",
              "Class       bool\n",
              "dtype: object"
            ]
          },
          "metadata": {
            "tags": []
          },
          "execution_count": 5
        }
      ]
    },
    {
      "cell_type": "code",
      "metadata": {
        "colab": {
          "base_uri": "https://localhost:8080/",
          "height": 419
        },
        "id": "M4kP77_OV-na",
        "outputId": "7bc5ca21-2e56-42ab-d068-7d4ea6788169"
      },
      "source": [
        "cleanup = {'Class': {False: 0, True:1}}\r\n",
        "data.replace(cleanup, inplace=True)\r\n",
        "data"
      ],
      "execution_count": 6,
      "outputs": [
        {
          "output_type": "execute_result",
          "data": {
            "text/html": [
              "<div>\n",
              "<style scoped>\n",
              "    .dataframe tbody tr th:only-of-type {\n",
              "        vertical-align: middle;\n",
              "    }\n",
              "\n",
              "    .dataframe tbody tr th {\n",
              "        vertical-align: top;\n",
              "    }\n",
              "\n",
              "    .dataframe thead th {\n",
              "        text-align: right;\n",
              "    }\n",
              "</style>\n",
              "<table border=\"1\" class=\"dataframe\">\n",
              "  <thead>\n",
              "    <tr style=\"text-align: right;\">\n",
              "      <th></th>\n",
              "      <th>F1</th>\n",
              "      <th>F2</th>\n",
              "      <th>F3</th>\n",
              "      <th>F4</th>\n",
              "      <th>F5</th>\n",
              "      <th>F6</th>\n",
              "      <th>F7</th>\n",
              "      <th>F8</th>\n",
              "      <th>F9</th>\n",
              "      <th>F10</th>\n",
              "      <th>F11</th>\n",
              "      <th>F12</th>\n",
              "      <th>F13</th>\n",
              "      <th>F14</th>\n",
              "      <th>F15</th>\n",
              "      <th>Class</th>\n",
              "    </tr>\n",
              "  </thead>\n",
              "  <tbody>\n",
              "    <tr>\n",
              "      <th>0</th>\n",
              "      <td>11.7</td>\n",
              "      <td>4.02</td>\n",
              "      <td>-4.34</td>\n",
              "      <td>9.90</td>\n",
              "      <td>29.79</td>\n",
              "      <td>89.58</td>\n",
              "      <td>0.63</td>\n",
              "      <td>23</td>\n",
              "      <td>10.35</td>\n",
              "      <td>158.56</td>\n",
              "      <td>-7.88</td>\n",
              "      <td>0.03</td>\n",
              "      <td>1</td>\n",
              "      <td>1.96</td>\n",
              "      <td>NaN</td>\n",
              "      <td>0</td>\n",
              "    </tr>\n",
              "    <tr>\n",
              "      <th>1</th>\n",
              "      <td>11.7</td>\n",
              "      <td>4.20</td>\n",
              "      <td>-3.68</td>\n",
              "      <td>10.98</td>\n",
              "      <td>17.46</td>\n",
              "      <td>179.58</td>\n",
              "      <td>0.05</td>\n",
              "      <td>11</td>\n",
              "      <td>8.30</td>\n",
              "      <td>110.56</td>\n",
              "      <td>-3.10</td>\n",
              "      <td>0.84</td>\n",
              "      <td>1</td>\n",
              "      <td>1.50</td>\n",
              "      <td>NaN</td>\n",
              "      <td>0</td>\n",
              "    </tr>\n",
              "    <tr>\n",
              "      <th>2</th>\n",
              "      <td>37.7</td>\n",
              "      <td>25.80</td>\n",
              "      <td>3.60</td>\n",
              "      <td>0.48</td>\n",
              "      <td>12.24</td>\n",
              "      <td>407.58</td>\n",
              "      <td>-0.29</td>\n",
              "      <td>230</td>\n",
              "      <td>4.06</td>\n",
              "      <td>254.56</td>\n",
              "      <td>6.68</td>\n",
              "      <td>21.60</td>\n",
              "      <td>10</td>\n",
              "      <td>7.63</td>\n",
              "      <td>NaN</td>\n",
              "      <td>1</td>\n",
              "    </tr>\n",
              "    <tr>\n",
              "      <th>3</th>\n",
              "      <td>7.7</td>\n",
              "      <td>5.40</td>\n",
              "      <td>0.30</td>\n",
              "      <td>9.42</td>\n",
              "      <td>19.86</td>\n",
              "      <td>119.58</td>\n",
              "      <td>0.29</td>\n",
              "      <td>12</td>\n",
              "      <td>7.61</td>\n",
              "      <td>66.56</td>\n",
              "      <td>-1.84</td>\n",
              "      <td>1.05</td>\n",
              "      <td>1</td>\n",
              "      <td>2.27</td>\n",
              "      <td>12.17</td>\n",
              "      <td>1</td>\n",
              "    </tr>\n",
              "    <tr>\n",
              "      <th>4</th>\n",
              "      <td>15.7</td>\n",
              "      <td>5.58</td>\n",
              "      <td>-2.58</td>\n",
              "      <td>16.34</td>\n",
              "      <td>17.49</td>\n",
              "      <td>146.58</td>\n",
              "      <td>-0.64</td>\n",
              "      <td>25</td>\n",
              "      <td>9.86</td>\n",
              "      <td>106.56</td>\n",
              "      <td>-4.36</td>\n",
              "      <td>1.68</td>\n",
              "      <td>1</td>\n",
              "      <td>1.28</td>\n",
              "      <td>NaN</td>\n",
              "      <td>0</td>\n",
              "    </tr>\n",
              "    <tr>\n",
              "      <th>...</th>\n",
              "      <td>...</td>\n",
              "      <td>...</td>\n",
              "      <td>...</td>\n",
              "      <td>...</td>\n",
              "      <td>...</td>\n",
              "      <td>...</td>\n",
              "      <td>...</td>\n",
              "      <td>...</td>\n",
              "      <td>...</td>\n",
              "      <td>...</td>\n",
              "      <td>...</td>\n",
              "      <td>...</td>\n",
              "      <td>...</td>\n",
              "      <td>...</td>\n",
              "      <td>...</td>\n",
              "      <td>...</td>\n",
              "    </tr>\n",
              "    <tr>\n",
              "      <th>1495</th>\n",
              "      <td>37.7</td>\n",
              "      <td>33.90</td>\n",
              "      <td>5.80</td>\n",
              "      <td>6.62</td>\n",
              "      <td>10.71</td>\n",
              "      <td>362.58</td>\n",
              "      <td>-1.52</td>\n",
              "      <td>165</td>\n",
              "      <td>5.52</td>\n",
              "      <td>444.56</td>\n",
              "      <td>-1.96</td>\n",
              "      <td>15.30</td>\n",
              "      <td>10</td>\n",
              "      <td>6.93</td>\n",
              "      <td>8.76</td>\n",
              "      <td>0</td>\n",
              "    </tr>\n",
              "    <tr>\n",
              "      <th>1496</th>\n",
              "      <td>17.7</td>\n",
              "      <td>29.40</td>\n",
              "      <td>8.00</td>\n",
              "      <td>-0.48</td>\n",
              "      <td>3.54</td>\n",
              "      <td>-102.42</td>\n",
              "      <td>1.17</td>\n",
              "      <td>100</td>\n",
              "      <td>3.76</td>\n",
              "      <td>304.56</td>\n",
              "      <td>6.78</td>\n",
              "      <td>29.25</td>\n",
              "      <td>10</td>\n",
              "      <td>7.53</td>\n",
              "      <td>12.19</td>\n",
              "      <td>1</td>\n",
              "    </tr>\n",
              "    <tr>\n",
              "      <th>1497</th>\n",
              "      <td>11.7</td>\n",
              "      <td>2.13</td>\n",
              "      <td>-0.92</td>\n",
              "      <td>12.12</td>\n",
              "      <td>22.65</td>\n",
              "      <td>95.58</td>\n",
              "      <td>-0.57</td>\n",
              "      <td>10</td>\n",
              "      <td>8.47</td>\n",
              "      <td>76.56</td>\n",
              "      <td>-4.76</td>\n",
              "      <td>2.34</td>\n",
              "      <td>1</td>\n",
              "      <td>1.89</td>\n",
              "      <td>NaN</td>\n",
              "      <td>1</td>\n",
              "    </tr>\n",
              "    <tr>\n",
              "      <th>1498</th>\n",
              "      <td>11.7</td>\n",
              "      <td>2.94</td>\n",
              "      <td>0.64</td>\n",
              "      <td>11.68</td>\n",
              "      <td>17.49</td>\n",
              "      <td>146.58</td>\n",
              "      <td>1.47</td>\n",
              "      <td>20</td>\n",
              "      <td>8.57</td>\n",
              "      <td>116.56</td>\n",
              "      <td>-5.00</td>\n",
              "      <td>2.67</td>\n",
              "      <td>1</td>\n",
              "      <td>1.48</td>\n",
              "      <td>11.55</td>\n",
              "      <td>0</td>\n",
              "    </tr>\n",
              "    <tr>\n",
              "      <th>1499</th>\n",
              "      <td>27.7</td>\n",
              "      <td>30.75</td>\n",
              "      <td>7.76</td>\n",
              "      <td>1.84</td>\n",
              "      <td>8.67</td>\n",
              "      <td>137.58</td>\n",
              "      <td>-2.02</td>\n",
              "      <td>80</td>\n",
              "      <td>4.04</td>\n",
              "      <td>304.56</td>\n",
              "      <td>3.90</td>\n",
              "      <td>20.40</td>\n",
              "      <td>10</td>\n",
              "      <td>6.93</td>\n",
              "      <td>10.41</td>\n",
              "      <td>0</td>\n",
              "    </tr>\n",
              "  </tbody>\n",
              "</table>\n",
              "<p>1500 rows × 16 columns</p>\n",
              "</div>"
            ],
            "text/plain": [
              "        F1     F2    F3     F4     F5  ...    F12  F13   F14    F15  Class\n",
              "0     11.7   4.02 -4.34   9.90  29.79  ...   0.03    1  1.96    NaN      0\n",
              "1     11.7   4.20 -3.68  10.98  17.46  ...   0.84    1  1.50    NaN      0\n",
              "2     37.7  25.80  3.60   0.48  12.24  ...  21.60   10  7.63    NaN      1\n",
              "3      7.7   5.40  0.30   9.42  19.86  ...   1.05    1  2.27  12.17      1\n",
              "4     15.7   5.58 -2.58  16.34  17.49  ...   1.68    1  1.28    NaN      0\n",
              "...    ...    ...   ...    ...    ...  ...    ...  ...   ...    ...    ...\n",
              "1495  37.7  33.90  5.80   6.62  10.71  ...  15.30   10  6.93   8.76      0\n",
              "1496  17.7  29.40  8.00  -0.48   3.54  ...  29.25   10  7.53  12.19      1\n",
              "1497  11.7   2.13 -0.92  12.12  22.65  ...   2.34    1  1.89    NaN      1\n",
              "1498  11.7   2.94  0.64  11.68  17.49  ...   2.67    1  1.48  11.55      0\n",
              "1499  27.7  30.75  7.76   1.84   8.67  ...  20.40   10  6.93  10.41      0\n",
              "\n",
              "[1500 rows x 16 columns]"
            ]
          },
          "metadata": {
            "tags": []
          },
          "execution_count": 6
        }
      ]
    },
    {
      "cell_type": "code",
      "metadata": {
        "id": "W13QYC7m1_f4"
      },
      "source": [
        "data['F15'].fillna(data['F15'].mean(), inplace=True)"
      ],
      "execution_count": 7,
      "outputs": []
    },
    {
      "cell_type": "code",
      "metadata": {
        "id": "U5z_zFGY8S3t"
      },
      "source": [
        "features = {'F1', 'F2', 'F3', 'F4', 'F5', 'F6', 'F7', 'F8', 'F9', 'F10', 'F11', 'F12', 'F13', 'F14', 'F15'}"
      ],
      "execution_count": 8,
      "outputs": []
    },
    {
      "cell_type": "code",
      "metadata": {
        "colab": {
          "base_uri": "https://localhost:8080/"
        },
        "id": "Vy32bw1ASHXc",
        "outputId": "9de2505d-0f55-4e5d-de66-15d94ea12d8c"
      },
      "source": [
        "x = data.loc[:, features].to_numpy()\r\n",
        "y = data.loc[:, 'Class'].to_numpy()\r\n",
        "print(x.shape, y.shape)"
      ],
      "execution_count": 9,
      "outputs": [
        {
          "output_type": "stream",
          "text": [
            "(1500, 15) (1500,)\n"
          ],
          "name": "stdout"
        }
      ]
    },
    {
      "cell_type": "code",
      "metadata": {
        "colab": {
          "base_uri": "https://localhost:8080/"
        },
        "id": "KYLyVxjMlP2k",
        "outputId": "9c9f8396-465c-4477-c30d-37e4779c7aff"
      },
      "source": [
        "x_test_data = test.loc[:, features].to_numpy()\r\n",
        "print(x.shape)"
      ],
      "execution_count": 113,
      "outputs": [
        {
          "output_type": "stream",
          "text": [
            "(1500, 15)\n"
          ],
          "name": "stdout"
        }
      ]
    },
    {
      "cell_type": "code",
      "metadata": {
        "id": "UWo-cvJ6VBLE"
      },
      "source": [
        "#preprocessing of training data\r\n",
        "k_fold = KFold(n_splits=5)\r\n",
        "x_copy = x.copy()\r\n",
        "for train_indices, test_indices in k_fold.split(x):\r\n",
        "    mean = np.nanmean(x_copy[train_indices, 1])\r\n",
        "    x[np.isnan(x_copy[:,1]), 1] = mean\r\n",
        "    ss = StandardScaler()\r\n",
        "    ss.fit(x[train_indices, :])\r\n",
        "    x_train = ss.transform(x[train_indices, :])\r\n",
        "    x_test = ss.transform(x[test_indices, :])\r\n",
        "    y_train = y[train_indices]\r\n",
        "    y_test = y[test_indices]\r\n"
      ],
      "execution_count": 85,
      "outputs": []
    },
    {
      "cell_type": "code",
      "metadata": {
        "colab": {
          "base_uri": "https://localhost:8080/"
        },
        "id": "tCeuCJMSo34e",
        "outputId": "ff4f62d5-21be-4ca0-f9a1-934642ea1770"
      },
      "source": [
        "# preprocessing of test data\r\n",
        "mean = np.nanmean(x_test_data)\r\n",
        "x_test_data[np.isnan(x_test_data)] = mean\r\n",
        "ss = StandardScaler()\r\n",
        "x_test_fitted = ss.fit_transform(x_test_data)"
      ],
      "execution_count": 116,
      "outputs": [
        {
          "output_type": "execute_result",
          "data": {
            "text/plain": [
              "array([[ 0.99831561,  0.47974147,  0.68507474, ...,  1.38202115,\n",
              "        -1.16612175,  0.91915283],\n",
              "       [ 0.99831561, -0.76910679,  0.35049551, ...,  0.69669145,\n",
              "        -1.2059563 ,  0.11789639],\n",
              "       [-0.8054123 ,  0.9103788 ,  0.58324628, ...,  0.17398236,\n",
              "        -0.61242159, -0.82904305],\n",
              "       ...,\n",
              "       [-0.9227573 , -0.44182242, -0.93254311, ..., -1.15021399,\n",
              "         1.39125597, -0.69792836],\n",
              "       [ 0.99831561, -0.78633228, -0.87435542, ..., -1.05031848,\n",
              "         0.4631111 , -0.85817964],\n",
              "       [-1.07813827,  0.26442281,  1.1651232 , ...,  2.38097629,\n",
              "        -0.01091998,  0.48210386]])"
            ]
          },
          "metadata": {
            "tags": []
          },
          "execution_count": 116
        }
      ]
    },
    {
      "cell_type": "code",
      "metadata": {
        "colab": {
          "base_uri": "https://localhost:8080/"
        },
        "id": "W9ZvllrXmYEx",
        "outputId": "8ea5e9f0-bbf2-4950-b26b-3fa7b7001842"
      },
      "source": [
        "print(x_train_test.shape, x_test_test.shape)\r\n",
        "print(x_test_fitted.shape)"
      ],
      "execution_count": 118,
      "outputs": [
        {
          "output_type": "stream",
          "text": [
            "(1200, 15) (1200, 15)\n",
            "(1500, 15)\n"
          ],
          "name": "stdout"
        }
      ]
    },
    {
      "cell_type": "markdown",
      "metadata": {
        "id": "-ZTeAkuIUrzf"
      },
      "source": [
        "## a) Investigate the performance of a number of machine learning procedures on this dataset."
      ]
    },
    {
      "cell_type": "markdown",
      "metadata": {
        "id": "7OaeWqMQU6vN"
      },
      "source": [
        "### Decision Tree classifier"
      ]
    },
    {
      "cell_type": "code",
      "metadata": {
        "colab": {
          "base_uri": "https://localhost:8080/"
        },
        "id": "77xI-5XMUrk2",
        "outputId": "18b87170-2f18-453b-ec9d-eda688ca9471"
      },
      "source": [
        "model_dt = DecisionTreeClassifier()\r\n",
        "model_dt.fit(x_train, y_train)\r\n",
        "dt_pred = model_dt.predict(x_test)\r\n",
        "print(confusion_matrix(y_test, dt_pred), '\\n', classification_report(y_test, dt_pred))"
      ],
      "execution_count": 35,
      "outputs": [
        {
          "output_type": "stream",
          "text": [
            "[[133  38]\n",
            " [ 31  98]] \n",
            "               precision    recall  f1-score   support\n",
            "\n",
            "           0       0.81      0.78      0.79       171\n",
            "           1       0.72      0.76      0.74       129\n",
            "\n",
            "    accuracy                           0.77       300\n",
            "   macro avg       0.77      0.77      0.77       300\n",
            "weighted avg       0.77      0.77      0.77       300\n",
            "\n"
          ],
          "name": "stdout"
        }
      ]
    },
    {
      "cell_type": "markdown",
      "metadata": {
        "id": "mPoxE74WjrNI"
      },
      "source": [
        "#### Tuned Decision Tree classifier"
      ]
    },
    {
      "cell_type": "code",
      "metadata": {
        "colab": {
          "base_uri": "https://localhost:8080/"
        },
        "id": "UfC_DDwrhvpx",
        "outputId": "2a0a5580-af86-47ed-9f67-61a41c7a6a5f"
      },
      "source": [
        "dt_param_grid = (dict(min_samples_split=list(range(2,51))))\r\n",
        "dt_cv = GridSearchCV(model_dt, dt_param_grid, refit=True)\r\n",
        "# dt_cv.get_params()\r\n",
        "dt_cv.fit(x_train, y_train)\r\n",
        "print(dt_cv.best_params_, dt_cv.best_score_)\r\n",
        "dt_cv_pred = dt_cv.predict(x_test)\r\n",
        "print(confusion_matrix(y_test, dt_cv_pred), '\\n', classification_report(y_test, dt_cv_pred))"
      ],
      "execution_count": 64,
      "outputs": [
        {
          "output_type": "stream",
          "text": [
            "{'min_samples_split': 35} 0.7883333333333333\n",
            "[[143  28]\n",
            " [ 30  99]] \n",
            "               precision    recall  f1-score   support\n",
            "\n",
            "           0       0.83      0.84      0.83       171\n",
            "           1       0.78      0.77      0.77       129\n",
            "\n",
            "    accuracy                           0.81       300\n",
            "   macro avg       0.80      0.80      0.80       300\n",
            "weighted avg       0.81      0.81      0.81       300\n",
            "\n"
          ],
          "name": "stdout"
        }
      ]
    },
    {
      "cell_type": "markdown",
      "metadata": {
        "id": "vAqiDwJ9YlAY"
      },
      "source": [
        "### KNN classifier"
      ]
    },
    {
      "cell_type": "code",
      "metadata": {
        "colab": {
          "base_uri": "https://localhost:8080/"
        },
        "id": "DHsW-ooqYoh8",
        "outputId": "bcebe1fb-c734-4522-f203-90d0db556eba"
      },
      "source": [
        "model_knn = KNeighborsClassifier()\r\n",
        "model_knn.fit(x_train, y_train)\r\n",
        "knn_pred = model_knn.predict(x_test)\r\n",
        "print(confusion_matrix(y_test, knn_pred), '\\n', classification_report(y_test, knn_pred))"
      ],
      "execution_count": 36,
      "outputs": [
        {
          "output_type": "stream",
          "text": [
            "[[139  32]\n",
            " [ 47  82]] \n",
            "               precision    recall  f1-score   support\n",
            "\n",
            "           0       0.75      0.81      0.78       171\n",
            "           1       0.72      0.64      0.67       129\n",
            "\n",
            "    accuracy                           0.74       300\n",
            "   macro avg       0.73      0.72      0.73       300\n",
            "weighted avg       0.74      0.74      0.73       300\n",
            "\n"
          ],
          "name": "stdout"
        }
      ]
    },
    {
      "cell_type": "markdown",
      "metadata": {
        "id": "bLkDBPC5fz3A"
      },
      "source": [
        "#### Tuned KNN classifier"
      ]
    },
    {
      "cell_type": "code",
      "metadata": {
        "colab": {
          "base_uri": "https://localhost:8080/"
        },
        "id": "ib5CWuHSdNjR",
        "outputId": "c06553a3-70ef-49bc-ebb5-9cab873be928"
      },
      "source": [
        "knn_param_grid = dict(n_neighbors=list(range(1,31)))\r\n",
        "knn_cv = GridSearchCV(model_knn, knn_param_grid, refit=True)\r\n",
        "# knn_cv.get_params()\r\n",
        "knn_cv.fit(x_train, y_train)\r\n",
        "print(knn_cv.best_params_, knn_cv.best_score_)\r\n",
        "knn_cv_pred = knn_cv.predict(x_test)\r\n",
        "print(confusion_matrix(y_test, knn_cv_pred), '\\n', classification_report(y_test, knn_cv_pred))"
      ],
      "execution_count": 52,
      "outputs": [
        {
          "output_type": "stream",
          "text": [
            "{'n_neighbors': 29} 0.7666666666666666\n",
            "[[145  26]\n",
            " [ 33  96]] \n",
            "               precision    recall  f1-score   support\n",
            "\n",
            "           0       0.81      0.85      0.83       171\n",
            "           1       0.79      0.74      0.76       129\n",
            "\n",
            "    accuracy                           0.80       300\n",
            "   macro avg       0.80      0.80      0.80       300\n",
            "weighted avg       0.80      0.80      0.80       300\n",
            "\n"
          ],
          "name": "stdout"
        }
      ]
    },
    {
      "cell_type": "markdown",
      "metadata": {
        "id": "9yZLRMakZ6Nd"
      },
      "source": [
        "### Support Vector classifier"
      ]
    },
    {
      "cell_type": "code",
      "metadata": {
        "colab": {
          "base_uri": "https://localhost:8080/"
        },
        "id": "d2AyXk_UZvka",
        "outputId": "b5e13bc3-fa7d-4d78-95f4-480f349591e6"
      },
      "source": [
        "model_svc = SVC()\r\n",
        "model_svc.fit(x_train, y_train)\r\n",
        "svc_pred = model_svc.predict(x_test)\r\n",
        "print(confusion_matrix(y_test, svc_pred), '\\n', classification_report(y_test, svc_pred))"
      ],
      "execution_count": 37,
      "outputs": [
        {
          "output_type": "stream",
          "text": [
            "[[137  34]\n",
            " [ 20 109]] \n",
            "               precision    recall  f1-score   support\n",
            "\n",
            "           0       0.87      0.80      0.84       171\n",
            "           1       0.76      0.84      0.80       129\n",
            "\n",
            "    accuracy                           0.82       300\n",
            "   macro avg       0.82      0.82      0.82       300\n",
            "weighted avg       0.83      0.82      0.82       300\n",
            "\n"
          ],
          "name": "stdout"
        }
      ]
    },
    {
      "cell_type": "markdown",
      "metadata": {
        "id": "oXigTkRugOyA"
      },
      "source": [
        "#### Tuned Support Vector classifier"
      ]
    },
    {
      "cell_type": "code",
      "metadata": {
        "colab": {
          "base_uri": "https://localhost:8080/"
        },
        "id": "CBLL9pmrcV9x",
        "outputId": "083f6bc1-18ee-476e-a45e-2211579f6072"
      },
      "source": [
        "svc_param_grid = {'C':[1,10,100,1000],\r\n",
        "              'gamma':[1,0.1,0.001,0.0001],\r\n",
        "              'kernel': ['rbf']}\r\n",
        "svc_cv = GridSearchCV(SVC(), svc_param_grid, refit=True)\r\n",
        "# svc_cv.get_params()\r\n",
        "svc_cv.fit(x_train, y_train)\r\n",
        "print(svc_cv.best_params_, svc_cv.best_score_)\r\n",
        "svc_cv_pred = svc_cv.predict(x_test)\r\n",
        "print(confusion_matrix(y_test, svc_cv_pred), '\\n', classification_report(y_test, svc_cv_pred))"
      ],
      "execution_count": 53,
      "outputs": [
        {
          "output_type": "stream",
          "text": [
            "{'C': 1000, 'gamma': 0.001, 'kernel': 'rbf'} 0.8675\n",
            "[[152  19]\n",
            " [ 18 111]] \n",
            "               precision    recall  f1-score   support\n",
            "\n",
            "           0       0.89      0.89      0.89       171\n",
            "           1       0.85      0.86      0.86       129\n",
            "\n",
            "    accuracy                           0.88       300\n",
            "   macro avg       0.87      0.87      0.87       300\n",
            "weighted avg       0.88      0.88      0.88       300\n",
            "\n"
          ],
          "name": "stdout"
        }
      ]
    },
    {
      "cell_type": "markdown",
      "metadata": {
        "id": "LtUqrDDqk-TE"
      },
      "source": [
        "## b) Prediction on a hold-out test set"
      ]
    },
    {
      "cell_type": "markdown",
      "metadata": {
        "id": "0lxf8irNlBDY"
      },
      "source": [
        "### Tuned Support Vector classifier"
      ]
    },
    {
      "cell_type": "code",
      "metadata": {
        "id": "gZY7fhghlESX"
      },
      "source": [
        "y_test = svc_cv.predict(x_test_fitted)\r\n",
        "test['Class'] = y_test"
      ],
      "execution_count": 128,
      "outputs": []
    },
    {
      "cell_type": "code",
      "metadata": {
        "colab": {
          "base_uri": "https://localhost:8080/",
          "height": 142
        },
        "id": "n5tcFKHEq8yA",
        "outputId": "814344dc-50b6-4bb9-9f85-f353d8638721"
      },
      "source": [
        "test.groupby('Class').count()"
      ],
      "execution_count": 129,
      "outputs": [
        {
          "output_type": "execute_result",
          "data": {
            "text/html": [
              "<div>\n",
              "<style scoped>\n",
              "    .dataframe tbody tr th:only-of-type {\n",
              "        vertical-align: middle;\n",
              "    }\n",
              "\n",
              "    .dataframe tbody tr th {\n",
              "        vertical-align: top;\n",
              "    }\n",
              "\n",
              "    .dataframe thead th {\n",
              "        text-align: right;\n",
              "    }\n",
              "</style>\n",
              "<table border=\"1\" class=\"dataframe\">\n",
              "  <thead>\n",
              "    <tr style=\"text-align: right;\">\n",
              "      <th></th>\n",
              "      <th>F1</th>\n",
              "      <th>F2</th>\n",
              "      <th>F3</th>\n",
              "      <th>F4</th>\n",
              "      <th>F5</th>\n",
              "      <th>F6</th>\n",
              "      <th>F7</th>\n",
              "      <th>F8</th>\n",
              "      <th>F9</th>\n",
              "      <th>F10</th>\n",
              "      <th>F11</th>\n",
              "      <th>F12</th>\n",
              "      <th>F13</th>\n",
              "      <th>F14</th>\n",
              "      <th>F15</th>\n",
              "    </tr>\n",
              "    <tr>\n",
              "      <th>Class</th>\n",
              "      <th></th>\n",
              "      <th></th>\n",
              "      <th></th>\n",
              "      <th></th>\n",
              "      <th></th>\n",
              "      <th></th>\n",
              "      <th></th>\n",
              "      <th></th>\n",
              "      <th></th>\n",
              "      <th></th>\n",
              "      <th></th>\n",
              "      <th></th>\n",
              "      <th></th>\n",
              "      <th></th>\n",
              "      <th></th>\n",
              "    </tr>\n",
              "  </thead>\n",
              "  <tbody>\n",
              "    <tr>\n",
              "      <th>0</th>\n",
              "      <td>840</td>\n",
              "      <td>840</td>\n",
              "      <td>840</td>\n",
              "      <td>840</td>\n",
              "      <td>840</td>\n",
              "      <td>840</td>\n",
              "      <td>840</td>\n",
              "      <td>840</td>\n",
              "      <td>840</td>\n",
              "      <td>840</td>\n",
              "      <td>840</td>\n",
              "      <td>840</td>\n",
              "      <td>840</td>\n",
              "      <td>840</td>\n",
              "      <td>607</td>\n",
              "    </tr>\n",
              "    <tr>\n",
              "      <th>1</th>\n",
              "      <td>660</td>\n",
              "      <td>660</td>\n",
              "      <td>660</td>\n",
              "      <td>660</td>\n",
              "      <td>660</td>\n",
              "      <td>660</td>\n",
              "      <td>660</td>\n",
              "      <td>660</td>\n",
              "      <td>660</td>\n",
              "      <td>660</td>\n",
              "      <td>660</td>\n",
              "      <td>660</td>\n",
              "      <td>660</td>\n",
              "      <td>660</td>\n",
              "      <td>143</td>\n",
              "    </tr>\n",
              "  </tbody>\n",
              "</table>\n",
              "</div>"
            ],
            "text/plain": [
              "        F1   F2   F3   F4   F5   F6   F7  ...   F9  F10  F11  F12  F13  F14  F15\n",
              "Class                                     ...                                   \n",
              "0      840  840  840  840  840  840  840  ...  840  840  840  840  840  840  607\n",
              "1      660  660  660  660  660  660  660  ...  660  660  660  660  660  660  143\n",
              "\n",
              "[2 rows x 15 columns]"
            ]
          },
          "metadata": {
            "tags": []
          },
          "execution_count": 129
        }
      ]
    },
    {
      "cell_type": "code",
      "metadata": {
        "id": "E8oY23hqrAq9"
      },
      "source": [
        "test.to_csv('CE802_P2_Test_Ouput.csv') #Change file name"
      ],
      "execution_count": 132,
      "outputs": []
    }
  ]
}