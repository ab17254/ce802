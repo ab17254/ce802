{
  "nbformat": 4,
  "nbformat_minor": 0,
  "metadata": {
    "colab": {
      "name": "CE802_P2_Notebook.ipynb",
      "provenance": [],
      "authorship_tag": "ABX9TyMX2MpnQT8NO9CC+2z+x8Uy",
      "include_colab_link": true
    },
    "kernelspec": {
      "name": "python3",
      "display_name": "Python 3"
    }
  },
  "cells": [
    {
      "cell_type": "markdown",
      "metadata": {
        "id": "view-in-github",
        "colab_type": "text"
      },
      "source": [
        "<a href=\"https://colab.research.google.com/github/ab17254/ce802/blob/main/CE802_P2_Notebook.ipynb\" target=\"_parent\"><img src=\"https://colab.research.google.com/assets/colab-badge.svg\" alt=\"Open In Colab\"/></a>"
      ]
    },
    {
      "cell_type": "code",
      "metadata": {
        "id": "Q06TM-PdSOHl"
      },
      "source": [
        "import numpy as np\r\n",
        "import pandas as pd\r\n",
        "import matplotlib.pyplot as plt\r\n",
        "import seaborn as sns\r\n",
        "from sklearn.model_selection import KFold, cross_val_score\r\n",
        "from sklearn.preprocessing import StandardScaler\r\n",
        "from sklearn.tree import DecisionTreeClassifier\r\n",
        "from sklearn.impute import SimpleImputer\r\n",
        "from sklearn.model_selection import train_test_split, GridSearchCV\r\n",
        "from sklearn import tree, metrics\r\n",
        "from sklearn.metrics import classification_report, confusion_matrix, f1_score, make_scorer\r\n",
        "from sklearn.neighbors import KNeighborsClassifier\r\n"
      ],
      "execution_count": 96,
      "outputs": []
    },
    {
      "cell_type": "code",
      "metadata": {
        "colab": {
          "resources": {
            "http://localhost:8080/nbextensions/google.colab/files.js": {
              "data": "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",
              "ok": true,
              "headers": [
                [
                  "content-type",
                  "application/javascript"
                ]
              ],
              "status": 200,
              "status_text": ""
            }
          },
          "base_uri": "https://localhost:8080/",
          "height": 140
        },
        "id": "zqR3QVbBU1Q0",
        "outputId": "42cb3295-e1f1-4807-a60d-7d3eeb1087d4"
      },
      "source": [
        "from google.colab import files\r\n",
        "\r\n",
        "uploaded = files.upload()\r\n",
        "\r\n",
        "for fn in uploaded.keys():\r\n",
        "  print('User uploaded file \"{name}\" with length {length} bytes'.format(\r\n",
        "      name=fn, length=len(uploaded[fn])))"
      ],
      "execution_count": 2,
      "outputs": [
        {
          "output_type": "display_data",
          "data": {
            "text/html": [
              "\n",
              "     <input type=\"file\" id=\"files-5723b6ff-d8ed-4710-aa74-49dce30d4735\" name=\"files[]\" multiple disabled\n",
              "        style=\"border:none\" />\n",
              "     <output id=\"result-5723b6ff-d8ed-4710-aa74-49dce30d4735\">\n",
              "      Upload widget is only available when the cell has been executed in the\n",
              "      current browser session. Please rerun this cell to enable.\n",
              "      </output>\n",
              "      <script src=\"/nbextensions/google.colab/files.js\"></script> "
            ],
            "text/plain": [
              "<IPython.core.display.HTML object>"
            ]
          },
          "metadata": {
            "tags": []
          }
        },
        {
          "output_type": "stream",
          "text": [
            "Saving CE802_P2_Data.csv to CE802_P2_Data.csv\n",
            "Saving CE802_P2_Test.csv to CE802_P2_Test.csv\n",
            "User uploaded file \"CE802_P2_Data.csv\" with length 119990 bytes\n",
            "User uploaded file \"CE802_P2_Test.csv\" with length 113062 bytes\n"
          ],
          "name": "stdout"
        }
      ]
    },
    {
      "cell_type": "code",
      "metadata": {
        "colab": {
          "base_uri": "https://localhost:8080/",
          "height": 204
        },
        "id": "MuVYlCR5VtEl",
        "outputId": "9ff8f764-eeab-4027-f118-69c8875546f4"
      },
      "source": [
        "data = pd.read_csv('/content/CE802_P2_Data.csv')\r\n",
        "data.head()"
      ],
      "execution_count": 3,
      "outputs": [
        {
          "output_type": "execute_result",
          "data": {
            "text/html": [
              "<div>\n",
              "<style scoped>\n",
              "    .dataframe tbody tr th:only-of-type {\n",
              "        vertical-align: middle;\n",
              "    }\n",
              "\n",
              "    .dataframe tbody tr th {\n",
              "        vertical-align: top;\n",
              "    }\n",
              "\n",
              "    .dataframe thead th {\n",
              "        text-align: right;\n",
              "    }\n",
              "</style>\n",
              "<table border=\"1\" class=\"dataframe\">\n",
              "  <thead>\n",
              "    <tr style=\"text-align: right;\">\n",
              "      <th></th>\n",
              "      <th>F1</th>\n",
              "      <th>F2</th>\n",
              "      <th>F3</th>\n",
              "      <th>F4</th>\n",
              "      <th>F5</th>\n",
              "      <th>F6</th>\n",
              "      <th>F7</th>\n",
              "      <th>F8</th>\n",
              "      <th>F9</th>\n",
              "      <th>F10</th>\n",
              "      <th>F11</th>\n",
              "      <th>F12</th>\n",
              "      <th>F13</th>\n",
              "      <th>F14</th>\n",
              "      <th>F15</th>\n",
              "      <th>Class</th>\n",
              "    </tr>\n",
              "  </thead>\n",
              "  <tbody>\n",
              "    <tr>\n",
              "      <th>0</th>\n",
              "      <td>11.7</td>\n",
              "      <td>4.02</td>\n",
              "      <td>-4.34</td>\n",
              "      <td>9.90</td>\n",
              "      <td>29.79</td>\n",
              "      <td>89.58</td>\n",
              "      <td>0.63</td>\n",
              "      <td>23</td>\n",
              "      <td>10.35</td>\n",
              "      <td>158.56</td>\n",
              "      <td>-7.88</td>\n",
              "      <td>0.03</td>\n",
              "      <td>1</td>\n",
              "      <td>1.96</td>\n",
              "      <td>NaN</td>\n",
              "      <td>False</td>\n",
              "    </tr>\n",
              "    <tr>\n",
              "      <th>1</th>\n",
              "      <td>11.7</td>\n",
              "      <td>4.20</td>\n",
              "      <td>-3.68</td>\n",
              "      <td>10.98</td>\n",
              "      <td>17.46</td>\n",
              "      <td>179.58</td>\n",
              "      <td>0.05</td>\n",
              "      <td>11</td>\n",
              "      <td>8.30</td>\n",
              "      <td>110.56</td>\n",
              "      <td>-3.10</td>\n",
              "      <td>0.84</td>\n",
              "      <td>1</td>\n",
              "      <td>1.50</td>\n",
              "      <td>NaN</td>\n",
              "      <td>False</td>\n",
              "    </tr>\n",
              "    <tr>\n",
              "      <th>2</th>\n",
              "      <td>37.7</td>\n",
              "      <td>25.80</td>\n",
              "      <td>3.60</td>\n",
              "      <td>0.48</td>\n",
              "      <td>12.24</td>\n",
              "      <td>407.58</td>\n",
              "      <td>-0.29</td>\n",
              "      <td>230</td>\n",
              "      <td>4.06</td>\n",
              "      <td>254.56</td>\n",
              "      <td>6.68</td>\n",
              "      <td>21.60</td>\n",
              "      <td>10</td>\n",
              "      <td>7.63</td>\n",
              "      <td>NaN</td>\n",
              "      <td>True</td>\n",
              "    </tr>\n",
              "    <tr>\n",
              "      <th>3</th>\n",
              "      <td>7.7</td>\n",
              "      <td>5.40</td>\n",
              "      <td>0.30</td>\n",
              "      <td>9.42</td>\n",
              "      <td>19.86</td>\n",
              "      <td>119.58</td>\n",
              "      <td>0.29</td>\n",
              "      <td>12</td>\n",
              "      <td>7.61</td>\n",
              "      <td>66.56</td>\n",
              "      <td>-1.84</td>\n",
              "      <td>1.05</td>\n",
              "      <td>1</td>\n",
              "      <td>2.27</td>\n",
              "      <td>12.17</td>\n",
              "      <td>True</td>\n",
              "    </tr>\n",
              "    <tr>\n",
              "      <th>4</th>\n",
              "      <td>15.7</td>\n",
              "      <td>5.58</td>\n",
              "      <td>-2.58</td>\n",
              "      <td>16.34</td>\n",
              "      <td>17.49</td>\n",
              "      <td>146.58</td>\n",
              "      <td>-0.64</td>\n",
              "      <td>25</td>\n",
              "      <td>9.86</td>\n",
              "      <td>106.56</td>\n",
              "      <td>-4.36</td>\n",
              "      <td>1.68</td>\n",
              "      <td>1</td>\n",
              "      <td>1.28</td>\n",
              "      <td>NaN</td>\n",
              "      <td>False</td>\n",
              "    </tr>\n",
              "  </tbody>\n",
              "</table>\n",
              "</div>"
            ],
            "text/plain": [
              "     F1     F2    F3     F4     F5  ...    F12  F13   F14    F15  Class\n",
              "0  11.7   4.02 -4.34   9.90  29.79  ...   0.03    1  1.96    NaN  False\n",
              "1  11.7   4.20 -3.68  10.98  17.46  ...   0.84    1  1.50    NaN  False\n",
              "2  37.7  25.80  3.60   0.48  12.24  ...  21.60   10  7.63    NaN   True\n",
              "3   7.7   5.40  0.30   9.42  19.86  ...   1.05    1  2.27  12.17   True\n",
              "4  15.7   5.58 -2.58  16.34  17.49  ...   1.68    1  1.28    NaN  False\n",
              "\n",
              "[5 rows x 16 columns]"
            ]
          },
          "metadata": {
            "tags": []
          },
          "execution_count": 3
        }
      ]
    },
    {
      "cell_type": "code",
      "metadata": {
        "colab": {
          "base_uri": "https://localhost:8080/"
        },
        "id": "MbIDty-UWQye",
        "outputId": "09b65ec0-799b-435e-9478-189f664b3254"
      },
      "source": [
        "data.dtypes"
      ],
      "execution_count": 4,
      "outputs": [
        {
          "output_type": "execute_result",
          "data": {
            "text/plain": [
              "F1       float64\n",
              "F2       float64\n",
              "F3       float64\n",
              "F4       float64\n",
              "F5       float64\n",
              "F6       float64\n",
              "F7       float64\n",
              "F8         int64\n",
              "F9       float64\n",
              "F10      float64\n",
              "F11      float64\n",
              "F12      float64\n",
              "F13        int64\n",
              "F14      float64\n",
              "F15      float64\n",
              "Class       bool\n",
              "dtype: object"
            ]
          },
          "metadata": {
            "tags": []
          },
          "execution_count": 4
        }
      ]
    },
    {
      "cell_type": "code",
      "metadata": {
        "colab": {
          "base_uri": "https://localhost:8080/",
          "height": 419
        },
        "id": "M4kP77_OV-na",
        "outputId": "cfece875-55b5-4a12-f62b-53706c8db854"
      },
      "source": [
        "cleanup = {'Class': {False: 0, True:1}}\r\n",
        "data.replace(cleanup, inplace=True)\r\n",
        "data"
      ],
      "execution_count": 5,
      "outputs": [
        {
          "output_type": "execute_result",
          "data": {
            "text/html": [
              "<div>\n",
              "<style scoped>\n",
              "    .dataframe tbody tr th:only-of-type {\n",
              "        vertical-align: middle;\n",
              "    }\n",
              "\n",
              "    .dataframe tbody tr th {\n",
              "        vertical-align: top;\n",
              "    }\n",
              "\n",
              "    .dataframe thead th {\n",
              "        text-align: right;\n",
              "    }\n",
              "</style>\n",
              "<table border=\"1\" class=\"dataframe\">\n",
              "  <thead>\n",
              "    <tr style=\"text-align: right;\">\n",
              "      <th></th>\n",
              "      <th>F1</th>\n",
              "      <th>F2</th>\n",
              "      <th>F3</th>\n",
              "      <th>F4</th>\n",
              "      <th>F5</th>\n",
              "      <th>F6</th>\n",
              "      <th>F7</th>\n",
              "      <th>F8</th>\n",
              "      <th>F9</th>\n",
              "      <th>F10</th>\n",
              "      <th>F11</th>\n",
              "      <th>F12</th>\n",
              "      <th>F13</th>\n",
              "      <th>F14</th>\n",
              "      <th>F15</th>\n",
              "      <th>Class</th>\n",
              "    </tr>\n",
              "  </thead>\n",
              "  <tbody>\n",
              "    <tr>\n",
              "      <th>0</th>\n",
              "      <td>11.7</td>\n",
              "      <td>4.02</td>\n",
              "      <td>-4.34</td>\n",
              "      <td>9.90</td>\n",
              "      <td>29.79</td>\n",
              "      <td>89.58</td>\n",
              "      <td>0.63</td>\n",
              "      <td>23</td>\n",
              "      <td>10.35</td>\n",
              "      <td>158.56</td>\n",
              "      <td>-7.88</td>\n",
              "      <td>0.03</td>\n",
              "      <td>1</td>\n",
              "      <td>1.96</td>\n",
              "      <td>NaN</td>\n",
              "      <td>0</td>\n",
              "    </tr>\n",
              "    <tr>\n",
              "      <th>1</th>\n",
              "      <td>11.7</td>\n",
              "      <td>4.20</td>\n",
              "      <td>-3.68</td>\n",
              "      <td>10.98</td>\n",
              "      <td>17.46</td>\n",
              "      <td>179.58</td>\n",
              "      <td>0.05</td>\n",
              "      <td>11</td>\n",
              "      <td>8.30</td>\n",
              "      <td>110.56</td>\n",
              "      <td>-3.10</td>\n",
              "      <td>0.84</td>\n",
              "      <td>1</td>\n",
              "      <td>1.50</td>\n",
              "      <td>NaN</td>\n",
              "      <td>0</td>\n",
              "    </tr>\n",
              "    <tr>\n",
              "      <th>2</th>\n",
              "      <td>37.7</td>\n",
              "      <td>25.80</td>\n",
              "      <td>3.60</td>\n",
              "      <td>0.48</td>\n",
              "      <td>12.24</td>\n",
              "      <td>407.58</td>\n",
              "      <td>-0.29</td>\n",
              "      <td>230</td>\n",
              "      <td>4.06</td>\n",
              "      <td>254.56</td>\n",
              "      <td>6.68</td>\n",
              "      <td>21.60</td>\n",
              "      <td>10</td>\n",
              "      <td>7.63</td>\n",
              "      <td>NaN</td>\n",
              "      <td>1</td>\n",
              "    </tr>\n",
              "    <tr>\n",
              "      <th>3</th>\n",
              "      <td>7.7</td>\n",
              "      <td>5.40</td>\n",
              "      <td>0.30</td>\n",
              "      <td>9.42</td>\n",
              "      <td>19.86</td>\n",
              "      <td>119.58</td>\n",
              "      <td>0.29</td>\n",
              "      <td>12</td>\n",
              "      <td>7.61</td>\n",
              "      <td>66.56</td>\n",
              "      <td>-1.84</td>\n",
              "      <td>1.05</td>\n",
              "      <td>1</td>\n",
              "      <td>2.27</td>\n",
              "      <td>12.17</td>\n",
              "      <td>1</td>\n",
              "    </tr>\n",
              "    <tr>\n",
              "      <th>4</th>\n",
              "      <td>15.7</td>\n",
              "      <td>5.58</td>\n",
              "      <td>-2.58</td>\n",
              "      <td>16.34</td>\n",
              "      <td>17.49</td>\n",
              "      <td>146.58</td>\n",
              "      <td>-0.64</td>\n",
              "      <td>25</td>\n",
              "      <td>9.86</td>\n",
              "      <td>106.56</td>\n",
              "      <td>-4.36</td>\n",
              "      <td>1.68</td>\n",
              "      <td>1</td>\n",
              "      <td>1.28</td>\n",
              "      <td>NaN</td>\n",
              "      <td>0</td>\n",
              "    </tr>\n",
              "    <tr>\n",
              "      <th>...</th>\n",
              "      <td>...</td>\n",
              "      <td>...</td>\n",
              "      <td>...</td>\n",
              "      <td>...</td>\n",
              "      <td>...</td>\n",
              "      <td>...</td>\n",
              "      <td>...</td>\n",
              "      <td>...</td>\n",
              "      <td>...</td>\n",
              "      <td>...</td>\n",
              "      <td>...</td>\n",
              "      <td>...</td>\n",
              "      <td>...</td>\n",
              "      <td>...</td>\n",
              "      <td>...</td>\n",
              "      <td>...</td>\n",
              "    </tr>\n",
              "    <tr>\n",
              "      <th>1495</th>\n",
              "      <td>37.7</td>\n",
              "      <td>33.90</td>\n",
              "      <td>5.80</td>\n",
              "      <td>6.62</td>\n",
              "      <td>10.71</td>\n",
              "      <td>362.58</td>\n",
              "      <td>-1.52</td>\n",
              "      <td>165</td>\n",
              "      <td>5.52</td>\n",
              "      <td>444.56</td>\n",
              "      <td>-1.96</td>\n",
              "      <td>15.30</td>\n",
              "      <td>10</td>\n",
              "      <td>6.93</td>\n",
              "      <td>8.76</td>\n",
              "      <td>0</td>\n",
              "    </tr>\n",
              "    <tr>\n",
              "      <th>1496</th>\n",
              "      <td>17.7</td>\n",
              "      <td>29.40</td>\n",
              "      <td>8.00</td>\n",
              "      <td>-0.48</td>\n",
              "      <td>3.54</td>\n",
              "      <td>-102.42</td>\n",
              "      <td>1.17</td>\n",
              "      <td>100</td>\n",
              "      <td>3.76</td>\n",
              "      <td>304.56</td>\n",
              "      <td>6.78</td>\n",
              "      <td>29.25</td>\n",
              "      <td>10</td>\n",
              "      <td>7.53</td>\n",
              "      <td>12.19</td>\n",
              "      <td>1</td>\n",
              "    </tr>\n",
              "    <tr>\n",
              "      <th>1497</th>\n",
              "      <td>11.7</td>\n",
              "      <td>2.13</td>\n",
              "      <td>-0.92</td>\n",
              "      <td>12.12</td>\n",
              "      <td>22.65</td>\n",
              "      <td>95.58</td>\n",
              "      <td>-0.57</td>\n",
              "      <td>10</td>\n",
              "      <td>8.47</td>\n",
              "      <td>76.56</td>\n",
              "      <td>-4.76</td>\n",
              "      <td>2.34</td>\n",
              "      <td>1</td>\n",
              "      <td>1.89</td>\n",
              "      <td>NaN</td>\n",
              "      <td>1</td>\n",
              "    </tr>\n",
              "    <tr>\n",
              "      <th>1498</th>\n",
              "      <td>11.7</td>\n",
              "      <td>2.94</td>\n",
              "      <td>0.64</td>\n",
              "      <td>11.68</td>\n",
              "      <td>17.49</td>\n",
              "      <td>146.58</td>\n",
              "      <td>1.47</td>\n",
              "      <td>20</td>\n",
              "      <td>8.57</td>\n",
              "      <td>116.56</td>\n",
              "      <td>-5.00</td>\n",
              "      <td>2.67</td>\n",
              "      <td>1</td>\n",
              "      <td>1.48</td>\n",
              "      <td>11.55</td>\n",
              "      <td>0</td>\n",
              "    </tr>\n",
              "    <tr>\n",
              "      <th>1499</th>\n",
              "      <td>27.7</td>\n",
              "      <td>30.75</td>\n",
              "      <td>7.76</td>\n",
              "      <td>1.84</td>\n",
              "      <td>8.67</td>\n",
              "      <td>137.58</td>\n",
              "      <td>-2.02</td>\n",
              "      <td>80</td>\n",
              "      <td>4.04</td>\n",
              "      <td>304.56</td>\n",
              "      <td>3.90</td>\n",
              "      <td>20.40</td>\n",
              "      <td>10</td>\n",
              "      <td>6.93</td>\n",
              "      <td>10.41</td>\n",
              "      <td>0</td>\n",
              "    </tr>\n",
              "  </tbody>\n",
              "</table>\n",
              "<p>1500 rows × 16 columns</p>\n",
              "</div>"
            ],
            "text/plain": [
              "        F1     F2    F3     F4     F5  ...    F12  F13   F14    F15  Class\n",
              "0     11.7   4.02 -4.34   9.90  29.79  ...   0.03    1  1.96    NaN      0\n",
              "1     11.7   4.20 -3.68  10.98  17.46  ...   0.84    1  1.50    NaN      0\n",
              "2     37.7  25.80  3.60   0.48  12.24  ...  21.60   10  7.63    NaN      1\n",
              "3      7.7   5.40  0.30   9.42  19.86  ...   1.05    1  2.27  12.17      1\n",
              "4     15.7   5.58 -2.58  16.34  17.49  ...   1.68    1  1.28    NaN      0\n",
              "...    ...    ...   ...    ...    ...  ...    ...  ...   ...    ...    ...\n",
              "1495  37.7  33.90  5.80   6.62  10.71  ...  15.30   10  6.93   8.76      0\n",
              "1496  17.7  29.40  8.00  -0.48   3.54  ...  29.25   10  7.53  12.19      1\n",
              "1497  11.7   2.13 -0.92  12.12  22.65  ...   2.34    1  1.89    NaN      1\n",
              "1498  11.7   2.94  0.64  11.68  17.49  ...   2.67    1  1.48  11.55      0\n",
              "1499  27.7  30.75  7.76   1.84   8.67  ...  20.40   10  6.93  10.41      0\n",
              "\n",
              "[1500 rows x 16 columns]"
            ]
          },
          "metadata": {
            "tags": []
          },
          "execution_count": 5
        }
      ]
    },
    {
      "cell_type": "code",
      "metadata": {
        "id": "W13QYC7m1_f4"
      },
      "source": [
        "data['F15'].fillna(data['F15'].mean(), inplace=True)"
      ],
      "execution_count": 6,
      "outputs": []
    },
    {
      "cell_type": "code",
      "metadata": {
        "id": "U5z_zFGY8S3t"
      },
      "source": [
        "features = {'F1', 'F2', 'F3', 'F4', 'F5', 'F6', 'F7', 'F8', 'F9', 'F10', 'F11', 'F12', 'F13', 'F14', 'F15'}"
      ],
      "execution_count": 58,
      "outputs": []
    },
    {
      "cell_type": "code",
      "metadata": {
        "colab": {
          "base_uri": "https://localhost:8080/"
        },
        "id": "Vy32bw1ASHXc",
        "outputId": "12c3f42c-ada5-4c8a-96df-38b838b0c275"
      },
      "source": [
        "x = data.loc[:, features].to_numpy()\r\n",
        "y = data.loc[:, 'Class'].to_numpy()\r\n",
        "print(x.shape, y.shape)"
      ],
      "execution_count": 59,
      "outputs": [
        {
          "output_type": "stream",
          "text": [
            "(1500, 15) (1500,)\n"
          ],
          "name": "stdout"
        }
      ]
    },
    {
      "cell_type": "code",
      "metadata": {
        "id": "hyiWF8Wm42J7"
      },
      "source": [
        "x_train, x_test, y_train, y_test = train_test_split(x, y, test_size = 0.25, random_state=42)"
      ],
      "execution_count": 62,
      "outputs": []
    },
    {
      "cell_type": "code",
      "metadata": {
        "colab": {
          "base_uri": "https://localhost:8080/"
        },
        "id": "P_lYouLpjMck",
        "outputId": "de3fa070-5c0c-426e-e3eb-09d890221f87"
      },
      "source": [
        "# DT with F15 included\r\n",
        "clf = DecisionTreeClassifier(random_state=0, max_depth=, criterion='entropy')\r\n",
        "clf = clf.fit(x_train,y_train)\r\n",
        "y_pred = clf.predict(x_test)\r\n",
        "print(confusion_matrix(y_test, y_pred))\r\n",
        "print(classification_report(y_test, y_pred))\r\n",
        "print(\"Accuracy:\",metrics.accuracy_score(y_test, y_pred))"
      ],
      "execution_count": 67,
      "outputs": [
        {
          "output_type": "stream",
          "text": [
            "[[184  21]\n",
            " [ 46 124]]\n",
            "              precision    recall  f1-score   support\n",
            "\n",
            "           0       0.80      0.90      0.85       205\n",
            "           1       0.86      0.73      0.79       170\n",
            "\n",
            "    accuracy                           0.82       375\n",
            "   macro avg       0.83      0.81      0.82       375\n",
            "weighted avg       0.83      0.82      0.82       375\n",
            "\n",
            "Accuracy: 0.8213333333333334\n"
          ],
          "name": "stdout"
        }
      ]
    },
    {
      "cell_type": "code",
      "metadata": {
        "colab": {
          "base_uri": "https://localhost:8080/"
        },
        "id": "LpCWNJYPEXMB",
        "outputId": "bfaa3201-6b58-41f3-ccd2-05200b311354"
      },
      "source": [
        "# DT with 15 included and cross validation\r\n",
        "parameters = {'max_depth': range(3,20)}\r\n",
        "clf_gscv = GridSearchCV(DecisionTreeClassifier(), param_grid=parameters, n_jobs=4)\r\n",
        "clf_gscv.fit(x_train, y_train)\r\n",
        "best_model = clf_gscv.best_estimator_\r\n",
        "print(clf_gscv.best_score_, clf_gscv.best_params_)"
      ],
      "execution_count": 91,
      "outputs": [
        {
          "output_type": "stream",
          "text": [
            "0.8026666666666665 {'max_depth': 7}\n"
          ],
          "name": "stdout"
        }
      ]
    },
    {
      "cell_type": "code",
      "metadata": {
        "colab": {
          "base_uri": "https://localhost:8080/",
          "height": 282
        },
        "id": "DLnavMsYKiWI",
        "outputId": "c96f0da4-8bb7-4987-dde7-addec6233a10"
      },
      "source": [
        "plt.plot(np.arange(3,20), clf_gscv.cv_results_['mean_test_score'])"
      ],
      "execution_count": 99,
      "outputs": [
        {
          "output_type": "execute_result",
          "data": {
            "text/plain": [
              "[<matplotlib.lines.Line2D at 0x7fd8d7a56ba8>]"
            ]
          },
          "metadata": {
            "tags": []
          },
          "execution_count": 99
        },
        {
          "output_type": "display_data",
          "data": {
            "image/png": "[encoded data removed]",
            "text/plain": [
              "<Figure size 432x288 with 1 Axes>"
            ]
          },
          "metadata": {
            "tags": []
          }
        }
      ]
    },
    {
      "cell_type": "code",
      "metadata": {
        "colab": {
          "base_uri": "https://localhost:8080/"
        },
        "id": "1r_fLDKrGRfQ",
        "outputId": "2851c08d-403e-4be8-9829-d7bc9ea0b110"
      },
      "source": [
        "# DT with 15 included and cross validation in for loop without GridSearchCV\r\n",
        "depth = []\r\n",
        "for i in range(3,20):\r\n",
        "  clf_ = DecisionTreeClassifier(max_depth=i)\r\n",
        "  scores = cross_val_score(estimator=clf_, X=x_train, y=y_train, cv=10, n_jobs=4)\r\n",
        "  depth.append((i,scores.mean()))\r\n",
        "print(depth)"
      ],
      "execution_count": 89,
      "outputs": [
        {
          "output_type": "stream",
          "text": [
            "[(3, 0.7146412768647282), (4, 0.7742493678887484), (5, 0.7813290139064476), (6, 0.7884323640960809), (7, 0.7981984829329962), (8, 0.7981431731984829), (9, 0.7990123261694058), (10, 0.7972029077117572), (11, 0.7928176359039191), (12, 0.7928413400758533), (13, 0.8061709860935524), (14, 0.7981826801517067), (15, 0.79551201011378), (16, 0.7945875474083439), (17, 0.7972661188369153), (18, 0.7937025916561316), (19, 0.792817635903919)]\n"
          ],
          "name": "stdout"
        }
      ]
    },
    {
      "cell_type": "code",
      "metadata": {
        "colab": {
          "base_uri": "https://localhost:8080/"
        },
        "id": "q2nb53DLGUIt",
        "outputId": "02f6dd73-be20-4a86-c24b-dcf95f0f21ee"
      },
      "source": [
        "# knn classifier\r\n",
        "knn = KNeighborsClassifier(n_neighbors=3)\r\n",
        "knn.fit(x_train, y_train)\r\n",
        "pred_knn = knn.predict(x_test)\r\n",
        "print(confusion_matrix(y_test, pred_knn))\r\n",
        "print(classification_report(y_test, pred_knn))"
      ],
      "execution_count": 88,
      "outputs": [
        {
          "output_type": "stream",
          "text": [
            "[[132  73]\n",
            " [ 67 103]]\n",
            "              precision    recall  f1-score   support\n",
            "\n",
            "           0       0.66      0.64      0.65       205\n",
            "           1       0.59      0.61      0.60       170\n",
            "\n",
            "    accuracy                           0.63       375\n",
            "   macro avg       0.62      0.62      0.62       375\n",
            "weighted avg       0.63      0.63      0.63       375\n",
            "\n"
          ],
          "name": "stdout"
        }
      ]
    },
    {
      "cell_type": "code",
      "metadata": {
        "colab": {
          "base_uri": "https://localhost:8080/"
        },
        "id": "2SKm2pQ1Jeyf",
        "outputId": "a3323278-e1bc-48a9-a617-2a0a0c53694e"
      },
      "source": [
        "# knn classifier with param tuning\r\n",
        "knn2 = KNeighborsClassifier()\r\n",
        "param_grid = {'n_neighbors': np.arange(1,25)}\r\n",
        "knn_cv = GridSearchCV(knn2, param_grid, cv=10)\r\n",
        "knn_cv.fit(x_train, y_train)\r\n",
        "print(knn_cv.best_score_)\r\n",
        "print(knn_cv.best_params_)\r\n",
        "pred_knn2 = knn_cv.predict(x_test)\r\n",
        "print(classification_report(y_test, pred_knn2))\r\n",
        "print(confusion_matrix(y_test, pred_knn2))"
      ],
      "execution_count": 94,
      "outputs": [
        {
          "output_type": "stream",
          "text": [
            "0.6497945638432364\n",
            "{'n_neighbors': 23}\n",
            "              precision    recall  f1-score   support\n",
            "\n",
            "           0       0.70      0.69      0.69       205\n",
            "           1       0.63      0.64      0.64       170\n",
            "\n",
            "    accuracy                           0.67       375\n",
            "   macro avg       0.66      0.66      0.66       375\n",
            "weighted avg       0.67      0.67      0.67       375\n",
            "\n",
            "[[141  64]\n",
            " [ 61 109]]\n"
          ],
          "name": "stdout"
        }
      ]
    },
    {
      "cell_type": "code",
      "metadata": {
        "colab": {
          "base_uri": "https://localhost:8080/",
          "height": 282
        },
        "id": "MkIN_ewxKXmU",
        "outputId": "eef3f9c9-e2b6-4670-eaf2-ed8385b93215"
      },
      "source": [
        "sns.set_style('whitegrid')\r\n",
        "plt.plot(np.arange(1,25), knn_cv.cv_results_['mean_test_score'])"
      ],
      "execution_count": 97,
      "outputs": [
        {
          "output_type": "execute_result",
          "data": {
            "text/plain": [
              "[<matplotlib.lines.Line2D at 0x7fd8d7c0dc18>]"
            ]
          },
          "metadata": {
            "tags": []
          },
          "execution_count": 97
        },
        {
          "output_type": "display_data",
          "data": {
            "image/png": "[encoded data removed]",
            "text/plain": [
              "<Figure size 432x288 with 1 Axes>"
            ]
          },
          "metadata": {
            "tags": []
          }
        }
      ]
    },
    {
      "cell_type": "code",
      "metadata": {
        "id": "fw3NdaZSIUhg"
      },
      "source": [
        "# svc classifier"
      ],
      "execution_count": null,
      "outputs": []
    }
  ]
}