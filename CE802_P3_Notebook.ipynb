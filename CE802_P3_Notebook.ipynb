{
  "nbformat": 4,
  "nbformat_minor": 0,
  "metadata": {
    "colab": {
      "name": "CE802_P3_Notebook.ipynb",
      "provenance": [],
      "authorship_tag": "ABX9TyMz7zSSdkNx906CuqKvflq/",
      "include_colab_link": true
    },
    "kernelspec": {
      "name": "python3",
      "display_name": "Python 3"
    }
  },
  "cells": [
    {
      "cell_type": "markdown",
      "metadata": {
        "id": "view-in-github",
        "colab_type": "text"
      },
      "source": [
        "<a href=\"https://colab.research.google.com/github/ab17254/ce802/blob/main/CE802_P3_Notebook.ipynb\" target=\"_parent\"><img src=\"https://colab.research.google.com/assets/colab-badge.svg\" alt=\"Open In Colab\"/></a>"
      ]
    },
    {
      "cell_type": "code",
      "metadata": {
        "colab": {
          "resources": {
            "http://localhost:8080/nbextensions/google.colab/files.js": {
              "data": "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",
              "ok": true,
              "headers": [
                [
                  "content-type",
                  "application/javascript"
                ]
              ],
              "status": 200,
              "status_text": ""
            }
          },
          "base_uri": "https://localhost:8080/",
          "height": 140
        },
        "id": "bQSvinLmAxxl",
        "outputId": "6f5bcab9-7289-4062-9aee-5ff5a878578f"
      },
      "source": [
        "from google.colab import files\r\n",
        "\r\n",
        "uploaded = files.upload()\r\n",
        "\r\n",
        "for fn in uploaded.keys():\r\n",
        "  print('User uploaded file \"{name}\" with length {length} bytes'.format(\r\n",
        "      name=fn, length=len(uploaded[fn])))"
      ],
      "execution_count": 1,
      "outputs": [
        {
          "output_type": "display_data",
          "data": {
            "text/html": [
              "\n",
              "     <input type=\"file\" id=\"files-656797d3-be62-4997-a7b2-5842e67a0210\" name=\"files[]\" multiple disabled\n",
              "        style=\"border:none\" />\n",
              "     <output id=\"result-656797d3-be62-4997-a7b2-5842e67a0210\">\n",
              "      Upload widget is only available when the cell has been executed in the\n",
              "      current browser session. Please rerun this cell to enable.\n",
              "      </output>\n",
              "      <script src=\"/nbextensions/google.colab/files.js\"></script> "
            ],
            "text/plain": [
              "<IPython.core.display.HTML object>"
            ]
          },
          "metadata": {
            "tags": []
          }
        },
        {
          "output_type": "stream",
          "text": [
            "Saving CE802_P3_Data.csv to CE802_P3_Data.csv\n",
            "Saving CE802_P3_Test.csv to CE802_P3_Test.csv\n",
            "User uploaded file \"CE802_P3_Data.csv\" with length 150646 bytes\n",
            "User uploaded file \"CE802_P3_Test.csv\" with length 143732 bytes\n"
          ],
          "name": "stdout"
        }
      ]
    },
    {
      "cell_type": "code",
      "metadata": {
        "id": "VpM7pMXrBWtP"
      },
      "source": [
        "import pandas as pd\r\n",
        "import numpy as np\r\n",
        "import matplotlib.pyplot as plt\r\n",
        "import seaborn as sns\r\n",
        "from sklearn.model_selection import KFold, cross_val_score, GridSearchCV\r\n",
        "from sklearn.preprocessing import StandardScaler\r\n",
        "from sklearn.linear_model import LinearRegression, BayesianRidge\r\n",
        "from sklearn.metrics import mean_squared_error, r2_score\r\n",
        "from sklearn.ensemble import GradientBoostingRegressor\r\n",
        "\r\n",
        "from sklearn import svm\r\n",
        "\r\n",
        "sns.set_style('whitegrid')"
      ],
      "execution_count": 2,
      "outputs": []
    },
    {
      "cell_type": "code",
      "metadata": {
        "id": "TQcKncs0BaC0"
      },
      "source": [
        "data = pd.read_csv('/content/CE802_P3_Data.csv')\r\n",
        "test = pd.read_csv('/content/CE802_P3_Test.csv')"
      ],
      "execution_count": 3,
      "outputs": []
    },
    {
      "cell_type": "code",
      "metadata": {
        "colab": {
          "base_uri": "https://localhost:8080/",
          "height": 204
        },
        "id": "dueradOEBqUs",
        "outputId": "12a66ea8-70d0-4175-8888-696403fd51f9"
      },
      "source": [
        "data.head()"
      ],
      "execution_count": 4,
      "outputs": [
        {
          "output_type": "execute_result",
          "data": {
            "text/html": [
              "<div>\n",
              "<style scoped>\n",
              "    .dataframe tbody tr th:only-of-type {\n",
              "        vertical-align: middle;\n",
              "    }\n",
              "\n",
              "    .dataframe tbody tr th {\n",
              "        vertical-align: top;\n",
              "    }\n",
              "\n",
              "    .dataframe thead th {\n",
              "        text-align: right;\n",
              "    }\n",
              "</style>\n",
              "<table border=\"1\" class=\"dataframe\">\n",
              "  <thead>\n",
              "    <tr style=\"text-align: right;\">\n",
              "      <th></th>\n",
              "      <th>F1</th>\n",
              "      <th>F2</th>\n",
              "      <th>F3</th>\n",
              "      <th>F4</th>\n",
              "      <th>F5</th>\n",
              "      <th>F6</th>\n",
              "      <th>F7</th>\n",
              "      <th>F8</th>\n",
              "      <th>F9</th>\n",
              "      <th>F10</th>\n",
              "      <th>F11</th>\n",
              "      <th>F12</th>\n",
              "      <th>F13</th>\n",
              "      <th>F14</th>\n",
              "      <th>F15</th>\n",
              "      <th>F16</th>\n",
              "      <th>Target</th>\n",
              "    </tr>\n",
              "  </thead>\n",
              "  <tbody>\n",
              "    <tr>\n",
              "      <th>0</th>\n",
              "      <td>5.82</td>\n",
              "      <td>Low</td>\n",
              "      <td>15.92</td>\n",
              "      <td>-21480.14</td>\n",
              "      <td>2.54</td>\n",
              "      <td>8</td>\n",
              "      <td>-54.21</td>\n",
              "      <td>11.19</td>\n",
              "      <td>-148.74</td>\n",
              "      <td>5.76</td>\n",
              "      <td>-1567.27</td>\n",
              "      <td>61.06</td>\n",
              "      <td>5.86</td>\n",
              "      <td>3861.39</td>\n",
              "      <td>Rest</td>\n",
              "      <td>9</td>\n",
              "      <td>1342.36</td>\n",
              "    </tr>\n",
              "    <tr>\n",
              "      <th>1</th>\n",
              "      <td>14.90</td>\n",
              "      <td>Medium</td>\n",
              "      <td>1.06</td>\n",
              "      <td>-30658.72</td>\n",
              "      <td>-2.50</td>\n",
              "      <td>4</td>\n",
              "      <td>-89.22</td>\n",
              "      <td>4.29</td>\n",
              "      <td>-98.80</td>\n",
              "      <td>-7.95</td>\n",
              "      <td>-1440.25</td>\n",
              "      <td>122.98</td>\n",
              "      <td>78.50</td>\n",
              "      <td>3546.00</td>\n",
              "      <td>Rest</td>\n",
              "      <td>9</td>\n",
              "      <td>204.91</td>\n",
              "    </tr>\n",
              "    <tr>\n",
              "      <th>2</th>\n",
              "      <td>8.64</td>\n",
              "      <td>Low</td>\n",
              "      <td>1.75</td>\n",
              "      <td>-36063.70</td>\n",
              "      <td>-2.36</td>\n",
              "      <td>8</td>\n",
              "      <td>70.68</td>\n",
              "      <td>-0.33</td>\n",
              "      <td>-141.74</td>\n",
              "      <td>2.34</td>\n",
              "      <td>-1213.40</td>\n",
              "      <td>130.64</td>\n",
              "      <td>4.12</td>\n",
              "      <td>6068.73</td>\n",
              "      <td>UK</td>\n",
              "      <td>6</td>\n",
              "      <td>0.00</td>\n",
              "    </tr>\n",
              "    <tr>\n",
              "      <th>3</th>\n",
              "      <td>2.16</td>\n",
              "      <td>Very high</td>\n",
              "      <td>3.95</td>\n",
              "      <td>-39859.52</td>\n",
              "      <td>-6.96</td>\n",
              "      <td>12</td>\n",
              "      <td>104.70</td>\n",
              "      <td>14.07</td>\n",
              "      <td>-88.87</td>\n",
              "      <td>32.10</td>\n",
              "      <td>-773.05</td>\n",
              "      <td>104.01</td>\n",
              "      <td>0.34</td>\n",
              "      <td>4749.24</td>\n",
              "      <td>UK</td>\n",
              "      <td>3</td>\n",
              "      <td>0.00</td>\n",
              "    </tr>\n",
              "    <tr>\n",
              "      <th>4</th>\n",
              "      <td>14.36</td>\n",
              "      <td>Low</td>\n",
              "      <td>2.36</td>\n",
              "      <td>-40725.00</td>\n",
              "      <td>3.60</td>\n",
              "      <td>12</td>\n",
              "      <td>-65.61</td>\n",
              "      <td>7.47</td>\n",
              "      <td>-15.16</td>\n",
              "      <td>1.59</td>\n",
              "      <td>-906.33</td>\n",
              "      <td>69.84</td>\n",
              "      <td>0.06</td>\n",
              "      <td>2969.61</td>\n",
              "      <td>Rest</td>\n",
              "      <td>15</td>\n",
              "      <td>0.00</td>\n",
              "    </tr>\n",
              "  </tbody>\n",
              "</table>\n",
              "</div>"
            ],
            "text/plain": [
              "      F1         F2     F3        F4    F5  ...    F13      F14   F15  F16   Target\n",
              "0   5.82        Low  15.92 -21480.14  2.54  ...   5.86  3861.39  Rest    9  1342.36\n",
              "1  14.90     Medium   1.06 -30658.72 -2.50  ...  78.50  3546.00  Rest    9   204.91\n",
              "2   8.64        Low   1.75 -36063.70 -2.36  ...   4.12  6068.73    UK    6     0.00\n",
              "3   2.16  Very high   3.95 -39859.52 -6.96  ...   0.34  4749.24    UK    3     0.00\n",
              "4  14.36        Low   2.36 -40725.00  3.60  ...   0.06  2969.61  Rest   15     0.00\n",
              "\n",
              "[5 rows x 17 columns]"
            ]
          },
          "metadata": {
            "tags": []
          },
          "execution_count": 4
        }
      ]
    },
    {
      "cell_type": "code",
      "metadata": {
        "colab": {
          "base_uri": "https://localhost:8080/",
          "height": 204
        },
        "id": "H8gJ6UP0Bro5",
        "outputId": "a4b0f0e8-d5db-4782-80bc-aad793ab6d73"
      },
      "source": [
        "test.head()"
      ],
      "execution_count": 5,
      "outputs": [
        {
          "output_type": "execute_result",
          "data": {
            "text/html": [
              "<div>\n",
              "<style scoped>\n",
              "    .dataframe tbody tr th:only-of-type {\n",
              "        vertical-align: middle;\n",
              "    }\n",
              "\n",
              "    .dataframe tbody tr th {\n",
              "        vertical-align: top;\n",
              "    }\n",
              "\n",
              "    .dataframe thead th {\n",
              "        text-align: right;\n",
              "    }\n",
              "</style>\n",
              "<table border=\"1\" class=\"dataframe\">\n",
              "  <thead>\n",
              "    <tr style=\"text-align: right;\">\n",
              "      <th></th>\n",
              "      <th>F1</th>\n",
              "      <th>F2</th>\n",
              "      <th>F3</th>\n",
              "      <th>F4</th>\n",
              "      <th>F5</th>\n",
              "      <th>F6</th>\n",
              "      <th>F7</th>\n",
              "      <th>F8</th>\n",
              "      <th>F9</th>\n",
              "      <th>F10</th>\n",
              "      <th>F11</th>\n",
              "      <th>F12</th>\n",
              "      <th>F13</th>\n",
              "      <th>F14</th>\n",
              "      <th>F15</th>\n",
              "      <th>F16</th>\n",
              "      <th>Target</th>\n",
              "    </tr>\n",
              "  </thead>\n",
              "  <tbody>\n",
              "    <tr>\n",
              "      <th>0</th>\n",
              "      <td>3.06</td>\n",
              "      <td>High</td>\n",
              "      <td>1.32</td>\n",
              "      <td>-50743.74</td>\n",
              "      <td>-1.08</td>\n",
              "      <td>2</td>\n",
              "      <td>10.11</td>\n",
              "      <td>1.74</td>\n",
              "      <td>-67.98</td>\n",
              "      <td>16.17</td>\n",
              "      <td>-1257.99</td>\n",
              "      <td>29.75</td>\n",
              "      <td>6.96</td>\n",
              "      <td>4750.68</td>\n",
              "      <td>Europe</td>\n",
              "      <td>12</td>\n",
              "      <td>NaN</td>\n",
              "    </tr>\n",
              "    <tr>\n",
              "      <th>1</th>\n",
              "      <td>9.98</td>\n",
              "      <td>Medium</td>\n",
              "      <td>2.51</td>\n",
              "      <td>-57574.32</td>\n",
              "      <td>-0.75</td>\n",
              "      <td>12</td>\n",
              "      <td>-126.69</td>\n",
              "      <td>9.84</td>\n",
              "      <td>-150.96</td>\n",
              "      <td>0.66</td>\n",
              "      <td>-1257.20</td>\n",
              "      <td>104.60</td>\n",
              "      <td>0.02</td>\n",
              "      <td>3623.19</td>\n",
              "      <td>UK</td>\n",
              "      <td>6</td>\n",
              "      <td>NaN</td>\n",
              "    </tr>\n",
              "    <tr>\n",
              "      <th>2</th>\n",
              "      <td>2.30</td>\n",
              "      <td>Very low</td>\n",
              "      <td>3.43</td>\n",
              "      <td>-31777.88</td>\n",
              "      <td>-0.03</td>\n",
              "      <td>8</td>\n",
              "      <td>-21.75</td>\n",
              "      <td>10.62</td>\n",
              "      <td>-124.71</td>\n",
              "      <td>11.94</td>\n",
              "      <td>-345.02</td>\n",
              "      <td>154.47</td>\n",
              "      <td>315.58</td>\n",
              "      <td>4274.67</td>\n",
              "      <td>Europe</td>\n",
              "      <td>9</td>\n",
              "      <td>NaN</td>\n",
              "    </tr>\n",
              "    <tr>\n",
              "      <th>3</th>\n",
              "      <td>2.42</td>\n",
              "      <td>Very high</td>\n",
              "      <td>6.67</td>\n",
              "      <td>-42583.36</td>\n",
              "      <td>7.02</td>\n",
              "      <td>8</td>\n",
              "      <td>-185.70</td>\n",
              "      <td>-5.40</td>\n",
              "      <td>-93.20</td>\n",
              "      <td>6.60</td>\n",
              "      <td>-1276.61</td>\n",
              "      <td>40.70</td>\n",
              "      <td>6.40</td>\n",
              "      <td>3892.74</td>\n",
              "      <td>UK</td>\n",
              "      <td>3</td>\n",
              "      <td>NaN</td>\n",
              "    </tr>\n",
              "    <tr>\n",
              "      <th>4</th>\n",
              "      <td>2.24</td>\n",
              "      <td>Very high</td>\n",
              "      <td>3.23</td>\n",
              "      <td>-39844.64</td>\n",
              "      <td>-2.44</td>\n",
              "      <td>4</td>\n",
              "      <td>28.41</td>\n",
              "      <td>14.07</td>\n",
              "      <td>-68.80</td>\n",
              "      <td>1.89</td>\n",
              "      <td>-1199.55</td>\n",
              "      <td>85.06</td>\n",
              "      <td>0.20</td>\n",
              "      <td>4624.62</td>\n",
              "      <td>UK</td>\n",
              "      <td>15</td>\n",
              "      <td>NaN</td>\n",
              "    </tr>\n",
              "  </tbody>\n",
              "</table>\n",
              "</div>"
            ],
            "text/plain": [
              "     F1         F2    F3        F4    F5  ...     F13      F14     F15  F16  Target\n",
              "0  3.06       High  1.32 -50743.74 -1.08  ...    6.96  4750.68  Europe   12     NaN\n",
              "1  9.98     Medium  2.51 -57574.32 -0.75  ...    0.02  3623.19      UK    6     NaN\n",
              "2  2.30   Very low  3.43 -31777.88 -0.03  ...  315.58  4274.67  Europe    9     NaN\n",
              "3  2.42  Very high  6.67 -42583.36  7.02  ...    6.40  3892.74      UK    3     NaN\n",
              "4  2.24  Very high  3.23 -39844.64 -2.44  ...    0.20  4624.62      UK   15     NaN\n",
              "\n",
              "[5 rows x 17 columns]"
            ]
          },
          "metadata": {
            "tags": []
          },
          "execution_count": 5
        }
      ]
    },
    {
      "cell_type": "code",
      "metadata": {
        "id": "Qt9c9MZNDY3K"
      },
      "source": [
        "def clean_data(data):\r\n",
        "  data.replace({'F2':{'Very low': 0, 'Low':1, 'Medium':2, 'High':3, 'Very high':4}}, inplace=True)\r\n",
        "  clean_data = pd.get_dummies(data, columns=['F15'])\r\n",
        "  return(clean_data)"
      ],
      "execution_count": 6,
      "outputs": []
    },
    {
      "cell_type": "code",
      "metadata": {
        "id": "o-OI8jz-EuBu"
      },
      "source": [
        "data = clean_data(data)\r\n",
        "test_data = clean_data(test)"
      ],
      "execution_count": 7,
      "outputs": []
    },
    {
      "cell_type": "code",
      "metadata": {
        "colab": {
          "base_uri": "https://localhost:8080/"
        },
        "id": "DYsbXLvYH106",
        "outputId": "43ede216-62b5-4370-828c-f302dc878ce3"
      },
      "source": [
        "x = data.loc[:, data.columns != 'Target'].to_numpy()\r\n",
        "y = data.loc[:, data.columns == 'Target'].to_numpy()\r\n",
        "print(x.shape, y.shape)"
      ],
      "execution_count": 8,
      "outputs": [
        {
          "output_type": "stream",
          "text": [
            "(1500, 19) (1500, 1)\n"
          ],
          "name": "stdout"
        }
      ]
    },
    {
      "cell_type": "code",
      "metadata": {
        "colab": {
          "base_uri": "https://localhost:8080/"
        },
        "id": "5DFSdzDkIpTJ",
        "outputId": "5988b1c3-c988-44a8-fa9c-c53720fb9f6a"
      },
      "source": [
        "x_test = test_data.loc[:, test_data.columns != 'Target'].to_numpy()\r\n",
        "print(x_test.shape)"
      ],
      "execution_count": 9,
      "outputs": [
        {
          "output_type": "stream",
          "text": [
            "(1500, 19)\n"
          ],
          "name": "stdout"
        }
      ]
    },
    {
      "cell_type": "code",
      "metadata": {
        "id": "WLV098nIKijo"
      },
      "source": [
        "k_fold = KFold(n_splits=5)\r\n",
        "for train_indices, test_indices in k_fold.split(x):\r\n",
        "    ss = StandardScaler()\r\n",
        "    ss.fit(x[train_indices, :])\r\n",
        "    x_train = ss.transform(x[train_indices, :])\r\n",
        "    x_test = ss.transform(x[test_indices, :])\r\n",
        "    y_train = y[train_indices]\r\n",
        "    y_test = y[test_indices]"
      ],
      "execution_count": 10,
      "outputs": []
    },
    {
      "cell_type": "markdown",
      "metadata": {
        "id": "7pTyxEt-LDdv"
      },
      "source": [
        "## a) Investigate the performance of a number of machine learning procedures on this dataset."
      ]
    },
    {
      "cell_type": "markdown",
      "metadata": {
        "id": "AfpA84E3LIC2"
      },
      "source": [
        "### Linear Regression"
      ]
    },
    {
      "cell_type": "code",
      "metadata": {
        "colab": {
          "base_uri": "https://localhost:8080/"
        },
        "id": "LKCPBk_7LKdc",
        "outputId": "397dc502-e66a-4016-e594-9d50b21d398e"
      },
      "source": [
        "model_lin_reg = LinearRegression()\r\n",
        "model_lin_reg.fit(x_train, y_train.ravel())\r\n",
        "lin_reg_pred = model_lin_reg.predict(x_test)\r\n",
        "print('Mean Squared Error: %.2f'% mean_squared_error(y_test, lin_reg_pred))\r\n",
        "print('Coefficient of Determination: %.2f'% r2_score(y_test, lin_reg_pred))"
      ],
      "execution_count": 11,
      "outputs": [
        {
          "output_type": "stream",
          "text": [
            "Coefficients:\n",
            "  [ 3.81075612e+02  2.22193716e+02  4.02114574e+02  1.67482644e+01\n",
            " -3.14368912e+00 -2.33586382e+02 -8.09033621e+00  2.07370104e+01\n",
            " -4.30880243e+02  2.17854706e+00  2.92709922e+02  2.02291654e+01\n",
            "  5.31196188e+00 -2.53927950e+02  2.38125524e+02  1.68021897e+16\n",
            "  1.68397781e+16  1.73320386e+16  1.63243259e+16]\n",
            "Mean Squared Error: 273213.37\n",
            "Coefficient of Determination: 0.79\n"
          ],
          "name": "stdout"
        }
      ]
    },
    {
      "cell_type": "code",
      "metadata": {
        "colab": {
          "base_uri": "https://localhost:8080/",
          "height": 35
        },
        "id": "UmY6drd3NY2m",
        "outputId": "4402d330-b830-4260-851f-f27475593c38"
      },
      "source": [
        "'''\r\n",
        "plt.figure(figsize=(15,15))\r\n",
        "plt.scatter(x_test[:,0], y_test, color='black')\r\n",
        "plt.plot(x_test[:,0], lin_reg_pred, color='blue', linewidth=3)\r\n",
        "plt.xticks(())\r\n",
        "plt.yticks(())\r\n",
        "\r\n",
        "plt.show()\r\n",
        "'''"
      ],
      "execution_count": 12,
      "outputs": [
        {
          "output_type": "execute_result",
          "data": {
            "application/vnd.google.colaboratory.intrinsic+json": {
              "type": "string"
            },
            "text/plain": [
              "\"\\nplt.figure(figsize=(15,15))\\nplt.scatter(x_test[:,0], y_test, color='black')\\nplt.plot(x_test[:,0], lin_reg_pred, color='blue', linewidth=3)\\nplt.xticks(())\\nplt.yticks(())\\n\\nplt.show()\\n\""
            ]
          },
          "metadata": {
            "tags": []
          },
          "execution_count": 12
        }
      ]
    },
    {
      "cell_type": "markdown",
      "metadata": {
        "id": "u2h0VT6SS2ZY"
      },
      "source": [
        "### Support Vector regression"
      ]
    },
    {
      "cell_type": "code",
      "metadata": {
        "colab": {
          "base_uri": "https://localhost:8080/"
        },
        "id": "r5QDASm1S1dJ",
        "outputId": "dd4ec626-363b-40fb-d172-f51453fe9d95"
      },
      "source": [
        "model_svr = svm.SVR()\r\n",
        "model_svr.fit(x_train, y_train.ravel())\r\n",
        "svr_pred = model_svr.predict(x_test)\r\n",
        "print('Mean Squared Error: %.2f'% mean_squared_error(y_test, svr_pred))\r\n",
        "print('Coefficient of Determination: %.2f'% r2_score(y_test, svr_pred))"
      ],
      "execution_count": 13,
      "outputs": [
        {
          "output_type": "stream",
          "text": [
            "Mean Squared Error: 1520740.30\n",
            "Coefficient of Determination: -0.20\n"
          ],
          "name": "stdout"
        }
      ]
    },
    {
      "cell_type": "markdown",
      "metadata": {
        "id": "Pak_M5WDnXMh"
      },
      "source": [
        "#### Tuned Support Vector regression"
      ]
    },
    {
      "cell_type": "code",
      "metadata": {
        "colab": {
          "base_uri": "https://localhost:8080/"
        },
        "id": "DPvVW6UdnXqZ",
        "outputId": "9079212d-5a79-41bf-825d-e89054f01c4c"
      },
      "source": [
        "svr_param_grid = {'C':[1,10,100,1000],\r\n",
        "              'gamma':[1,0.1,0.001,0.0001],\r\n",
        "              'kernel': ['linear', 'rbf']}\r\n",
        "svr_cv = GridSearchCV(model_svr, svr_param_grid, refit=True)\r\n",
        "svr_cv.fit(x_train, y_train.ravel())\r\n",
        "svr_cv_pred = svr_cv.predict(x_test)\r\n",
        "print('Mean Squared Error: %.2f'% mean_squared_error(y_test, svr_cv_pred))\r\n",
        "print('Coefficient of Determination: %.2f'% r2_score(y_test, svr_cv_pred))\r\n",
        "print(svr_cv.best_params_)"
      ],
      "execution_count": 17,
      "outputs": [
        {
          "output_type": "stream",
          "text": [
            "Mean Squared Error: 160644.89\n",
            "Coefficient of Determination: 0.87\n",
            "{'C': 1000, 'gamma': 0.1, 'kernel': 'rbf'}\n"
          ],
          "name": "stdout"
        }
      ]
    },
    {
      "cell_type": "markdown",
      "metadata": {
        "id": "yR1HViLvaAvB"
      },
      "source": [
        "### Gradient Boosting Regression"
      ]
    },
    {
      "cell_type": "code",
      "metadata": {
        "colab": {
          "base_uri": "https://localhost:8080/"
        },
        "id": "bsNWQeYraAcO",
        "outputId": "a4664e67-5e56-4380-984c-4a499f00009b"
      },
      "source": [
        "model_grad = GradientBoostingRegressor()\r\n",
        "model_grad.fit(x_train, y_train.ravel())\r\n",
        "grad_pred = model_grad.predict(x_test)\r\n",
        "print('Mean Squared Error: %.2f'% mean_squared_error(y_test, grad_pred))\r\n",
        "print('Coefficient of Determination: %.2f'% r2_score(y_test, grad_pred))"
      ],
      "execution_count": 15,
      "outputs": [
        {
          "output_type": "stream",
          "text": [
            "Mean Squared Error: 194271.69\n",
            "Coefficient of Determination: 0.85\n"
          ],
          "name": "stdout"
        }
      ]
    },
    {
      "cell_type": "markdown",
      "metadata": {
        "id": "iwzCSoidiKNM"
      },
      "source": [
        "#### Tuned Gradient Boosting regression"
      ]
    },
    {
      "cell_type": "code",
      "metadata": {
        "colab": {
          "base_uri": "https://localhost:8080/"
        },
        "id": "nnHvSeLqiryL",
        "outputId": "e6597a89-d798-403b-a44c-2c2fe1c2f6dd"
      },
      "source": [
        "grad_param_grid = {'n_estimators':[50,100,200,300,400]}\r\n",
        "grad_cv = GridSearchCV(model_grad, grad_param_grid, scoring='neg_mean_squared_error', refit=True)\r\n",
        "grad_cv.fit(x_train, y_train.ravel())\r\n",
        "grad_cv_pred = grad_cv.predict(x_test)\r\n",
        "print('Mean Squared Error: %.2f'% mean_squared_error(y_test, grad_cv_pred))\r\n",
        "print('Coefficient of Determination: %.2f'% r2_score(y_test, grad_cv_pred))\r\n",
        "print(grad_cv.best_params_)"
      ],
      "execution_count": 16,
      "outputs": [
        {
          "output_type": "stream",
          "text": [
            "Mean Squared Error: 179930.58\n",
            "Coefficient of Determination: 0.86\n"
          ],
          "name": "stdout"
        }
      ]
    }
  ]
}