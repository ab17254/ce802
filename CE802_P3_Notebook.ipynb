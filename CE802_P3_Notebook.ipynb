{
  "nbformat": 4,
  "nbformat_minor": 0,
  "metadata": {
    "colab": {
      "name": "CE802_P3_Notebook.ipynb",
      "provenance": [],
      "authorship_tag": "ABX9TyPD+0VjRNFREYbn/s2g8fD0",
      "include_colab_link": true
    },
    "kernelspec": {
      "name": "python3",
      "display_name": "Python 3"
    }
  },
  "cells": [
    {
      "cell_type": "markdown",
      "metadata": {
        "id": "view-in-github",
        "colab_type": "text"
      },
      "source": [
        "<a href=\"https://colab.research.google.com/github/ab17254/ce802/blob/main/CE802_P3_Notebook.ipynb\" target=\"_parent\"><img src=\"https://colab.research.google.com/assets/colab-badge.svg\" alt=\"Open In Colab\"/></a>"
      ]
    },
    {
      "cell_type": "code",
      "metadata": {
        "id": "VpM7pMXrBWtP"
      },
      "source": [
        "import pandas as pd\r\n",
        "import numpy as np\r\n",
        "import matplotlib.pyplot as plt\r\n",
        "import seaborn as sns\r\n",
        "from sklearn.model_selection import KFold, cross_val_score, GridSearchCV\r\n",
        "from sklearn.preprocessing import StandardScaler\r\n",
        "from sklearn.linear_model import LinearRegression, BayesianRidge\r\n",
        "from sklearn.metrics import mean_squared_error, r2_score\r\n",
        "from sklearn.ensemble import GradientBoostingRegressor\r\n",
        "from sklearn import svm\r\n",
        "\r\n",
        "sns.set_style('whitegrid')"
      ],
      "execution_count": 2,
      "outputs": []
    },
    {
      "cell_type": "code",
      "metadata": {
        "id": "TQcKncs0BaC0"
      },
      "source": [
        "data = pd.read_csv('CE802_P3_Data.csv')\r\n",
        "test = pd.read_csv('CE802_P3_Test.csv')"
      ],
      "execution_count": 3,
      "outputs": []
    },
    {
      "cell_type": "code",
      "metadata": {
        "colab": {
          "base_uri": "https://localhost:8080/",
          "height": 204
        },
        "id": "dueradOEBqUs",
        "outputId": "9d82b760-f243-4b23-e22d-7f5fe0500888"
      },
      "source": [
        "data.head()"
      ],
      "execution_count": 4,
      "outputs": [
        {
          "output_type": "execute_result",
          "data": {
            "text/html": [
              "<div>\n",
              "<style scoped>\n",
              "    .dataframe tbody tr th:only-of-type {\n",
              "        vertical-align: middle;\n",
              "    }\n",
              "\n",
              "    .dataframe tbody tr th {\n",
              "        vertical-align: top;\n",
              "    }\n",
              "\n",
              "    .dataframe thead th {\n",
              "        text-align: right;\n",
              "    }\n",
              "</style>\n",
              "<table border=\"1\" class=\"dataframe\">\n",
              "  <thead>\n",
              "    <tr style=\"text-align: right;\">\n",
              "      <th></th>\n",
              "      <th>F1</th>\n",
              "      <th>F2</th>\n",
              "      <th>F3</th>\n",
              "      <th>F4</th>\n",
              "      <th>F5</th>\n",
              "      <th>F6</th>\n",
              "      <th>F7</th>\n",
              "      <th>F8</th>\n",
              "      <th>F9</th>\n",
              "      <th>F10</th>\n",
              "      <th>F11</th>\n",
              "      <th>F12</th>\n",
              "      <th>F13</th>\n",
              "      <th>F14</th>\n",
              "      <th>F15</th>\n",
              "      <th>F16</th>\n",
              "      <th>Target</th>\n",
              "    </tr>\n",
              "  </thead>\n",
              "  <tbody>\n",
              "    <tr>\n",
              "      <th>0</th>\n",
              "      <td>5.82</td>\n",
              "      <td>Low</td>\n",
              "      <td>15.92</td>\n",
              "      <td>-21480.14</td>\n",
              "      <td>2.54</td>\n",
              "      <td>8</td>\n",
              "      <td>-54.21</td>\n",
              "      <td>11.19</td>\n",
              "      <td>-148.74</td>\n",
              "      <td>5.76</td>\n",
              "      <td>-1567.27</td>\n",
              "      <td>61.06</td>\n",
              "      <td>5.86</td>\n",
              "      <td>3861.39</td>\n",
              "      <td>Rest</td>\n",
              "      <td>9</td>\n",
              "      <td>1342.36</td>\n",
              "    </tr>\n",
              "    <tr>\n",
              "      <th>1</th>\n",
              "      <td>14.90</td>\n",
              "      <td>Medium</td>\n",
              "      <td>1.06</td>\n",
              "      <td>-30658.72</td>\n",
              "      <td>-2.50</td>\n",
              "      <td>4</td>\n",
              "      <td>-89.22</td>\n",
              "      <td>4.29</td>\n",
              "      <td>-98.80</td>\n",
              "      <td>-7.95</td>\n",
              "      <td>-1440.25</td>\n",
              "      <td>122.98</td>\n",
              "      <td>78.50</td>\n",
              "      <td>3546.00</td>\n",
              "      <td>Rest</td>\n",
              "      <td>9</td>\n",
              "      <td>204.91</td>\n",
              "    </tr>\n",
              "    <tr>\n",
              "      <th>2</th>\n",
              "      <td>8.64</td>\n",
              "      <td>Low</td>\n",
              "      <td>1.75</td>\n",
              "      <td>-36063.70</td>\n",
              "      <td>-2.36</td>\n",
              "      <td>8</td>\n",
              "      <td>70.68</td>\n",
              "      <td>-0.33</td>\n",
              "      <td>-141.74</td>\n",
              "      <td>2.34</td>\n",
              "      <td>-1213.40</td>\n",
              "      <td>130.64</td>\n",
              "      <td>4.12</td>\n",
              "      <td>6068.73</td>\n",
              "      <td>UK</td>\n",
              "      <td>6</td>\n",
              "      <td>0.00</td>\n",
              "    </tr>\n",
              "    <tr>\n",
              "      <th>3</th>\n",
              "      <td>2.16</td>\n",
              "      <td>Very high</td>\n",
              "      <td>3.95</td>\n",
              "      <td>-39859.52</td>\n",
              "      <td>-6.96</td>\n",
              "      <td>12</td>\n",
              "      <td>104.70</td>\n",
              "      <td>14.07</td>\n",
              "      <td>-88.87</td>\n",
              "      <td>32.10</td>\n",
              "      <td>-773.05</td>\n",
              "      <td>104.01</td>\n",
              "      <td>0.34</td>\n",
              "      <td>4749.24</td>\n",
              "      <td>UK</td>\n",
              "      <td>3</td>\n",
              "      <td>0.00</td>\n",
              "    </tr>\n",
              "    <tr>\n",
              "      <th>4</th>\n",
              "      <td>14.36</td>\n",
              "      <td>Low</td>\n",
              "      <td>2.36</td>\n",
              "      <td>-40725.00</td>\n",
              "      <td>3.60</td>\n",
              "      <td>12</td>\n",
              "      <td>-65.61</td>\n",
              "      <td>7.47</td>\n",
              "      <td>-15.16</td>\n",
              "      <td>1.59</td>\n",
              "      <td>-906.33</td>\n",
              "      <td>69.84</td>\n",
              "      <td>0.06</td>\n",
              "      <td>2969.61</td>\n",
              "      <td>Rest</td>\n",
              "      <td>15</td>\n",
              "      <td>0.00</td>\n",
              "    </tr>\n",
              "  </tbody>\n",
              "</table>\n",
              "</div>"
            ],
            "text/plain": [
              "      F1         F2     F3        F4    F5  ...    F13      F14   F15  F16   Target\n",
              "0   5.82        Low  15.92 -21480.14  2.54  ...   5.86  3861.39  Rest    9  1342.36\n",
              "1  14.90     Medium   1.06 -30658.72 -2.50  ...  78.50  3546.00  Rest    9   204.91\n",
              "2   8.64        Low   1.75 -36063.70 -2.36  ...   4.12  6068.73    UK    6     0.00\n",
              "3   2.16  Very high   3.95 -39859.52 -6.96  ...   0.34  4749.24    UK    3     0.00\n",
              "4  14.36        Low   2.36 -40725.00  3.60  ...   0.06  2969.61  Rest   15     0.00\n",
              "\n",
              "[5 rows x 17 columns]"
            ]
          },
          "metadata": {
            "tags": []
          },
          "execution_count": 4
        }
      ]
    },
    {
      "cell_type": "code",
      "metadata": {
        "colab": {
          "base_uri": "https://localhost:8080/",
          "height": 204
        },
        "id": "H8gJ6UP0Bro5",
        "outputId": "6ef03a74-a38d-4951-b574-31710aea8865"
      },
      "source": [
        "test.head()"
      ],
      "execution_count": 5,
      "outputs": [
        {
          "output_type": "execute_result",
          "data": {
            "text/html": [
              "<div>\n",
              "<style scoped>\n",
              "    .dataframe tbody tr th:only-of-type {\n",
              "        vertical-align: middle;\n",
              "    }\n",
              "\n",
              "    .dataframe tbody tr th {\n",
              "        vertical-align: top;\n",
              "    }\n",
              "\n",
              "    .dataframe thead th {\n",
              "        text-align: right;\n",
              "    }\n",
              "</style>\n",
              "<table border=\"1\" class=\"dataframe\">\n",
              "  <thead>\n",
              "    <tr style=\"text-align: right;\">\n",
              "      <th></th>\n",
              "      <th>F1</th>\n",
              "      <th>F2</th>\n",
              "      <th>F3</th>\n",
              "      <th>F4</th>\n",
              "      <th>F5</th>\n",
              "      <th>F6</th>\n",
              "      <th>F7</th>\n",
              "      <th>F8</th>\n",
              "      <th>F9</th>\n",
              "      <th>F10</th>\n",
              "      <th>F11</th>\n",
              "      <th>F12</th>\n",
              "      <th>F13</th>\n",
              "      <th>F14</th>\n",
              "      <th>F15</th>\n",
              "      <th>F16</th>\n",
              "      <th>Target</th>\n",
              "    </tr>\n",
              "  </thead>\n",
              "  <tbody>\n",
              "    <tr>\n",
              "      <th>0</th>\n",
              "      <td>3.06</td>\n",
              "      <td>High</td>\n",
              "      <td>1.32</td>\n",
              "      <td>-50743.74</td>\n",
              "      <td>-1.08</td>\n",
              "      <td>2</td>\n",
              "      <td>10.11</td>\n",
              "      <td>1.74</td>\n",
              "      <td>-67.98</td>\n",
              "      <td>16.17</td>\n",
              "      <td>-1257.99</td>\n",
              "      <td>29.75</td>\n",
              "      <td>6.96</td>\n",
              "      <td>4750.68</td>\n",
              "      <td>Europe</td>\n",
              "      <td>12</td>\n",
              "      <td>NaN</td>\n",
              "    </tr>\n",
              "    <tr>\n",
              "      <th>1</th>\n",
              "      <td>9.98</td>\n",
              "      <td>Medium</td>\n",
              "      <td>2.51</td>\n",
              "      <td>-57574.32</td>\n",
              "      <td>-0.75</td>\n",
              "      <td>12</td>\n",
              "      <td>-126.69</td>\n",
              "      <td>9.84</td>\n",
              "      <td>-150.96</td>\n",
              "      <td>0.66</td>\n",
              "      <td>-1257.20</td>\n",
              "      <td>104.60</td>\n",
              "      <td>0.02</td>\n",
              "      <td>3623.19</td>\n",
              "      <td>UK</td>\n",
              "      <td>6</td>\n",
              "      <td>NaN</td>\n",
              "    </tr>\n",
              "    <tr>\n",
              "      <th>2</th>\n",
              "      <td>2.30</td>\n",
              "      <td>Very low</td>\n",
              "      <td>3.43</td>\n",
              "      <td>-31777.88</td>\n",
              "      <td>-0.03</td>\n",
              "      <td>8</td>\n",
              "      <td>-21.75</td>\n",
              "      <td>10.62</td>\n",
              "      <td>-124.71</td>\n",
              "      <td>11.94</td>\n",
              "      <td>-345.02</td>\n",
              "      <td>154.47</td>\n",
              "      <td>315.58</td>\n",
              "      <td>4274.67</td>\n",
              "      <td>Europe</td>\n",
              "      <td>9</td>\n",
              "      <td>NaN</td>\n",
              "    </tr>\n",
              "    <tr>\n",
              "      <th>3</th>\n",
              "      <td>2.42</td>\n",
              "      <td>Very high</td>\n",
              "      <td>6.67</td>\n",
              "      <td>-42583.36</td>\n",
              "      <td>7.02</td>\n",
              "      <td>8</td>\n",
              "      <td>-185.70</td>\n",
              "      <td>-5.40</td>\n",
              "      <td>-93.20</td>\n",
              "      <td>6.60</td>\n",
              "      <td>-1276.61</td>\n",
              "      <td>40.70</td>\n",
              "      <td>6.40</td>\n",
              "      <td>3892.74</td>\n",
              "      <td>UK</td>\n",
              "      <td>3</td>\n",
              "      <td>NaN</td>\n",
              "    </tr>\n",
              "    <tr>\n",
              "      <th>4</th>\n",
              "      <td>2.24</td>\n",
              "      <td>Very high</td>\n",
              "      <td>3.23</td>\n",
              "      <td>-39844.64</td>\n",
              "      <td>-2.44</td>\n",
              "      <td>4</td>\n",
              "      <td>28.41</td>\n",
              "      <td>14.07</td>\n",
              "      <td>-68.80</td>\n",
              "      <td>1.89</td>\n",
              "      <td>-1199.55</td>\n",
              "      <td>85.06</td>\n",
              "      <td>0.20</td>\n",
              "      <td>4624.62</td>\n",
              "      <td>UK</td>\n",
              "      <td>15</td>\n",
              "      <td>NaN</td>\n",
              "    </tr>\n",
              "  </tbody>\n",
              "</table>\n",
              "</div>"
            ],
            "text/plain": [
              "     F1         F2    F3        F4    F5  ...     F13      F14     F15  F16  Target\n",
              "0  3.06       High  1.32 -50743.74 -1.08  ...    6.96  4750.68  Europe   12     NaN\n",
              "1  9.98     Medium  2.51 -57574.32 -0.75  ...    0.02  3623.19      UK    6     NaN\n",
              "2  2.30   Very low  3.43 -31777.88 -0.03  ...  315.58  4274.67  Europe    9     NaN\n",
              "3  2.42  Very high  6.67 -42583.36  7.02  ...    6.40  3892.74      UK    3     NaN\n",
              "4  2.24  Very high  3.23 -39844.64 -2.44  ...    0.20  4624.62      UK   15     NaN\n",
              "\n",
              "[5 rows x 17 columns]"
            ]
          },
          "metadata": {
            "tags": []
          },
          "execution_count": 5
        }
      ]
    },
    {
      "cell_type": "code",
      "metadata": {
        "id": "Qt9c9MZNDY3K"
      },
      "source": [
        "def clean_data(data):\r\n",
        "  data.replace({'F2':{'Very low': 0, 'Low':1, 'Medium':2, 'High':3, 'Very high':4}}, inplace=True)\r\n",
        "  clean_data = pd.get_dummies(data, columns=['F15'])\r\n",
        "  return(clean_data)"
      ],
      "execution_count": 6,
      "outputs": []
    },
    {
      "cell_type": "code",
      "metadata": {
        "id": "o-OI8jz-EuBu"
      },
      "source": [
        "data = clean_data(data)\r\n",
        "test_data = clean_data(test)"
      ],
      "execution_count": 7,
      "outputs": []
    },
    {
      "cell_type": "code",
      "metadata": {
        "colab": {
          "base_uri": "https://localhost:8080/"
        },
        "id": "DYsbXLvYH106",
        "outputId": "522ebf76-e699-4bbd-98fc-54ff9bbc5791"
      },
      "source": [
        "x = data.loc[:, data.columns != 'Target'].to_numpy()\r\n",
        "y = data.loc[:, data.columns == 'Target'].to_numpy()\r\n",
        "print(x.shape, y.shape)"
      ],
      "execution_count": 8,
      "outputs": [
        {
          "output_type": "stream",
          "text": [
            "(1500, 19) (1500, 1)\n"
          ],
          "name": "stdout"
        }
      ]
    },
    {
      "cell_type": "code",
      "metadata": {
        "colab": {
          "base_uri": "https://localhost:8080/"
        },
        "id": "5DFSdzDkIpTJ",
        "outputId": "0ab90d21-1aa7-4714-d635-5baf01ed0476"
      },
      "source": [
        "x_test_data = test_data.loc[:, test_data.columns != 'Target'].to_numpy()\r\n",
        "print(x_test_data.shape)"
      ],
      "execution_count": 9,
      "outputs": [
        {
          "output_type": "stream",
          "text": [
            "(1500, 19)\n"
          ],
          "name": "stdout"
        }
      ]
    },
    {
      "cell_type": "code",
      "metadata": {
        "id": "WLV098nIKijo"
      },
      "source": [
        "k_fold = KFold(n_splits=5)\r\n",
        "for train_indices, test_indices in k_fold.split(x):\r\n",
        "    ss = StandardScaler()\r\n",
        "    ss.fit(x[train_indices, :])\r\n",
        "    x_train = ss.transform(x[train_indices, :])\r\n",
        "    x_test = ss.transform(x[test_indices, :])\r\n",
        "    y_train = y[train_indices]\r\n",
        "    y_test = y[test_indices]"
      ],
      "execution_count": 10,
      "outputs": []
    },
    {
      "cell_type": "code",
      "metadata": {
        "id": "Ix0CVOGowshO"
      },
      "source": [
        "ss = StandardScaler()\r\n",
        "x_test_fitted = ss.fit_transform(x_test_data)"
      ],
      "execution_count": 11,
      "outputs": []
    },
    {
      "cell_type": "code",
      "metadata": {
        "colab": {
          "base_uri": "https://localhost:8080/"
        },
        "id": "fSEljtObw3sL",
        "outputId": "b603669e-1acc-42ad-f182-a633dee47783"
      },
      "source": [
        "print(x_test_fitted.shape)"
      ],
      "execution_count": 12,
      "outputs": [
        {
          "output_type": "stream",
          "text": [
            "(1500, 19)\n"
          ],
          "name": "stdout"
        }
      ]
    },
    {
      "cell_type": "markdown",
      "metadata": {
        "id": "7pTyxEt-LDdv"
      },
      "source": [
        "## a) Investigate the performance of a number of machine learning procedures on this dataset."
      ]
    },
    {
      "cell_type": "markdown",
      "metadata": {
        "id": "AfpA84E3LIC2"
      },
      "source": [
        "### Linear Regression"
      ]
    },
    {
      "cell_type": "code",
      "metadata": {
        "colab": {
          "base_uri": "https://localhost:8080/"
        },
        "id": "LKCPBk_7LKdc",
        "outputId": "3fe06a19-c5cb-4892-f043-a48276906d9c"
      },
      "source": [
        "model_lin_reg = LinearRegression()\r\n",
        "model_lin_reg.fit(x_train, y_train.ravel())\r\n",
        "lin_reg_pred = model_lin_reg.predict(x_test)\r\n",
        "print('Mean Squared Error: %.2f'% mean_squared_error(y_test, lin_reg_pred))\r\n",
        "print('Coefficient of Determination: %.2f'% r2_score(y_test, lin_reg_pred))\r\n",
        "model_lin_reg"
      ],
      "execution_count": 52,
      "outputs": [
        {
          "output_type": "stream",
          "text": [
            "Mean Squared Error: 271915.55\n",
            "Coefficient of Determination: 0.79\n"
          ],
          "name": "stdout"
        },
        {
          "output_type": "execute_result",
          "data": {
            "text/plain": [
              "LinearRegression(copy_X=True, fit_intercept=True, n_jobs=None, normalize=True)"
            ]
          },
          "metadata": {
            "tags": []
          },
          "execution_count": 52
        }
      ]
    },
    {
      "cell_type": "markdown",
      "metadata": {
        "id": "JCmjIDoO0GTZ"
      },
      "source": [
        "### Tuned Linear regression"
      ]
    },
    {
      "cell_type": "code",
      "metadata": {
        "colab": {
          "base_uri": "https://localhost:8080/"
        },
        "id": "KHycmrlZ0G8g",
        "outputId": "941b4e8d-bda7-4e06-99f7-3ef915df42f9"
      },
      "source": [
        "lin_reg_param_grid = {'fit_intercept': [True, False],\r\n",
        "                      'normalize': [True, False],\r\n",
        "                      'n_jobs': [-1,1,5,10,25]}\r\n",
        "lin_cv = GridSearchCV(model_lin_reg, lin_reg_param_grid, refit=True)\r\n",
        "lin_cv.fit(x_train, y_train.ravel())\r\n",
        "lin_cv_pred = lin_cv.predict(x_test)\r\n",
        "print('Mean Squared Error: %.2f'% mean_squared_error(y_test, lin_cv_pred))\r\n",
        "print('Coefficient of Determination: %.2f'% r2_score(y_test, lin_cv_pred))\r\n",
        "print(lin_cv.best_params_)"
      ],
      "execution_count": 43,
      "outputs": [
        {
          "output_type": "stream",
          "text": [
            "Mean Squared Error: 273213.37\n",
            "Coefficient of Determination: 0.79\n",
            "{'fit_intercept': True, 'n_jobs': -1, 'normalize': False}\n"
          ],
          "name": "stdout"
        }
      ]
    },
    {
      "cell_type": "code",
      "metadata": {
        "colab": {
          "base_uri": "https://localhost:8080/",
          "height": 282
        },
        "id": "xFX33KxF1FJv",
        "outputId": "3a5601b0-be95-4265-ec29-bd39d2f10b63"
      },
      "source": [
        "plt.plot(np.arange(1,21), lin_cv.cv_results_['mean_test_score'])"
      ],
      "execution_count": 45,
      "outputs": [
        {
          "output_type": "execute_result",
          "data": {
            "text/plain": [
              "[<matplotlib.lines.Line2D at 0x7f5ef2cc4d68>]"
            ]
          },
          "metadata": {
            "tags": []
          },
          "execution_count": 45
        },
        {
          "output_type": "display_data",
          "data": {
            "image/png": "[encoded data removed]",
            "text/plain": [
              "<Figure size 432x288 with 1 Axes>"
            ]
          },
          "metadata": {
            "tags": []
          }
        }
      ]
    },
    {
      "cell_type": "markdown",
      "metadata": {
        "id": "u2h0VT6SS2ZY"
      },
      "source": [
        "### Support Vector regression"
      ]
    },
    {
      "cell_type": "code",
      "metadata": {
        "colab": {
          "base_uri": "https://localhost:8080/"
        },
        "id": "r5QDASm1S1dJ",
        "outputId": "a532fe26-8dee-490f-b41c-6b0cea21794b"
      },
      "source": [
        "model_svr = svm.SVR()\r\n",
        "model_svr.fit(x_train, y_train.ravel())\r\n",
        "svr_pred = model_svr.predict(x_test)\r\n",
        "print('Mean Squared Error: %.2f'% mean_squared_error(y_test, svr_pred))\r\n",
        "print('Coefficient of Determination: %.2f'% r2_score(y_test, svr_pred))\r\n"
      ],
      "execution_count": 53,
      "outputs": [
        {
          "output_type": "stream",
          "text": [
            "Mean Squared Error: 1520740.30\n",
            "Coefficient of Determination: -0.20\n"
          ],
          "name": "stdout"
        },
        {
          "output_type": "execute_result",
          "data": {
            "text/plain": [
              "SVR(C=1.0, cache_size=200, coef0=0.0, degree=3, epsilon=0.1, gamma='scale',\n",
              "    kernel='rbf', max_iter=-1, shrinking=True, tol=0.001, verbose=False)"
            ]
          },
          "metadata": {
            "tags": []
          },
          "execution_count": 53
        }
      ]
    },
    {
      "cell_type": "markdown",
      "metadata": {
        "id": "Pak_M5WDnXMh"
      },
      "source": [
        "#### Tuned Support Vector regression"
      ]
    },
    {
      "cell_type": "code",
      "metadata": {
        "colab": {
          "base_uri": "https://localhost:8080/"
        },
        "id": "DPvVW6UdnXqZ",
        "outputId": "7868ef66-a500-4e45-c0e1-6ec2b9739c3c"
      },
      "source": [
        "svr_param_grid = {'C':[1,10,100,1000],\r\n",
        "              'gamma':[1,0.1,0.001,0.0001],\r\n",
        "              'kernel': ['linear', 'rbf']}\r\n",
        "svr_cv = GridSearchCV(model_svr, svr_param_grid, refit=True)\r\n",
        "svr_cv.fit(x_train, y_train.ravel())\r\n",
        "svr_cv_pred = svr_cv.predict(x_test)\r\n",
        "print('Mean Squared Error: %.2f'% mean_squared_error(y_test, svr_cv_pred))\r\n",
        "print('Coefficient of Determination: %.2f'% r2_score(y_test, svr_cv_pred))\r\n",
        "print(svr_cv.best_params_)"
      ],
      "execution_count": 16,
      "outputs": [
        {
          "output_type": "stream",
          "text": [
            "Mean Squared Error: 160644.89\n",
            "Coefficient of Determination: 0.87\n",
            "{'C': 1000, 'gamma': 0.1, 'kernel': 'rbf'}\n"
          ],
          "name": "stdout"
        }
      ]
    },
    {
      "cell_type": "code",
      "metadata": {
        "colab": {
          "base_uri": "https://localhost:8080/",
          "height": 282
        },
        "id": "SECBGh4Xzki2",
        "outputId": "2dd135b6-9b62-48dc-b8f4-e7fe1d65b76c"
      },
      "source": [
        "plt.plot(np.arange(1,33), svr_cv.cv_results_['mean_test_score'])"
      ],
      "execution_count": 26,
      "outputs": [
        {
          "output_type": "execute_result",
          "data": {
            "text/plain": [
              "[<matplotlib.lines.Line2D at 0x7f5efc580a90>]"
            ]
          },
          "metadata": {
            "tags": []
          },
          "execution_count": 26
        },
        {
          "output_type": "display_data",
          "data": {
            "image/png": "[encoded data removed]",
            "text/plain": [
              "<Figure size 432x288 with 1 Axes>"
            ]
          },
          "metadata": {
            "tags": []
          }
        }
      ]
    },
    {
      "cell_type": "markdown",
      "metadata": {
        "id": "yR1HViLvaAvB"
      },
      "source": [
        "### Gradient Boosting Regression"
      ]
    },
    {
      "cell_type": "code",
      "metadata": {
        "colab": {
          "base_uri": "https://localhost:8080/"
        },
        "id": "bsNWQeYraAcO",
        "outputId": "041a70a7-b7e0-418e-d29c-1dbe713bc468"
      },
      "source": [
        "model_grad = GradientBoostingRegressor()\r\n",
        "model_grad.fit(x_train, y_train.ravel())\r\n",
        "grad_pred = model_grad.predict(x_test)\r\n",
        "print('Mean Squared Error: %.2f'% mean_squared_error(y_test, grad_pred))\r\n",
        "print('Coefficient of Determination: %.2f'% r2_score(y_test, grad_pred))"
      ],
      "execution_count": 17,
      "outputs": [
        {
          "output_type": "stream",
          "text": [
            "Mean Squared Error: 194286.18\n",
            "Coefficient of Determination: 0.85\n"
          ],
          "name": "stdout"
        }
      ]
    },
    {
      "cell_type": "markdown",
      "metadata": {
        "id": "iwzCSoidiKNM"
      },
      "source": [
        "#### Tuned Gradient Boosting regression"
      ]
    },
    {
      "cell_type": "code",
      "metadata": {
        "colab": {
          "base_uri": "https://localhost:8080/"
        },
        "id": "nnHvSeLqiryL",
        "outputId": "1c1d9edb-56cd-4097-b63e-2e4d17190432"
      },
      "source": [
        "grad_param_grid = {'n_estimators':[50,100,200,300,400,500]}\r\n",
        "grad_cv = GridSearchCV(model_grad, grad_param_grid, scoring='neg_mean_squared_error', refit=True)\r\n",
        "grad_cv.fit(x_train, y_train.ravel())\r\n",
        "grad_cv_pred = grad_cv.predict(x_test)\r\n",
        "print('Mean Squared Error: %.2f'% mean_squared_error(y_test, grad_cv_pred))\r\n",
        "print('Coefficient of Determination: %.2f'% r2_score(y_test, grad_cv_pred))\r\n",
        "print(grad_cv.best_params_)"
      ],
      "execution_count": 56,
      "outputs": [
        {
          "output_type": "stream",
          "text": [
            "Mean Squared Error: 180909.38\n",
            "Coefficient of Determination: 0.86\n",
            "{'n_estimators': 500}\n"
          ],
          "name": "stdout"
        }
      ]
    },
    {
      "cell_type": "code",
      "metadata": {
        "colab": {
          "base_uri": "https://localhost:8080/",
          "height": 282
        },
        "id": "56L1hYXKy6xG",
        "outputId": "58622dea-1451-46a1-80a1-f212cf2f31df"
      },
      "source": [
        "plt.plot(np.arange(6), grad_cv.cv_results_['mean_test_score'])"
      ],
      "execution_count": 57,
      "outputs": [
        {
          "output_type": "execute_result",
          "data": {
            "text/plain": [
              "[<matplotlib.lines.Line2D at 0x7f5ef2c4d898>]"
            ]
          },
          "metadata": {
            "tags": []
          },
          "execution_count": 57
        },
        {
          "output_type": "display_data",
          "data": {
            "image/png": "[encoded data removed]",
            "text/plain": [
              "<Figure size 432x288 with 1 Axes>"
            ]
          },
          "metadata": {
            "tags": []
          }
        }
      ]
    },
    {
      "cell_type": "markdown",
      "metadata": {
        "id": "OpI9Nf2aw80G"
      },
      "source": [
        "## b) Prediction on a hold-out test set."
      ]
    },
    {
      "cell_type": "code",
      "metadata": {
        "id": "UY_o4BS_w-bK"
      },
      "source": [
        "y_test_ouput = svr_cv.predict(x_test_fitted)\r\n",
        "test['Target'] = y_test_ouput"
      ],
      "execution_count": 19,
      "outputs": []
    },
    {
      "cell_type": "code",
      "metadata": {
        "colab": {
          "base_uri": "https://localhost:8080/",
          "height": 359
        },
        "id": "505r2WONxamZ",
        "outputId": "cab3c18b-3576-4279-b031-dd033c7b680d"
      },
      "source": [
        "test.head(10)"
      ],
      "execution_count": 20,
      "outputs": [
        {
          "output_type": "execute_result",
          "data": {
            "text/html": [
              "<div>\n",
              "<style scoped>\n",
              "    .dataframe tbody tr th:only-of-type {\n",
              "        vertical-align: middle;\n",
              "    }\n",
              "\n",
              "    .dataframe tbody tr th {\n",
              "        vertical-align: top;\n",
              "    }\n",
              "\n",
              "    .dataframe thead th {\n",
              "        text-align: right;\n",
              "    }\n",
              "</style>\n",
              "<table border=\"1\" class=\"dataframe\">\n",
              "  <thead>\n",
              "    <tr style=\"text-align: right;\">\n",
              "      <th></th>\n",
              "      <th>F1</th>\n",
              "      <th>F2</th>\n",
              "      <th>F3</th>\n",
              "      <th>F4</th>\n",
              "      <th>F5</th>\n",
              "      <th>F6</th>\n",
              "      <th>F7</th>\n",
              "      <th>F8</th>\n",
              "      <th>F9</th>\n",
              "      <th>F10</th>\n",
              "      <th>F11</th>\n",
              "      <th>F12</th>\n",
              "      <th>F13</th>\n",
              "      <th>F14</th>\n",
              "      <th>F15</th>\n",
              "      <th>F16</th>\n",
              "      <th>Target</th>\n",
              "    </tr>\n",
              "  </thead>\n",
              "  <tbody>\n",
              "    <tr>\n",
              "      <th>0</th>\n",
              "      <td>3.06</td>\n",
              "      <td>3</td>\n",
              "      <td>1.32</td>\n",
              "      <td>-50743.74</td>\n",
              "      <td>-1.08</td>\n",
              "      <td>2</td>\n",
              "      <td>10.11</td>\n",
              "      <td>1.74</td>\n",
              "      <td>-67.98</td>\n",
              "      <td>16.17</td>\n",
              "      <td>-1257.99</td>\n",
              "      <td>29.75</td>\n",
              "      <td>6.96</td>\n",
              "      <td>4750.68</td>\n",
              "      <td>Europe</td>\n",
              "      <td>12</td>\n",
              "      <td>-152.911882</td>\n",
              "    </tr>\n",
              "    <tr>\n",
              "      <th>1</th>\n",
              "      <td>9.98</td>\n",
              "      <td>2</td>\n",
              "      <td>2.51</td>\n",
              "      <td>-57574.32</td>\n",
              "      <td>-0.75</td>\n",
              "      <td>12</td>\n",
              "      <td>-126.69</td>\n",
              "      <td>9.84</td>\n",
              "      <td>-150.96</td>\n",
              "      <td>0.66</td>\n",
              "      <td>-1257.20</td>\n",
              "      <td>104.60</td>\n",
              "      <td>0.02</td>\n",
              "      <td>3623.19</td>\n",
              "      <td>UK</td>\n",
              "      <td>6</td>\n",
              "      <td>1056.253563</td>\n",
              "    </tr>\n",
              "    <tr>\n",
              "      <th>2</th>\n",
              "      <td>2.30</td>\n",
              "      <td>0</td>\n",
              "      <td>3.43</td>\n",
              "      <td>-31777.88</td>\n",
              "      <td>-0.03</td>\n",
              "      <td>8</td>\n",
              "      <td>-21.75</td>\n",
              "      <td>10.62</td>\n",
              "      <td>-124.71</td>\n",
              "      <td>11.94</td>\n",
              "      <td>-345.02</td>\n",
              "      <td>154.47</td>\n",
              "      <td>315.58</td>\n",
              "      <td>4274.67</td>\n",
              "      <td>Europe</td>\n",
              "      <td>9</td>\n",
              "      <td>620.723141</td>\n",
              "    </tr>\n",
              "    <tr>\n",
              "      <th>3</th>\n",
              "      <td>2.42</td>\n",
              "      <td>4</td>\n",
              "      <td>6.67</td>\n",
              "      <td>-42583.36</td>\n",
              "      <td>7.02</td>\n",
              "      <td>8</td>\n",
              "      <td>-185.70</td>\n",
              "      <td>-5.40</td>\n",
              "      <td>-93.20</td>\n",
              "      <td>6.60</td>\n",
              "      <td>-1276.61</td>\n",
              "      <td>40.70</td>\n",
              "      <td>6.40</td>\n",
              "      <td>3892.74</td>\n",
              "      <td>UK</td>\n",
              "      <td>3</td>\n",
              "      <td>706.459156</td>\n",
              "    </tr>\n",
              "    <tr>\n",
              "      <th>4</th>\n",
              "      <td>2.24</td>\n",
              "      <td>4</td>\n",
              "      <td>3.23</td>\n",
              "      <td>-39844.64</td>\n",
              "      <td>-2.44</td>\n",
              "      <td>4</td>\n",
              "      <td>28.41</td>\n",
              "      <td>14.07</td>\n",
              "      <td>-68.80</td>\n",
              "      <td>1.89</td>\n",
              "      <td>-1199.55</td>\n",
              "      <td>85.06</td>\n",
              "      <td>0.20</td>\n",
              "      <td>4624.62</td>\n",
              "      <td>UK</td>\n",
              "      <td>15</td>\n",
              "      <td>292.565059</td>\n",
              "    </tr>\n",
              "    <tr>\n",
              "      <th>5</th>\n",
              "      <td>8.96</td>\n",
              "      <td>1</td>\n",
              "      <td>9.34</td>\n",
              "      <td>-28857.30</td>\n",
              "      <td>6.44</td>\n",
              "      <td>10</td>\n",
              "      <td>22.77</td>\n",
              "      <td>12.33</td>\n",
              "      <td>-97.04</td>\n",
              "      <td>-2.28</td>\n",
              "      <td>-648.67</td>\n",
              "      <td>153.01</td>\n",
              "      <td>12.42</td>\n",
              "      <td>3206.70</td>\n",
              "      <td>USA</td>\n",
              "      <td>12</td>\n",
              "      <td>1658.403535</td>\n",
              "    </tr>\n",
              "    <tr>\n",
              "      <th>6</th>\n",
              "      <td>15.96</td>\n",
              "      <td>1</td>\n",
              "      <td>3.64</td>\n",
              "      <td>-37126.68</td>\n",
              "      <td>-1.91</td>\n",
              "      <td>6</td>\n",
              "      <td>-53.19</td>\n",
              "      <td>5.46</td>\n",
              "      <td>-79.29</td>\n",
              "      <td>15.69</td>\n",
              "      <td>-1045.15</td>\n",
              "      <td>59.07</td>\n",
              "      <td>0.04</td>\n",
              "      <td>3666.48</td>\n",
              "      <td>USA</td>\n",
              "      <td>9</td>\n",
              "      <td>726.239612</td>\n",
              "    </tr>\n",
              "    <tr>\n",
              "      <th>7</th>\n",
              "      <td>4.02</td>\n",
              "      <td>1</td>\n",
              "      <td>4.97</td>\n",
              "      <td>-42556.44</td>\n",
              "      <td>1.33</td>\n",
              "      <td>12</td>\n",
              "      <td>199.29</td>\n",
              "      <td>3.54</td>\n",
              "      <td>-104.62</td>\n",
              "      <td>-46.83</td>\n",
              "      <td>-1155.72</td>\n",
              "      <td>133.46</td>\n",
              "      <td>0.40</td>\n",
              "      <td>3277.89</td>\n",
              "      <td>USA</td>\n",
              "      <td>3</td>\n",
              "      <td>811.387365</td>\n",
              "    </tr>\n",
              "    <tr>\n",
              "      <th>8</th>\n",
              "      <td>14.58</td>\n",
              "      <td>2</td>\n",
              "      <td>0.87</td>\n",
              "      <td>-40054.02</td>\n",
              "      <td>3.23</td>\n",
              "      <td>8</td>\n",
              "      <td>-105.69</td>\n",
              "      <td>10.56</td>\n",
              "      <td>-136.10</td>\n",
              "      <td>10.92</td>\n",
              "      <td>-1179.14</td>\n",
              "      <td>153.10</td>\n",
              "      <td>0.12</td>\n",
              "      <td>2792.97</td>\n",
              "      <td>UK</td>\n",
              "      <td>12</td>\n",
              "      <td>2942.485577</td>\n",
              "    </tr>\n",
              "    <tr>\n",
              "      <th>9</th>\n",
              "      <td>28.30</td>\n",
              "      <td>1</td>\n",
              "      <td>4.98</td>\n",
              "      <td>-47597.48</td>\n",
              "      <td>0.71</td>\n",
              "      <td>14</td>\n",
              "      <td>-146.37</td>\n",
              "      <td>-1.53</td>\n",
              "      <td>-118.85</td>\n",
              "      <td>9.72</td>\n",
              "      <td>-1314.27</td>\n",
              "      <td>100.92</td>\n",
              "      <td>1.70</td>\n",
              "      <td>5051.16</td>\n",
              "      <td>Europe</td>\n",
              "      <td>12</td>\n",
              "      <td>1319.916210</td>\n",
              "    </tr>\n",
              "  </tbody>\n",
              "</table>\n",
              "</div>"
            ],
            "text/plain": [
              "      F1  F2    F3        F4    F5  ...     F13      F14     F15  F16       Target\n",
              "0   3.06   3  1.32 -50743.74 -1.08  ...    6.96  4750.68  Europe   12  -152.911882\n",
              "1   9.98   2  2.51 -57574.32 -0.75  ...    0.02  3623.19      UK    6  1056.253563\n",
              "2   2.30   0  3.43 -31777.88 -0.03  ...  315.58  4274.67  Europe    9   620.723141\n",
              "3   2.42   4  6.67 -42583.36  7.02  ...    6.40  3892.74      UK    3   706.459156\n",
              "4   2.24   4  3.23 -39844.64 -2.44  ...    0.20  4624.62      UK   15   292.565059\n",
              "5   8.96   1  9.34 -28857.30  6.44  ...   12.42  3206.70     USA   12  1658.403535\n",
              "6  15.96   1  3.64 -37126.68 -1.91  ...    0.04  3666.48     USA    9   726.239612\n",
              "7   4.02   1  4.97 -42556.44  1.33  ...    0.40  3277.89     USA    3   811.387365\n",
              "8  14.58   2  0.87 -40054.02  3.23  ...    0.12  2792.97      UK   12  2942.485577\n",
              "9  28.30   1  4.98 -47597.48  0.71  ...    1.70  5051.16  Europe   12  1319.916210\n",
              "\n",
              "[10 rows x 17 columns]"
            ]
          },
          "metadata": {
            "tags": []
          },
          "execution_count": 20
        }
      ]
    },
    {
      "cell_type": "code",
      "metadata": {
        "id": "pU_UG2woxPIX"
      },
      "source": [
        "test.to_csv('CE802_P3_Test.csv')"
      ],
      "execution_count": 21,
      "outputs": []
    }
  ]
}