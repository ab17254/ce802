{
  "nbformat": 4,
  "nbformat_minor": 0,
  "metadata": {
    "kernelspec": {
      "display_name": "Python 3",
      "language": "python",
      "name": "python3"
    },
    "language_info": {
      "codemirror_mode": {
        "name": "ipython",
        "version": 3
      },
      "file_extension": ".py",
      "mimetype": "text/x-python",
      "name": "python",
      "nbconvert_exporter": "python",
      "pygments_lexer": "ipython3",
      "version": "3.7.9"
    },
    "colab": {
      "name": "Pandas and preprocessing in scikit-learn.ipynb",
      "provenance": [],
      "toc_visible": true
    }
  },
  "cells": [
    {
      "cell_type": "markdown",
      "metadata": {
        "id": "dEie6of5RxnR"
      },
      "source": [
        "# Data preparation for machine learning"
      ]
    },
    {
      "cell_type": "markdown",
      "metadata": {
        "id": "xR73N2VzRxnk"
      },
      "source": [
        "By: Jacobo Fernandez-Vargas and Luca Citi\n",
        "\n",
        "Based on the [scikit-learn](http://scikit-learn.org/stable/tutorial/basic/tutorial.html) and [pandas](https://pandas.pydata.org/docs/getting_started/index.html) documentation"
      ]
    },
    {
      "cell_type": "markdown",
      "metadata": {
        "id": "EDqNreY2Rxnl"
      },
      "source": [
        "## Loading data with Pandas"
      ]
    },
    {
      "cell_type": "markdown",
      "metadata": {
        "id": "46pDMKNxRxnl"
      },
      "source": [
        "Pandas is a powerfull library that is used in data analysis. We are not going to explore all its options but only focus in its functionalities that allow us to read data that contains non-numeric values such as text or dates. Pandas can also load data from excel files using the library 'xlrd'. Pandas supports reading and writing other complex data types such as sql, json, html and more as well.\n",
        "When reading CSV files, Pandas tries to infer the type from the values in each column. We can force Pandas to treat a column as containing dates and even specify that we want to treat dates as 'dayfirst', i.e. DD/MM/YYYY (the way used in several countries, including the UK) rather than MM/DD/YYYY (like in the USA).\n",
        "If we have all numeric values in a CSV format we can also use Numpy directly to read the table but will not have access to Pandas functionalities."
      ]
    },
    {
      "cell_type": "code",
      "metadata": {
        "id": "YrDRxwogRxnm"
      },
      "source": [
        "import pandas as pd"
      ],
      "execution_count": 1,
      "outputs": []
    },
    {
      "cell_type": "code",
      "metadata": {
        "colab": {
          "resources": {
            "http://localhost:8080/nbextensions/google.colab/files.js": {
              "data": "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",
              "ok": true,
              "headers": [
                [
                  "content-type",
                  "application/javascript"
                ]
              ],
              "status": 200,
              "status_text": ""
            }
          },
          "base_uri": "https://localhost:8080/",
          "height": 140
        },
        "id": "sLGacukQUeiE",
        "outputId": "4f4689b0-c06a-4b38-9dd1-c7c2e2c86490"
      },
      "source": [
        "from google.colab import files\r\n",
        "\r\n",
        "uploaded = files.upload()\r\n",
        "\r\n",
        "for fn in uploaded.keys():\r\n",
        "  print('User uploaded file \"{name}\" with length {length} bytes'.format(\r\n",
        "      name=fn, length=len(uploaded[fn])))"
      ],
      "execution_count": 2,
      "outputs": [
        {
          "output_type": "display_data",
          "data": {
            "text/html": [
              "\n",
              "     <input type=\"file\" id=\"files-aa058729-0f61-494e-803d-9d4d59b2449e\" name=\"files[]\" multiple disabled\n",
              "        style=\"border:none\" />\n",
              "     <output id=\"result-aa058729-0f61-494e-803d-9d4d59b2449e\">\n",
              "      Upload widget is only available when the cell has been executed in the\n",
              "      current browser session. Please rerun this cell to enable.\n",
              "      </output>\n",
              "      <script src=\"/nbextensions/google.colab/files.js\"></script> "
            ],
            "text/plain": [
              "<IPython.core.display.HTML object>"
            ]
          },
          "metadata": {
            "tags": []
          }
        },
        {
          "output_type": "stream",
          "text": [
            "Saving exercise1.csv to exercise1.csv\n",
            "Saving example1.csv to example1.csv\n",
            "User uploaded file \"exercise1.csv\" with length 423653 bytes\n",
            "User uploaded file \"example1.csv\" with length 1467 bytes\n"
          ],
          "name": "stdout"
        }
      ]
    },
    {
      "cell_type": "code",
      "metadata": {
        "colab": {
          "base_uri": "https://localhost:8080/",
          "height": 1000
        },
        "id": "ixKeCjYJRxnm",
        "outputId": "f926d474-0a9b-47a2-b58f-e8204cb9e705"
      },
      "source": [
        "data = pd.read_csv('example1.csv', parse_dates=['Date'], dayfirst=True)\n",
        "data"
      ],
      "execution_count": 3,
      "outputs": [
        {
          "output_type": "execute_result",
          "data": {
            "text/html": [
              "<div>\n",
              "<style scoped>\n",
              "    .dataframe tbody tr th:only-of-type {\n",
              "        vertical-align: middle;\n",
              "    }\n",
              "\n",
              "    .dataframe tbody tr th {\n",
              "        vertical-align: top;\n",
              "    }\n",
              "\n",
              "    .dataframe thead th {\n",
              "        text-align: right;\n",
              "    }\n",
              "</style>\n",
              "<table border=\"1\" class=\"dataframe\">\n",
              "  <thead>\n",
              "    <tr style=\"text-align: right;\">\n",
              "      <th></th>\n",
              "      <th>Date</th>\n",
              "      <th>Time</th>\n",
              "      <th>Size</th>\n",
              "      <th>Colour</th>\n",
              "      <th>Cost</th>\n",
              "      <th>Label</th>\n",
              "    </tr>\n",
              "  </thead>\n",
              "  <tbody>\n",
              "    <tr>\n",
              "      <th>0</th>\n",
              "      <td>2020-10-16</td>\n",
              "      <td>11.0</td>\n",
              "      <td>Small</td>\n",
              "      <td>Blue</td>\n",
              "      <td>109.521068</td>\n",
              "      <td>1</td>\n",
              "    </tr>\n",
              "    <tr>\n",
              "      <th>1</th>\n",
              "      <td>2020-10-16</td>\n",
              "      <td>13.0</td>\n",
              "      <td>Small</td>\n",
              "      <td>Red</td>\n",
              "      <td>112.141170</td>\n",
              "      <td>1</td>\n",
              "    </tr>\n",
              "    <tr>\n",
              "      <th>2</th>\n",
              "      <td>2020-10-16</td>\n",
              "      <td>17.0</td>\n",
              "      <td>Medium</td>\n",
              "      <td>Green</td>\n",
              "      <td>112.004677</td>\n",
              "      <td>1</td>\n",
              "    </tr>\n",
              "    <tr>\n",
              "      <th>3</th>\n",
              "      <td>2020-10-17</td>\n",
              "      <td>9.0</td>\n",
              "      <td>Large</td>\n",
              "      <td>Green</td>\n",
              "      <td>15.112922</td>\n",
              "      <td>0</td>\n",
              "    </tr>\n",
              "    <tr>\n",
              "      <th>4</th>\n",
              "      <td>2020-10-17</td>\n",
              "      <td>11.0</td>\n",
              "      <td>Large</td>\n",
              "      <td>Green</td>\n",
              "      <td>105.663642</td>\n",
              "      <td>1</td>\n",
              "    </tr>\n",
              "    <tr>\n",
              "      <th>5</th>\n",
              "      <td>2020-10-17</td>\n",
              "      <td>17.0</td>\n",
              "      <td>Medium</td>\n",
              "      <td>Green</td>\n",
              "      <td>5.158097</td>\n",
              "      <td>0</td>\n",
              "    </tr>\n",
              "    <tr>\n",
              "      <th>6</th>\n",
              "      <td>2020-10-18</td>\n",
              "      <td>9.0</td>\n",
              "      <td>Small</td>\n",
              "      <td>Blue</td>\n",
              "      <td>107.947930</td>\n",
              "      <td>1</td>\n",
              "    </tr>\n",
              "    <tr>\n",
              "      <th>7</th>\n",
              "      <td>2020-10-18</td>\n",
              "      <td>NaN</td>\n",
              "      <td>Large</td>\n",
              "      <td>Red</td>\n",
              "      <td>8.320838</td>\n",
              "      <td>0</td>\n",
              "    </tr>\n",
              "    <tr>\n",
              "      <th>8</th>\n",
              "      <td>2020-10-18</td>\n",
              "      <td>13.0</td>\n",
              "      <td>Large</td>\n",
              "      <td>Red</td>\n",
              "      <td>113.424684</td>\n",
              "      <td>1</td>\n",
              "    </tr>\n",
              "    <tr>\n",
              "      <th>9</th>\n",
              "      <td>2020-10-18</td>\n",
              "      <td>15.0</td>\n",
              "      <td>Small</td>\n",
              "      <td>Blue</td>\n",
              "      <td>103.223563</td>\n",
              "      <td>1</td>\n",
              "    </tr>\n",
              "    <tr>\n",
              "      <th>10</th>\n",
              "      <td>2020-10-18</td>\n",
              "      <td>17.0</td>\n",
              "      <td>Large</td>\n",
              "      <td>Red</td>\n",
              "      <td>115.190210</td>\n",
              "      <td>1</td>\n",
              "    </tr>\n",
              "    <tr>\n",
              "      <th>11</th>\n",
              "      <td>2020-10-19</td>\n",
              "      <td>9.0</td>\n",
              "      <td>Medium</td>\n",
              "      <td>Blue</td>\n",
              "      <td>105.216665</td>\n",
              "      <td>1</td>\n",
              "    </tr>\n",
              "    <tr>\n",
              "      <th>12</th>\n",
              "      <td>2020-10-19</td>\n",
              "      <td>11.0</td>\n",
              "      <td>Small</td>\n",
              "      <td>Red</td>\n",
              "      <td>103.433604</td>\n",
              "      <td>1</td>\n",
              "    </tr>\n",
              "    <tr>\n",
              "      <th>13</th>\n",
              "      <td>2020-10-19</td>\n",
              "      <td>13.0</td>\n",
              "      <td>Large</td>\n",
              "      <td>Blue</td>\n",
              "      <td>15.599248</td>\n",
              "      <td>0</td>\n",
              "    </tr>\n",
              "    <tr>\n",
              "      <th>14</th>\n",
              "      <td>2020-10-19</td>\n",
              "      <td>15.0</td>\n",
              "      <td>Small</td>\n",
              "      <td>Red</td>\n",
              "      <td>12.904205</td>\n",
              "      <td>0</td>\n",
              "    </tr>\n",
              "    <tr>\n",
              "      <th>15</th>\n",
              "      <td>2020-10-20</td>\n",
              "      <td>9.0</td>\n",
              "      <td>Small</td>\n",
              "      <td>Red</td>\n",
              "      <td>19.042334</td>\n",
              "      <td>0</td>\n",
              "    </tr>\n",
              "    <tr>\n",
              "      <th>16</th>\n",
              "      <td>2020-10-20</td>\n",
              "      <td>NaN</td>\n",
              "      <td>Large</td>\n",
              "      <td>Blue</td>\n",
              "      <td>113.658567</td>\n",
              "      <td>1</td>\n",
              "    </tr>\n",
              "    <tr>\n",
              "      <th>17</th>\n",
              "      <td>2020-10-20</td>\n",
              "      <td>17.0</td>\n",
              "      <td>Medium</td>\n",
              "      <td>Red</td>\n",
              "      <td>115.991724</td>\n",
              "      <td>1</td>\n",
              "    </tr>\n",
              "    <tr>\n",
              "      <th>18</th>\n",
              "      <td>2020-10-23</td>\n",
              "      <td>11.0</td>\n",
              "      <td>Medium</td>\n",
              "      <td>Blue</td>\n",
              "      <td>3.643787</td>\n",
              "      <td>0</td>\n",
              "    </tr>\n",
              "    <tr>\n",
              "      <th>19</th>\n",
              "      <td>2020-10-24</td>\n",
              "      <td>11.0</td>\n",
              "      <td>Medium</td>\n",
              "      <td>Red</td>\n",
              "      <td>118.108710</td>\n",
              "      <td>1</td>\n",
              "    </tr>\n",
              "    <tr>\n",
              "      <th>20</th>\n",
              "      <td>2020-10-25</td>\n",
              "      <td>11.0</td>\n",
              "      <td>Large</td>\n",
              "      <td>Green</td>\n",
              "      <td>14.973611</td>\n",
              "      <td>0</td>\n",
              "    </tr>\n",
              "    <tr>\n",
              "      <th>21</th>\n",
              "      <td>2020-10-25</td>\n",
              "      <td>NaN</td>\n",
              "      <td>Large</td>\n",
              "      <td>Blue</td>\n",
              "      <td>10.699388</td>\n",
              "      <td>0</td>\n",
              "    </tr>\n",
              "    <tr>\n",
              "      <th>22</th>\n",
              "      <td>2020-10-25</td>\n",
              "      <td>15.0</td>\n",
              "      <td>Large</td>\n",
              "      <td>Red</td>\n",
              "      <td>106.224366</td>\n",
              "      <td>1</td>\n",
              "    </tr>\n",
              "    <tr>\n",
              "      <th>23</th>\n",
              "      <td>2020-10-26</td>\n",
              "      <td>11.0</td>\n",
              "      <td>Large</td>\n",
              "      <td>Red</td>\n",
              "      <td>114.638621</td>\n",
              "      <td>1</td>\n",
              "    </tr>\n",
              "    <tr>\n",
              "      <th>24</th>\n",
              "      <td>2020-10-26</td>\n",
              "      <td>13.0</td>\n",
              "      <td>Small</td>\n",
              "      <td>Blue</td>\n",
              "      <td>1.228235</td>\n",
              "      <td>0</td>\n",
              "    </tr>\n",
              "    <tr>\n",
              "      <th>25</th>\n",
              "      <td>2020-10-27</td>\n",
              "      <td>11.0</td>\n",
              "      <td>Large</td>\n",
              "      <td>Red</td>\n",
              "      <td>5.791450</td>\n",
              "      <td>0</td>\n",
              "    </tr>\n",
              "    <tr>\n",
              "      <th>26</th>\n",
              "      <td>2020-10-28</td>\n",
              "      <td>9.0</td>\n",
              "      <td>Small</td>\n",
              "      <td>Red</td>\n",
              "      <td>8.606806</td>\n",
              "      <td>0</td>\n",
              "    </tr>\n",
              "    <tr>\n",
              "      <th>27</th>\n",
              "      <td>2020-10-28</td>\n",
              "      <td>13.0</td>\n",
              "      <td>Large</td>\n",
              "      <td>Blue</td>\n",
              "      <td>12.414377</td>\n",
              "      <td>0</td>\n",
              "    </tr>\n",
              "    <tr>\n",
              "      <th>28</th>\n",
              "      <td>2020-10-30</td>\n",
              "      <td>NaN</td>\n",
              "      <td>Large</td>\n",
              "      <td>Red</td>\n",
              "      <td>115.663402</td>\n",
              "      <td>1</td>\n",
              "    </tr>\n",
              "    <tr>\n",
              "      <th>29</th>\n",
              "      <td>2020-10-30</td>\n",
              "      <td>13.0</td>\n",
              "      <td>Small</td>\n",
              "      <td>Blue</td>\n",
              "      <td>115.410273</td>\n",
              "      <td>1</td>\n",
              "    </tr>\n",
              "    <tr>\n",
              "      <th>30</th>\n",
              "      <td>2020-10-30</td>\n",
              "      <td>11.0</td>\n",
              "      <td>Small</td>\n",
              "      <td>Red</td>\n",
              "      <td>105.401517</td>\n",
              "      <td>1</td>\n",
              "    </tr>\n",
              "    <tr>\n",
              "      <th>31</th>\n",
              "      <td>2020-10-31</td>\n",
              "      <td>13.0</td>\n",
              "      <td>Medium</td>\n",
              "      <td>Green</td>\n",
              "      <td>0.137767</td>\n",
              "      <td>0</td>\n",
              "    </tr>\n",
              "    <tr>\n",
              "      <th>32</th>\n",
              "      <td>2020-11-01</td>\n",
              "      <td>9.0</td>\n",
              "      <td>Large</td>\n",
              "      <td>Green</td>\n",
              "      <td>112.661384</td>\n",
              "      <td>1</td>\n",
              "    </tr>\n",
              "  </tbody>\n",
              "</table>\n",
              "</div>"
            ],
            "text/plain": [
              "         Date  Time    Size Colour        Cost  Label\n",
              "0  2020-10-16  11.0   Small   Blue  109.521068      1\n",
              "1  2020-10-16  13.0   Small    Red  112.141170      1\n",
              "2  2020-10-16  17.0  Medium  Green  112.004677      1\n",
              "3  2020-10-17   9.0   Large  Green   15.112922      0\n",
              "4  2020-10-17  11.0   Large  Green  105.663642      1\n",
              "5  2020-10-17  17.0  Medium  Green    5.158097      0\n",
              "6  2020-10-18   9.0   Small   Blue  107.947930      1\n",
              "7  2020-10-18   NaN   Large    Red    8.320838      0\n",
              "8  2020-10-18  13.0   Large    Red  113.424684      1\n",
              "9  2020-10-18  15.0   Small   Blue  103.223563      1\n",
              "10 2020-10-18  17.0   Large    Red  115.190210      1\n",
              "11 2020-10-19   9.0  Medium   Blue  105.216665      1\n",
              "12 2020-10-19  11.0   Small    Red  103.433604      1\n",
              "13 2020-10-19  13.0   Large   Blue   15.599248      0\n",
              "14 2020-10-19  15.0   Small    Red   12.904205      0\n",
              "15 2020-10-20   9.0   Small    Red   19.042334      0\n",
              "16 2020-10-20   NaN   Large   Blue  113.658567      1\n",
              "17 2020-10-20  17.0  Medium    Red  115.991724      1\n",
              "18 2020-10-23  11.0  Medium   Blue    3.643787      0\n",
              "19 2020-10-24  11.0  Medium    Red  118.108710      1\n",
              "20 2020-10-25  11.0   Large  Green   14.973611      0\n",
              "21 2020-10-25   NaN   Large   Blue   10.699388      0\n",
              "22 2020-10-25  15.0   Large    Red  106.224366      1\n",
              "23 2020-10-26  11.0   Large    Red  114.638621      1\n",
              "24 2020-10-26  13.0   Small   Blue    1.228235      0\n",
              "25 2020-10-27  11.0   Large    Red    5.791450      0\n",
              "26 2020-10-28   9.0   Small    Red    8.606806      0\n",
              "27 2020-10-28  13.0   Large   Blue   12.414377      0\n",
              "28 2020-10-30   NaN   Large    Red  115.663402      1\n",
              "29 2020-10-30  13.0   Small   Blue  115.410273      1\n",
              "30 2020-10-30  11.0   Small    Red  105.401517      1\n",
              "31 2020-10-31  13.0  Medium  Green    0.137767      0\n",
              "32 2020-11-01   9.0   Large  Green  112.661384      1"
            ]
          },
          "metadata": {
            "tags": []
          },
          "execution_count": 3
        }
      ]
    },
    {
      "cell_type": "markdown",
      "metadata": {
        "id": "5FBBvaiBRxnn"
      },
      "source": [
        "In the same way that the narray is the fundamental brick of the numpy library, the dataframe is the fundamental brick of the pandas library.\n",
        "A dataframe is a a table that contains variables (or series as they are called in Pandas) as columns and samples in the rows. We can acces to each of the series using the name of the variable, either as an index of an array, or as field of the object.\n",
        "\n",
        "The method `head` shows only the first 5 entries of the table."
      ]
    },
    {
      "cell_type": "code",
      "metadata": {
        "colab": {
          "base_uri": "https://localhost:8080/"
        },
        "id": "yFRwJ-UnRxnn",
        "outputId": "57635882-3a33-4e67-bf19-d97a487a4c00"
      },
      "source": [
        "print(data['Date'].head())\n",
        "print(data.Date.head())"
      ],
      "execution_count": 4,
      "outputs": [
        {
          "output_type": "stream",
          "text": [
            "0   2020-10-16\n",
            "1   2020-10-16\n",
            "2   2020-10-16\n",
            "3   2020-10-17\n",
            "4   2020-10-17\n",
            "Name: Date, dtype: datetime64[ns]\n",
            "0   2020-10-16\n",
            "1   2020-10-16\n",
            "2   2020-10-16\n",
            "3   2020-10-17\n",
            "4   2020-10-17\n",
            "Name: Date, dtype: datetime64[ns]\n"
          ],
          "name": "stdout"
        }
      ]
    },
    {
      "cell_type": "markdown",
      "metadata": {
        "id": "FOFaBNnTRxnn"
      },
      "source": [
        "To select rows, we ca use either a conditional format or a a more traditional indexing.\n",
        "For example let's select the rows for which the color is blue."
      ]
    },
    {
      "cell_type": "code",
      "metadata": {
        "colab": {
          "base_uri": "https://localhost:8080/",
          "height": 390
        },
        "id": "S8R7uHHkRxno",
        "outputId": "dd993dd2-f4a4-41ee-d3d9-705646560718"
      },
      "source": [
        "data[data[\"Colour\"] == 'Blue']"
      ],
      "execution_count": 5,
      "outputs": [
        {
          "output_type": "execute_result",
          "data": {
            "text/html": [
              "<div>\n",
              "<style scoped>\n",
              "    .dataframe tbody tr th:only-of-type {\n",
              "        vertical-align: middle;\n",
              "    }\n",
              "\n",
              "    .dataframe tbody tr th {\n",
              "        vertical-align: top;\n",
              "    }\n",
              "\n",
              "    .dataframe thead th {\n",
              "        text-align: right;\n",
              "    }\n",
              "</style>\n",
              "<table border=\"1\" class=\"dataframe\">\n",
              "  <thead>\n",
              "    <tr style=\"text-align: right;\">\n",
              "      <th></th>\n",
              "      <th>Date</th>\n",
              "      <th>Time</th>\n",
              "      <th>Size</th>\n",
              "      <th>Colour</th>\n",
              "      <th>Cost</th>\n",
              "      <th>Label</th>\n",
              "    </tr>\n",
              "  </thead>\n",
              "  <tbody>\n",
              "    <tr>\n",
              "      <th>0</th>\n",
              "      <td>2020-10-16</td>\n",
              "      <td>11.0</td>\n",
              "      <td>Small</td>\n",
              "      <td>Blue</td>\n",
              "      <td>109.521068</td>\n",
              "      <td>1</td>\n",
              "    </tr>\n",
              "    <tr>\n",
              "      <th>6</th>\n",
              "      <td>2020-10-18</td>\n",
              "      <td>9.0</td>\n",
              "      <td>Small</td>\n",
              "      <td>Blue</td>\n",
              "      <td>107.947930</td>\n",
              "      <td>1</td>\n",
              "    </tr>\n",
              "    <tr>\n",
              "      <th>9</th>\n",
              "      <td>2020-10-18</td>\n",
              "      <td>15.0</td>\n",
              "      <td>Small</td>\n",
              "      <td>Blue</td>\n",
              "      <td>103.223563</td>\n",
              "      <td>1</td>\n",
              "    </tr>\n",
              "    <tr>\n",
              "      <th>11</th>\n",
              "      <td>2020-10-19</td>\n",
              "      <td>9.0</td>\n",
              "      <td>Medium</td>\n",
              "      <td>Blue</td>\n",
              "      <td>105.216665</td>\n",
              "      <td>1</td>\n",
              "    </tr>\n",
              "    <tr>\n",
              "      <th>13</th>\n",
              "      <td>2020-10-19</td>\n",
              "      <td>13.0</td>\n",
              "      <td>Large</td>\n",
              "      <td>Blue</td>\n",
              "      <td>15.599248</td>\n",
              "      <td>0</td>\n",
              "    </tr>\n",
              "    <tr>\n",
              "      <th>16</th>\n",
              "      <td>2020-10-20</td>\n",
              "      <td>NaN</td>\n",
              "      <td>Large</td>\n",
              "      <td>Blue</td>\n",
              "      <td>113.658567</td>\n",
              "      <td>1</td>\n",
              "    </tr>\n",
              "    <tr>\n",
              "      <th>18</th>\n",
              "      <td>2020-10-23</td>\n",
              "      <td>11.0</td>\n",
              "      <td>Medium</td>\n",
              "      <td>Blue</td>\n",
              "      <td>3.643787</td>\n",
              "      <td>0</td>\n",
              "    </tr>\n",
              "    <tr>\n",
              "      <th>21</th>\n",
              "      <td>2020-10-25</td>\n",
              "      <td>NaN</td>\n",
              "      <td>Large</td>\n",
              "      <td>Blue</td>\n",
              "      <td>10.699388</td>\n",
              "      <td>0</td>\n",
              "    </tr>\n",
              "    <tr>\n",
              "      <th>24</th>\n",
              "      <td>2020-10-26</td>\n",
              "      <td>13.0</td>\n",
              "      <td>Small</td>\n",
              "      <td>Blue</td>\n",
              "      <td>1.228235</td>\n",
              "      <td>0</td>\n",
              "    </tr>\n",
              "    <tr>\n",
              "      <th>27</th>\n",
              "      <td>2020-10-28</td>\n",
              "      <td>13.0</td>\n",
              "      <td>Large</td>\n",
              "      <td>Blue</td>\n",
              "      <td>12.414377</td>\n",
              "      <td>0</td>\n",
              "    </tr>\n",
              "    <tr>\n",
              "      <th>29</th>\n",
              "      <td>2020-10-30</td>\n",
              "      <td>13.0</td>\n",
              "      <td>Small</td>\n",
              "      <td>Blue</td>\n",
              "      <td>115.410273</td>\n",
              "      <td>1</td>\n",
              "    </tr>\n",
              "  </tbody>\n",
              "</table>\n",
              "</div>"
            ],
            "text/plain": [
              "         Date  Time    Size Colour        Cost  Label\n",
              "0  2020-10-16  11.0   Small   Blue  109.521068      1\n",
              "6  2020-10-18   9.0   Small   Blue  107.947930      1\n",
              "9  2020-10-18  15.0   Small   Blue  103.223563      1\n",
              "11 2020-10-19   9.0  Medium   Blue  105.216665      1\n",
              "13 2020-10-19  13.0   Large   Blue   15.599248      0\n",
              "16 2020-10-20   NaN   Large   Blue  113.658567      1\n",
              "18 2020-10-23  11.0  Medium   Blue    3.643787      0\n",
              "21 2020-10-25   NaN   Large   Blue   10.699388      0\n",
              "24 2020-10-26  13.0   Small   Blue    1.228235      0\n",
              "27 2020-10-28  13.0   Large   Blue   12.414377      0\n",
              "29 2020-10-30  13.0   Small   Blue  115.410273      1"
            ]
          },
          "metadata": {
            "tags": []
          },
          "execution_count": 5
        }
      ]
    },
    {
      "cell_type": "markdown",
      "metadata": {
        "id": "Y6LyOpA5Rxno"
      },
      "source": [
        "Now let's select the first five rows."
      ]
    },
    {
      "cell_type": "code",
      "metadata": {
        "colab": {
          "base_uri": "https://localhost:8080/",
          "height": 204
        },
        "id": "pCRHDFT-Rxno",
        "outputId": "7fdc5c20-7647-47d8-8105-408906628837"
      },
      "source": [
        "data.iloc[:5,:]"
      ],
      "execution_count": 6,
      "outputs": [
        {
          "output_type": "execute_result",
          "data": {
            "text/html": [
              "<div>\n",
              "<style scoped>\n",
              "    .dataframe tbody tr th:only-of-type {\n",
              "        vertical-align: middle;\n",
              "    }\n",
              "\n",
              "    .dataframe tbody tr th {\n",
              "        vertical-align: top;\n",
              "    }\n",
              "\n",
              "    .dataframe thead th {\n",
              "        text-align: right;\n",
              "    }\n",
              "</style>\n",
              "<table border=\"1\" class=\"dataframe\">\n",
              "  <thead>\n",
              "    <tr style=\"text-align: right;\">\n",
              "      <th></th>\n",
              "      <th>Date</th>\n",
              "      <th>Time</th>\n",
              "      <th>Size</th>\n",
              "      <th>Colour</th>\n",
              "      <th>Cost</th>\n",
              "      <th>Label</th>\n",
              "    </tr>\n",
              "  </thead>\n",
              "  <tbody>\n",
              "    <tr>\n",
              "      <th>0</th>\n",
              "      <td>2020-10-16</td>\n",
              "      <td>11.0</td>\n",
              "      <td>Small</td>\n",
              "      <td>Blue</td>\n",
              "      <td>109.521068</td>\n",
              "      <td>1</td>\n",
              "    </tr>\n",
              "    <tr>\n",
              "      <th>1</th>\n",
              "      <td>2020-10-16</td>\n",
              "      <td>13.0</td>\n",
              "      <td>Small</td>\n",
              "      <td>Red</td>\n",
              "      <td>112.141170</td>\n",
              "      <td>1</td>\n",
              "    </tr>\n",
              "    <tr>\n",
              "      <th>2</th>\n",
              "      <td>2020-10-16</td>\n",
              "      <td>17.0</td>\n",
              "      <td>Medium</td>\n",
              "      <td>Green</td>\n",
              "      <td>112.004677</td>\n",
              "      <td>1</td>\n",
              "    </tr>\n",
              "    <tr>\n",
              "      <th>3</th>\n",
              "      <td>2020-10-17</td>\n",
              "      <td>9.0</td>\n",
              "      <td>Large</td>\n",
              "      <td>Green</td>\n",
              "      <td>15.112922</td>\n",
              "      <td>0</td>\n",
              "    </tr>\n",
              "    <tr>\n",
              "      <th>4</th>\n",
              "      <td>2020-10-17</td>\n",
              "      <td>11.0</td>\n",
              "      <td>Large</td>\n",
              "      <td>Green</td>\n",
              "      <td>105.663642</td>\n",
              "      <td>1</td>\n",
              "    </tr>\n",
              "  </tbody>\n",
              "</table>\n",
              "</div>"
            ],
            "text/plain": [
              "        Date  Time    Size Colour        Cost  Label\n",
              "0 2020-10-16  11.0   Small   Blue  109.521068      1\n",
              "1 2020-10-16  13.0   Small    Red  112.141170      1\n",
              "2 2020-10-16  17.0  Medium  Green  112.004677      1\n",
              "3 2020-10-17   9.0   Large  Green   15.112922      0\n",
              "4 2020-10-17  11.0   Large  Green  105.663642      1"
            ]
          },
          "metadata": {
            "tags": []
          },
          "execution_count": 6
        }
      ]
    },
    {
      "cell_type": "markdown",
      "metadata": {
        "id": "kju0qOlwRxno"
      },
      "source": [
        "Pandas is a really powerful tool but in the interest iof time we are not going to explain it further. However you can visit the [tutorials](https://pandas.pydata.org/docs/getting_started/index.html) to learn more about it."
      ]
    },
    {
      "cell_type": "markdown",
      "metadata": {
        "id": "TeF2vq_kRxnp"
      },
      "source": [
        "## Prepare the data"
      ]
    },
    {
      "cell_type": "markdown",
      "metadata": {
        "id": "LYu06QPARxnp"
      },
      "source": [
        "Now that we have the data in the dataframe we are going to treat it to transform it into numerical values in a numpy array as it is easier to work with.\n",
        "There are mainly two types of data that may be necessary to transform: dates and categorical values.\n",
        "We can see what type of data we have on our dataframe:"
      ]
    },
    {
      "cell_type": "code",
      "metadata": {
        "colab": {
          "base_uri": "https://localhost:8080/"
        },
        "id": "aLIDGm_7Rxnp",
        "outputId": "704dcc9c-a184-40bd-f65a-f3bcebd15c3e"
      },
      "source": [
        "data.dtypes"
      ],
      "execution_count": 7,
      "outputs": [
        {
          "output_type": "execute_result",
          "data": {
            "text/plain": [
              "Date      datetime64[ns]\n",
              "Time             float64\n",
              "Size              object\n",
              "Colour            object\n",
              "Cost             float64\n",
              "Label              int64\n",
              "dtype: object"
            ]
          },
          "metadata": {
            "tags": []
          },
          "execution_count": 7
        }
      ]
    },
    {
      "cell_type": "markdown",
      "metadata": {
        "id": "25dgmzUpRxnp"
      },
      "source": [
        "(Note that the methods we see in this section replace non-numerical values with floating point numbers _in place_, so if you run them again you will get an error since the column does not contain the expected type anymore.)"
      ]
    },
    {
      "cell_type": "markdown",
      "metadata": {
        "id": "I7TTvJOqRxnp"
      },
      "source": [
        "### Dates"
      ]
    },
    {
      "cell_type": "markdown",
      "metadata": {
        "id": "FB6BzZxeRxnq"
      },
      "source": [
        "To transform the data, a standard procedure is to change the date for the time that has passed since a specific time. This is as simple as:"
      ]
    },
    {
      "cell_type": "code",
      "metadata": {
        "colab": {
          "base_uri": "https://localhost:8080/",
          "height": 204
        },
        "id": "p-C54AYARxnq",
        "outputId": "0a330e93-eacc-457a-c970-ae9c6acb9ab3"
      },
      "source": [
        "time0 = pd.Timestamp('2020-08-01 00:00:00')\n",
        "data['Date'] = (data['Date'] - time0).values.astype(float)\n",
        "data.head()"
      ],
      "execution_count": 8,
      "outputs": [
        {
          "output_type": "execute_result",
          "data": {
            "text/html": [
              "<div>\n",
              "<style scoped>\n",
              "    .dataframe tbody tr th:only-of-type {\n",
              "        vertical-align: middle;\n",
              "    }\n",
              "\n",
              "    .dataframe tbody tr th {\n",
              "        vertical-align: top;\n",
              "    }\n",
              "\n",
              "    .dataframe thead th {\n",
              "        text-align: right;\n",
              "    }\n",
              "</style>\n",
              "<table border=\"1\" class=\"dataframe\">\n",
              "  <thead>\n",
              "    <tr style=\"text-align: right;\">\n",
              "      <th></th>\n",
              "      <th>Date</th>\n",
              "      <th>Time</th>\n",
              "      <th>Size</th>\n",
              "      <th>Colour</th>\n",
              "      <th>Cost</th>\n",
              "      <th>Label</th>\n",
              "    </tr>\n",
              "  </thead>\n",
              "  <tbody>\n",
              "    <tr>\n",
              "      <th>0</th>\n",
              "      <td>6.566400e+15</td>\n",
              "      <td>11.0</td>\n",
              "      <td>Small</td>\n",
              "      <td>Blue</td>\n",
              "      <td>109.521068</td>\n",
              "      <td>1</td>\n",
              "    </tr>\n",
              "    <tr>\n",
              "      <th>1</th>\n",
              "      <td>6.566400e+15</td>\n",
              "      <td>13.0</td>\n",
              "      <td>Small</td>\n",
              "      <td>Red</td>\n",
              "      <td>112.141170</td>\n",
              "      <td>1</td>\n",
              "    </tr>\n",
              "    <tr>\n",
              "      <th>2</th>\n",
              "      <td>6.566400e+15</td>\n",
              "      <td>17.0</td>\n",
              "      <td>Medium</td>\n",
              "      <td>Green</td>\n",
              "      <td>112.004677</td>\n",
              "      <td>1</td>\n",
              "    </tr>\n",
              "    <tr>\n",
              "      <th>3</th>\n",
              "      <td>6.652800e+15</td>\n",
              "      <td>9.0</td>\n",
              "      <td>Large</td>\n",
              "      <td>Green</td>\n",
              "      <td>15.112922</td>\n",
              "      <td>0</td>\n",
              "    </tr>\n",
              "    <tr>\n",
              "      <th>4</th>\n",
              "      <td>6.652800e+15</td>\n",
              "      <td>11.0</td>\n",
              "      <td>Large</td>\n",
              "      <td>Green</td>\n",
              "      <td>105.663642</td>\n",
              "      <td>1</td>\n",
              "    </tr>\n",
              "  </tbody>\n",
              "</table>\n",
              "</div>"
            ],
            "text/plain": [
              "           Date  Time    Size Colour        Cost  Label\n",
              "0  6.566400e+15  11.0   Small   Blue  109.521068      1\n",
              "1  6.566400e+15  13.0   Small    Red  112.141170      1\n",
              "2  6.566400e+15  17.0  Medium  Green  112.004677      1\n",
              "3  6.652800e+15   9.0   Large  Green   15.112922      0\n",
              "4  6.652800e+15  11.0   Large  Green  105.663642      1"
            ]
          },
          "metadata": {
            "tags": []
          },
          "execution_count": 8
        }
      ]
    },
    {
      "cell_type": "markdown",
      "metadata": {
        "id": "3wqkrdW-Rxnq"
      },
      "source": [
        "### Categorical values"
      ]
    },
    {
      "cell_type": "markdown",
      "metadata": {
        "id": "f1oaZpiwRxnr"
      },
      "source": [
        "Categorical values are non numerical values that may have or not an ordinal relationship. If they have an ordinal relationship (for example: low, mid, high or small, big), the best practice is to transform directly to numerical value respecting the order."
      ]
    },
    {
      "cell_type": "markdown",
      "metadata": {
        "id": "F96LJ3XBRxnr"
      },
      "source": [
        "Pandas allows use to do this using a dictionary and the method `replace`."
      ]
    },
    {
      "cell_type": "code",
      "metadata": {
        "colab": {
          "base_uri": "https://localhost:8080/",
          "height": 204
        },
        "id": "1qLluTbiRxnr",
        "outputId": "d6da19ff-b538-4a64-bb02-7cab8bcf5c0e"
      },
      "source": [
        "cleanup = {\"Size\": {\"Small\":0, \"Medium\":1, \"Large\":2}}\n",
        "data.replace(cleanup, inplace=True)\n",
        "data.head()"
      ],
      "execution_count": 9,
      "outputs": [
        {
          "output_type": "execute_result",
          "data": {
            "text/html": [
              "<div>\n",
              "<style scoped>\n",
              "    .dataframe tbody tr th:only-of-type {\n",
              "        vertical-align: middle;\n",
              "    }\n",
              "\n",
              "    .dataframe tbody tr th {\n",
              "        vertical-align: top;\n",
              "    }\n",
              "\n",
              "    .dataframe thead th {\n",
              "        text-align: right;\n",
              "    }\n",
              "</style>\n",
              "<table border=\"1\" class=\"dataframe\">\n",
              "  <thead>\n",
              "    <tr style=\"text-align: right;\">\n",
              "      <th></th>\n",
              "      <th>Date</th>\n",
              "      <th>Time</th>\n",
              "      <th>Size</th>\n",
              "      <th>Colour</th>\n",
              "      <th>Cost</th>\n",
              "      <th>Label</th>\n",
              "    </tr>\n",
              "  </thead>\n",
              "  <tbody>\n",
              "    <tr>\n",
              "      <th>0</th>\n",
              "      <td>6.566400e+15</td>\n",
              "      <td>11.0</td>\n",
              "      <td>0</td>\n",
              "      <td>Blue</td>\n",
              "      <td>109.521068</td>\n",
              "      <td>1</td>\n",
              "    </tr>\n",
              "    <tr>\n",
              "      <th>1</th>\n",
              "      <td>6.566400e+15</td>\n",
              "      <td>13.0</td>\n",
              "      <td>0</td>\n",
              "      <td>Red</td>\n",
              "      <td>112.141170</td>\n",
              "      <td>1</td>\n",
              "    </tr>\n",
              "    <tr>\n",
              "      <th>2</th>\n",
              "      <td>6.566400e+15</td>\n",
              "      <td>17.0</td>\n",
              "      <td>1</td>\n",
              "      <td>Green</td>\n",
              "      <td>112.004677</td>\n",
              "      <td>1</td>\n",
              "    </tr>\n",
              "    <tr>\n",
              "      <th>3</th>\n",
              "      <td>6.652800e+15</td>\n",
              "      <td>9.0</td>\n",
              "      <td>2</td>\n",
              "      <td>Green</td>\n",
              "      <td>15.112922</td>\n",
              "      <td>0</td>\n",
              "    </tr>\n",
              "    <tr>\n",
              "      <th>4</th>\n",
              "      <td>6.652800e+15</td>\n",
              "      <td>11.0</td>\n",
              "      <td>2</td>\n",
              "      <td>Green</td>\n",
              "      <td>105.663642</td>\n",
              "      <td>1</td>\n",
              "    </tr>\n",
              "  </tbody>\n",
              "</table>\n",
              "</div>"
            ],
            "text/plain": [
              "           Date  Time  Size Colour        Cost  Label\n",
              "0  6.566400e+15  11.0     0   Blue  109.521068      1\n",
              "1  6.566400e+15  13.0     0    Red  112.141170      1\n",
              "2  6.566400e+15  17.0     1  Green  112.004677      1\n",
              "3  6.652800e+15   9.0     2  Green   15.112922      0\n",
              "4  6.652800e+15  11.0     2  Green  105.663642      1"
            ]
          },
          "metadata": {
            "tags": []
          },
          "execution_count": 9
        }
      ]
    },
    {
      "cell_type": "markdown",
      "metadata": {
        "id": "bayshHbARxns"
      },
      "source": [
        "This method should not be used with categorical values with no ordinal relationship, for example the colour. Is red bigger than blue?\n",
        "\n",
        "\n",
        "If we treat them as having ordinal relationship some algorithms, such as Decission Trees, may be unaffected by this. However, most algorithms will suffer (in terms of accuracy) when using this practice.\n",
        "The 'proper' way to deal with this values is to create a number of variables equal to the the number of different values that the categorical value may take, and then set all to 0 except for one that will set to 1. This is called 'one-hot' encoding. In our case it would be somthing like:\n",
        "\n",
        "Red -> \\[0, 0, 1\\]\n",
        "\n",
        "Blue -> \\[1, 0, 0\\]\n",
        "\n",
        "Green -> \\[0, 1, 0\\]\n",
        "\n",
        "Fortunately, pandas makes this easy with the method `get_dummies`."
      ]
    },
    {
      "cell_type": "code",
      "metadata": {
        "colab": {
          "base_uri": "https://localhost:8080/",
          "height": 204
        },
        "id": "fzZ1RfWtRxns",
        "outputId": "356a10c0-ee71-4adc-e8e9-f52d246df438"
      },
      "source": [
        "data = pd.get_dummies(data, columns= ['Colour'])\n",
        "data.head()"
      ],
      "execution_count": 10,
      "outputs": [
        {
          "output_type": "execute_result",
          "data": {
            "text/html": [
              "<div>\n",
              "<style scoped>\n",
              "    .dataframe tbody tr th:only-of-type {\n",
              "        vertical-align: middle;\n",
              "    }\n",
              "\n",
              "    .dataframe tbody tr th {\n",
              "        vertical-align: top;\n",
              "    }\n",
              "\n",
              "    .dataframe thead th {\n",
              "        text-align: right;\n",
              "    }\n",
              "</style>\n",
              "<table border=\"1\" class=\"dataframe\">\n",
              "  <thead>\n",
              "    <tr style=\"text-align: right;\">\n",
              "      <th></th>\n",
              "      <th>Date</th>\n",
              "      <th>Time</th>\n",
              "      <th>Size</th>\n",
              "      <th>Cost</th>\n",
              "      <th>Label</th>\n",
              "      <th>Colour_Blue</th>\n",
              "      <th>Colour_Green</th>\n",
              "      <th>Colour_Red</th>\n",
              "    </tr>\n",
              "  </thead>\n",
              "  <tbody>\n",
              "    <tr>\n",
              "      <th>0</th>\n",
              "      <td>6.566400e+15</td>\n",
              "      <td>11.0</td>\n",
              "      <td>0</td>\n",
              "      <td>109.521068</td>\n",
              "      <td>1</td>\n",
              "      <td>1</td>\n",
              "      <td>0</td>\n",
              "      <td>0</td>\n",
              "    </tr>\n",
              "    <tr>\n",
              "      <th>1</th>\n",
              "      <td>6.566400e+15</td>\n",
              "      <td>13.0</td>\n",
              "      <td>0</td>\n",
              "      <td>112.141170</td>\n",
              "      <td>1</td>\n",
              "      <td>0</td>\n",
              "      <td>0</td>\n",
              "      <td>1</td>\n",
              "    </tr>\n",
              "    <tr>\n",
              "      <th>2</th>\n",
              "      <td>6.566400e+15</td>\n",
              "      <td>17.0</td>\n",
              "      <td>1</td>\n",
              "      <td>112.004677</td>\n",
              "      <td>1</td>\n",
              "      <td>0</td>\n",
              "      <td>1</td>\n",
              "      <td>0</td>\n",
              "    </tr>\n",
              "    <tr>\n",
              "      <th>3</th>\n",
              "      <td>6.652800e+15</td>\n",
              "      <td>9.0</td>\n",
              "      <td>2</td>\n",
              "      <td>15.112922</td>\n",
              "      <td>0</td>\n",
              "      <td>0</td>\n",
              "      <td>1</td>\n",
              "      <td>0</td>\n",
              "    </tr>\n",
              "    <tr>\n",
              "      <th>4</th>\n",
              "      <td>6.652800e+15</td>\n",
              "      <td>11.0</td>\n",
              "      <td>2</td>\n",
              "      <td>105.663642</td>\n",
              "      <td>1</td>\n",
              "      <td>0</td>\n",
              "      <td>1</td>\n",
              "      <td>0</td>\n",
              "    </tr>\n",
              "  </tbody>\n",
              "</table>\n",
              "</div>"
            ],
            "text/plain": [
              "           Date  Time  Size  ...  Colour_Blue  Colour_Green  Colour_Red\n",
              "0  6.566400e+15  11.0     0  ...            1             0           0\n",
              "1  6.566400e+15  13.0     0  ...            0             0           1\n",
              "2  6.566400e+15  17.0     1  ...            0             1           0\n",
              "3  6.652800e+15   9.0     2  ...            0             1           0\n",
              "4  6.652800e+15  11.0     2  ...            0             1           0\n",
              "\n",
              "[5 rows x 8 columns]"
            ]
          },
          "metadata": {
            "tags": []
          },
          "execution_count": 10
        }
      ]
    },
    {
      "cell_type": "markdown",
      "metadata": {
        "id": "mYLrWys2Rxns"
      },
      "source": [
        "We can now confirm that all columns have been converted to numeric types."
      ]
    },
    {
      "cell_type": "code",
      "metadata": {
        "colab": {
          "base_uri": "https://localhost:8080/"
        },
        "id": "MQ-uCEtDRxns",
        "outputId": "85a0a5b9-6e59-4716-e4a5-4700cc104e33"
      },
      "source": [
        "data.dtypes"
      ],
      "execution_count": 11,
      "outputs": [
        {
          "output_type": "execute_result",
          "data": {
            "text/plain": [
              "Date            float64\n",
              "Time            float64\n",
              "Size              int64\n",
              "Cost            float64\n",
              "Label             int64\n",
              "Colour_Blue       uint8\n",
              "Colour_Green      uint8\n",
              "Colour_Red        uint8\n",
              "dtype: object"
            ]
          },
          "metadata": {
            "tags": []
          },
          "execution_count": 11
        }
      ]
    },
    {
      "cell_type": "markdown",
      "metadata": {
        "id": "m2CVKA48Rxnt"
      },
      "source": [
        "Finally we want to transfer our data to two numpy arrays, one containing the variables (features) and another the labels (ground truth)."
      ]
    },
    {
      "cell_type": "code",
      "metadata": {
        "colab": {
          "base_uri": "https://localhost:8080/"
        },
        "id": "777fD7IdRxnt",
        "outputId": "35937ae0-8dbc-4588-b017-24e497de8541"
      },
      "source": [
        "import numpy as np\n",
        "x = data.loc[:, data.columns != 'Label'].to_numpy()\n",
        "y = data.loc[:, 'Label'].to_numpy()\n",
        "print(x.shape, y.shape)"
      ],
      "execution_count": 12,
      "outputs": [
        {
          "output_type": "stream",
          "text": [
            "(33, 7) (33,)\n"
          ],
          "name": "stdout"
        }
      ]
    },
    {
      "cell_type": "markdown",
      "metadata": {
        "id": "M29y6iSSRxnt"
      },
      "source": [
        "## Data Visualization"
      ]
    },
    {
      "cell_type": "markdown",
      "metadata": {
        "id": "NEW9zpjFRxnt"
      },
      "source": [
        "Is a good practice to visualize the data to see if there is something wrong. For this, is the library matplotlib includes a lot of tools to help us. Getting familiar with this library (or a similar one) and its functions is essential to become a data scientist. There are too many functions to introduce, but functions like scatter, plot, or bar are really useful to visualize our data and explore it. Play with it!"
      ]
    },
    {
      "cell_type": "markdown",
      "metadata": {
        "id": "r8ERfK-NRxnt"
      },
      "source": [
        "### False predictors"
      ]
    },
    {
      "cell_type": "markdown",
      "metadata": {
        "id": "uj9yDEEfRxnt"
      },
      "source": [
        "In some ocassions we may have a variable that is a false predictor, meaning that it's been introduced in the data by mistake and contains information about the label. Let's imagine that we have a dataset of the clients of a bank, and we want to predict if a client will buy an insurance. One of the variables could be how much the client pays to the bank for its services. If this prize includes the cost of the insurance, this will result in a variable that may have 'perfect' prediction power but won't work during the deployment because we will detect only the clients that already have an insurance."
      ]
    },
    {
      "cell_type": "markdown",
      "metadata": {
        "id": "ny3kAGJSRxnu"
      },
      "source": [
        "In our data there is one false predictor, could you point which one looking at the plots?"
      ]
    },
    {
      "cell_type": "code",
      "metadata": {
        "colab": {
          "base_uri": "https://localhost:8080/",
          "height": 390
        },
        "id": "JsZnDaVQRxnu",
        "outputId": "bd317c3f-78f8-41a9-912d-06c6b696384e"
      },
      "source": [
        "import matplotlib.pyplot as plt\n",
        "\n",
        "plt.figure(figsize=(8,6))\n",
        "for i in range(x.shape[1]):\n",
        "    plt.subplot(3, 3, i+1)\n",
        "    plt.scatter(y,x[:,i])\n",
        "    plt.xticks([0, 1])\n",
        "    plt.title(data.columns[i])"
      ],
      "execution_count": 13,
      "outputs": [
        {
          "output_type": "display_data",
          "data": {
            "image/png": "[encoded data removed]",
            "text/plain": [
              "<Figure size 576x432 with 7 Axes>"
            ]
          },
          "metadata": {
            "tags": [],
            "needs_background": "light"
          }
        }
      ]
    },
    {
      "cell_type": "markdown",
      "metadata": {
        "id": "E4QNMYEkRxnu"
      },
      "source": [
        "## Cross-validation\n",
        "Learning the parameters of a prediction function and testing it on the same data is a methodological mistake: a model may memorise the training data perfectly and have a perfect score but would fail to predict anything useful on yet-unseen data. This situation is called overfitting. To avoid it, it is common practice when performing a (supervised) machine learning experiment to hold out part of the available data as a test set, which we will store in the variables `X_test` and `y_test`. "
      ]
    },
    {
      "cell_type": "markdown",
      "metadata": {
        "id": "w1UjVXOBRxnu"
      },
      "source": [
        "Conceptually, we need to simulate the future situation, where we have trained our system with some data and, then, we apply it to some unseen data. However, to get better estimates of the accuracy of our model on new data, it is good practice to repeat the procedure after rotating which part of the data are used for train and which for testing. This way we can be sure that the results are not biased."
      ]
    },
    {
      "cell_type": "markdown",
      "metadata": {
        "id": "NzDqdR14Rxnu"
      },
      "source": [
        "Scikit-learn is a library for machine learning (more on this in the next lab). It has a collection of classes which can be used to generate lists of train/test indices for popular cross-validation strategies.\n",
        "\n",
        "They expose a `split` method which accepts the input dataset to be split and yields the train/test set indices for each iteration of the chosen cross-validation strategy."
      ]
    },
    {
      "cell_type": "code",
      "metadata": {
        "colab": {
          "base_uri": "https://localhost:8080/"
        },
        "id": "-5lYxO-ARxnv",
        "outputId": "bc5e1fad-648f-4653-8a3f-9f11699b99b2"
      },
      "source": [
        "from sklearn.model_selection import KFold, cross_val_score\n",
        "\n",
        "k_fold = KFold(n_splits=5)\n",
        "for train_indices, test_indices in k_fold.split(x):\n",
        "    print('Train: %s | test: %s' % (train_indices, test_indices))"
      ],
      "execution_count": 14,
      "outputs": [
        {
          "output_type": "stream",
          "text": [
            "Train: [ 7  8  9 10 11 12 13 14 15 16 17 18 19 20 21 22 23 24 25 26 27 28 29 30\n",
            " 31 32] | test: [0 1 2 3 4 5 6]\n",
            "Train: [ 0  1  2  3  4  5  6 14 15 16 17 18 19 20 21 22 23 24 25 26 27 28 29 30\n",
            " 31 32] | test: [ 7  8  9 10 11 12 13]\n",
            "Train: [ 0  1  2  3  4  5  6  7  8  9 10 11 12 13 21 22 23 24 25 26 27 28 29 30\n",
            " 31 32] | test: [14 15 16 17 18 19 20]\n",
            "Train: [ 0  1  2  3  4  5  6  7  8  9 10 11 12 13 14 15 16 17 18 19 20 27 28 29\n",
            " 30 31 32] | test: [21 22 23 24 25 26]\n",
            "Train: [ 0  1  2  3  4  5  6  7  8  9 10 11 12 13 14 15 16 17 18 19 20 21 22 23\n",
            " 24 25 26] | test: [27 28 29 30 31 32]\n"
          ],
          "name": "stdout"
        }
      ]
    },
    {
      "cell_type": "markdown",
      "metadata": {
        "id": "3YkHMUEMRxnv"
      },
      "source": [
        "Cross-validation is the cornerstone of supervised machine learning design. All the data-dependent manipulations (not only classification, but also pre-processing) must happen inside Cross-Validation loops when analysing the performance of a system."
      ]
    },
    {
      "cell_type": "markdown",
      "metadata": {
        "id": "SF1KJVgDRxnw"
      },
      "source": [
        "Multiple cross-validation loops can be nested when performing hyper-paramether fitting. We will explore this in the next lab."
      ]
    },
    {
      "cell_type": "markdown",
      "metadata": {
        "id": "9UhGH4xzRxnw"
      },
      "source": [
        "The `Kfold` class in sklearn, has another paramether, shuffle. Read the documentation about it and explore what changes when its value is True."
      ]
    },
    {
      "cell_type": "markdown",
      "metadata": {
        "id": "qmvDupMkRxnw"
      },
      "source": [
        "## Pre-processing"
      ]
    },
    {
      "cell_type": "markdown",
      "metadata": {
        "id": "4udKSVKbRxnw"
      },
      "source": [
        "### Missing data"
      ]
    },
    {
      "cell_type": "markdown",
      "metadata": {
        "id": "CoFVowSoRxnw"
      },
      "source": [
        "It is common to have missing values in some of the variables. We can see this counting the number of NaN (Not a Number) in our dataset:"
      ]
    },
    {
      "cell_type": "code",
      "metadata": {
        "colab": {
          "base_uri": "https://localhost:8080/"
        },
        "id": "_zrb7QaZRxnw",
        "outputId": "80aaa5e3-4dc7-48f3-82fd-7510d90ae4ab"
      },
      "source": [
        "np.sum(np.isnan(x), 0)"
      ],
      "execution_count": 15,
      "outputs": [
        {
          "output_type": "execute_result",
          "data": {
            "text/plain": [
              "array([0, 4, 0, 0, 0, 0, 0])"
            ]
          },
          "metadata": {
            "tags": []
          },
          "execution_count": 15
        }
      ]
    },
    {
      "cell_type": "markdown",
      "metadata": {
        "id": "r_mh6avdRxnx"
      },
      "source": [
        "Here we can see that the second variable on our dataset has some values missing."
      ]
    },
    {
      "cell_type": "markdown",
      "metadata": {
        "id": "9zFTjudfRxnx"
      },
      "source": [
        "#### Default value"
      ]
    },
    {
      "cell_type": "markdown",
      "metadata": {
        "id": "OEBhBuHhRxnx"
      },
      "source": [
        "The fastest and easiest way to deal with missing data, is to assing a default value (ex. 0). This is possible if we know something about the variable and which may be a good default value, but sometimes we don't."
      ]
    },
    {
      "cell_type": "markdown",
      "metadata": {
        "id": "lQ5V-gWmRxnx"
      },
      "source": [
        "#### Data-driven value"
      ]
    },
    {
      "cell_type": "markdown",
      "metadata": {
        "id": "-e6el_xpRxnx"
      },
      "source": [
        "A better option, is to use a value that is derived from the data, such as the mean, median or other statistical value. However, as mentioned before, this should happen inside the cross-validation."
      ]
    },
    {
      "cell_type": "markdown",
      "metadata": {
        "id": "pOPbEI8YRxny"
      },
      "source": [
        "Here we calculate the mean of the second variable in our dataset for different folds. We use the function `nanmean` from numpy to calculate the mean of an array containing NaN values."
      ]
    },
    {
      "cell_type": "code",
      "metadata": {
        "colab": {
          "base_uri": "https://localhost:8080/"
        },
        "id": "nQhJDbGyRxny",
        "outputId": "0125aad3-6c4b-4348-c104-b3bc912c571a"
      },
      "source": [
        "k_fold = KFold(n_splits=5)\n",
        "for train_indices, test_indices in k_fold.split(x):\n",
        "    print(np.nanmean(x[train_indices, 1]))"
      ],
      "execution_count": 16,
      "outputs": [
        {
          "output_type": "stream",
          "text": [
            "12.272727272727273\n",
            "12.130434782608695\n",
            "12.304347826086957\n",
            "12.416666666666666\n",
            "12.416666666666666\n"
          ],
          "name": "stdout"
        }
      ]
    },
    {
      "cell_type": "markdown",
      "metadata": {
        "id": "vFGkfIFORxny"
      },
      "source": [
        "As you can see the value of that mean differs for each fold. This is why is important to do it inside the fold validation loop."
      ]
    },
    {
      "cell_type": "markdown",
      "metadata": {
        "id": "-4tJTokhRxny"
      },
      "source": [
        "### Data transformation"
      ]
    },
    {
      "cell_type": "markdown",
      "metadata": {
        "id": "KSD9fm2SRxny"
      },
      "source": [
        "Many algorithms work better when the data are inside a specific range, or when all the data have similar ranges. This is not the case for all the algorithms (they work equally well with unnormalised or normalised data)."
      ]
    },
    {
      "cell_type": "markdown",
      "metadata": {
        "id": "P6JZcQaURxnz"
      },
      "source": [
        "#### Data-clipping"
      ]
    },
    {
      "cell_type": "markdown",
      "metadata": {
        "id": "pRyO981zRxnz"
      },
      "source": [
        "One option is to just set a maximum a default maximum and minimum value. For this, it is possible to use the method `clip` from numpy."
      ]
    },
    {
      "cell_type": "markdown",
      "metadata": {
        "id": "z7licl67Rxnz"
      },
      "source": [
        "#### Scaling and Normalization"
      ]
    },
    {
      "cell_type": "markdown",
      "metadata": {
        "id": "yi_yarl2Rxnz"
      },
      "source": [
        "In the same way, as with the missing data, a better practice is to perfform this procedure in a data-driven manner. For this, sklearn provides several options in its 'preprocessing' package. As before, this normalisation step should be included inside the cross validation loop as well."
      ]
    },
    {
      "cell_type": "code",
      "metadata": {
        "id": "OBgBMqCrRxnz"
      },
      "source": [
        "from sklearn.preprocessing import StandardScaler\n",
        "k_fold = KFold(n_splits=5)\n",
        "x_or = x.copy() # We make a copy of our data to avoid overwriting\n",
        "for train_indices, test_indices in k_fold.split(x):\n",
        "    mean = np.nanmean(x_or[train_indices, 1])\n",
        "    x[np.isnan(x_or[:,1]), 1] = mean # We substitute the missing values for the mean\n",
        "    ss = StandardScaler()\n",
        "    ss.fit(x[train_indices, :])\n",
        "    x_train = ss.transform(x[train_indices, :])\n",
        "    x_test = ss.transform(x[test_indices, :])"
      ],
      "execution_count": 17,
      "outputs": []
    },
    {
      "cell_type": "markdown",
      "metadata": {
        "id": "aEyOJzviRxnz"
      },
      "source": [
        "In this example we see something that is common in many methods in the sklearn package, the division between `fit` and `transform`. These allow to the creation of pipelines which help streamline the modeling of different methods."
      ]
    },
    {
      "cell_type": "markdown",
      "metadata": {
        "id": "bF-LHuEmRxnz"
      },
      "source": [
        "## Exercise"
      ]
    },
    {
      "cell_type": "markdown",
      "metadata": {
        "id": "5qk-aUSMRxn0"
      },
      "source": [
        "Using what you have learned, prepare the data from the file 'exercise1.csv'. Note that in this case you need to manipulate the 'Label' column as well."
      ]
    },
    {
      "cell_type": "code",
      "metadata": {
        "colab": {
          "base_uri": "https://localhost:8080/",
          "height": 419
        },
        "id": "zhSQrNYJomk_",
        "outputId": "e2b2a0cd-ccf1-4032-be1c-772f46bf8df1"
      },
      "source": [
        "ex_data = pd.read_csv('/content/exercise1.csv', parse_dates=[['Date', 'Hour']], dayfirst=True)\r\n",
        "ex_data"
      ],
      "execution_count": 60,
      "outputs": [
        {
          "output_type": "execute_result",
          "data": {
            "text/html": [
              "<div>\n",
              "<style scoped>\n",
              "    .dataframe tbody tr th:only-of-type {\n",
              "        vertical-align: middle;\n",
              "    }\n",
              "\n",
              "    .dataframe tbody tr th {\n",
              "        vertical-align: top;\n",
              "    }\n",
              "\n",
              "    .dataframe thead th {\n",
              "        text-align: right;\n",
              "    }\n",
              "</style>\n",
              "<table border=\"1\" class=\"dataframe\">\n",
              "  <thead>\n",
              "    <tr style=\"text-align: right;\">\n",
              "      <th></th>\n",
              "      <th>Date_Hour</th>\n",
              "      <th>ID_e</th>\n",
              "      <th>E</th>\n",
              "      <th>N</th>\n",
              "      <th>Sex</th>\n",
              "      <th>Cell</th>\n",
              "      <th>Label</th>\n",
              "    </tr>\n",
              "  </thead>\n",
              "  <tbody>\n",
              "    <tr>\n",
              "      <th>0</th>\n",
              "      <td>2018-06-05 12:27:00</td>\n",
              "      <td>e1f1</td>\n",
              "      <td>5.583066</td>\n",
              "      <td>1.175189</td>\n",
              "      <td>f</td>\n",
              "      <td>e1</td>\n",
              "      <td>o</td>\n",
              "    </tr>\n",
              "    <tr>\n",
              "      <th>1</th>\n",
              "      <td>2018-06-21 10:20:00</td>\n",
              "      <td>e1f1</td>\n",
              "      <td>5.325020</td>\n",
              "      <td>0.962680</td>\n",
              "      <td>f</td>\n",
              "      <td>e1</td>\n",
              "      <td>o</td>\n",
              "    </tr>\n",
              "    <tr>\n",
              "      <th>2</th>\n",
              "      <td>2018-06-21 14:25:00</td>\n",
              "      <td>e1f1</td>\n",
              "      <td>3.412439</td>\n",
              "      <td>0.947501</td>\n",
              "      <td>f</td>\n",
              "      <td>e1</td>\n",
              "      <td>o</td>\n",
              "    </tr>\n",
              "    <tr>\n",
              "      <th>3</th>\n",
              "      <td>2018-06-21 12:30:00</td>\n",
              "      <td>e1f1</td>\n",
              "      <td>3.761561</td>\n",
              "      <td>2.010046</td>\n",
              "      <td>f</td>\n",
              "      <td>e1</td>\n",
              "      <td>o</td>\n",
              "    </tr>\n",
              "    <tr>\n",
              "      <th>4</th>\n",
              "      <td>2018-06-15 12:06:00</td>\n",
              "      <td>e1f1</td>\n",
              "      <td>NaN</td>\n",
              "      <td>1.144831</td>\n",
              "      <td>f</td>\n",
              "      <td>e1</td>\n",
              "      <td>o</td>\n",
              "    </tr>\n",
              "    <tr>\n",
              "      <th>...</th>\n",
              "      <td>...</td>\n",
              "      <td>...</td>\n",
              "      <td>...</td>\n",
              "      <td>...</td>\n",
              "      <td>...</td>\n",
              "      <td>...</td>\n",
              "      <td>...</td>\n",
              "    </tr>\n",
              "    <tr>\n",
              "      <th>7184</th>\n",
              "      <td>2018-05-25 15:40:00</td>\n",
              "      <td>e9m9</td>\n",
              "      <td>1.103858</td>\n",
              "      <td>NaN</td>\n",
              "      <td>m</td>\n",
              "      <td>e9</td>\n",
              "      <td>y</td>\n",
              "    </tr>\n",
              "    <tr>\n",
              "      <th>7185</th>\n",
              "      <td>2018-05-25 17:21:00</td>\n",
              "      <td>e9m9</td>\n",
              "      <td>3.699470</td>\n",
              "      <td>NaN</td>\n",
              "      <td>m</td>\n",
              "      <td>e9</td>\n",
              "      <td>y</td>\n",
              "    </tr>\n",
              "    <tr>\n",
              "      <th>7186</th>\n",
              "      <td>2018-05-24 16:26:00</td>\n",
              "      <td>e9m9</td>\n",
              "      <td>1.766447</td>\n",
              "      <td>NaN</td>\n",
              "      <td>m</td>\n",
              "      <td>e9</td>\n",
              "      <td>y</td>\n",
              "    </tr>\n",
              "    <tr>\n",
              "      <th>7187</th>\n",
              "      <td>2018-05-23 12:30:00</td>\n",
              "      <td>e9m9</td>\n",
              "      <td>0.497900</td>\n",
              "      <td>1.169597</td>\n",
              "      <td>m</td>\n",
              "      <td>e9</td>\n",
              "      <td>y</td>\n",
              "    </tr>\n",
              "    <tr>\n",
              "      <th>7188</th>\n",
              "      <td>2018-05-23 13:44:00</td>\n",
              "      <td>e9m9</td>\n",
              "      <td>3.990179</td>\n",
              "      <td>1.146944</td>\n",
              "      <td>m</td>\n",
              "      <td>e9</td>\n",
              "      <td>y</td>\n",
              "    </tr>\n",
              "  </tbody>\n",
              "</table>\n",
              "<p>7189 rows × 7 columns</p>\n",
              "</div>"
            ],
            "text/plain": [
              "               Date_Hour  ID_e         E         N Sex Cell Label\n",
              "0    2018-06-05 12:27:00  e1f1  5.583066  1.175189   f   e1     o\n",
              "1    2018-06-21 10:20:00  e1f1  5.325020  0.962680   f   e1     o\n",
              "2    2018-06-21 14:25:00  e1f1  3.412439  0.947501   f   e1     o\n",
              "3    2018-06-21 12:30:00  e1f1  3.761561  2.010046   f   e1     o\n",
              "4    2018-06-15 12:06:00  e1f1       NaN  1.144831   f   e1     o\n",
              "...                  ...   ...       ...       ...  ..  ...   ...\n",
              "7184 2018-05-25 15:40:00  e9m9  1.103858       NaN   m   e9     y\n",
              "7185 2018-05-25 17:21:00  e9m9  3.699470       NaN   m   e9     y\n",
              "7186 2018-05-24 16:26:00  e9m9  1.766447       NaN   m   e9     y\n",
              "7187 2018-05-23 12:30:00  e9m9  0.497900  1.169597   m   e9     y\n",
              "7188 2018-05-23 13:44:00  e9m9  3.990179  1.146944   m   e9     y\n",
              "\n",
              "[7189 rows x 7 columns]"
            ]
          },
          "metadata": {
            "tags": []
          },
          "execution_count": 60
        }
      ]
    },
    {
      "cell_type": "code",
      "metadata": {
        "colab": {
          "base_uri": "https://localhost:8080/"
        },
        "id": "qFUXc3CV3C5x",
        "outputId": "c6b89625-9dd4-4081-e5da-6ade157801fd"
      },
      "source": [
        "ex_data.dtypes"
      ],
      "execution_count": 32,
      "outputs": [
        {
          "output_type": "execute_result",
          "data": {
            "text/plain": [
              "Date_Hour    float64\n",
              "E            float64\n",
              "N            float64\n",
              "Sex            uint8\n",
              "Cell_e1        uint8\n",
              "              ...   \n",
              "ID_e_e9m8      uint8\n",
              "ID_e_e9m9      uint8\n",
              "Label_o        uint8\n",
              "Label_w        uint8\n",
              "Label_y        uint8\n",
              "Length: 197, dtype: object"
            ]
          },
          "metadata": {
            "tags": []
          },
          "execution_count": 32
        }
      ]
    },
    {
      "cell_type": "code",
      "metadata": {
        "colab": {
          "base_uri": "https://localhost:8080/",
          "height": 439
        },
        "id": "ma2CwZwu09LE",
        "outputId": "414a1e9d-b62f-47e3-8d71-d4693ad9a372"
      },
      "source": [
        "time = pd.Timestamp('2000-01-01 00:00:00')\r\n",
        "ex_data['Date_Hour'] = (ex_data['Date_Hour'] - time).values.astype(float)\r\n",
        "\r\n",
        "ex_data['Sex'] = pd.get_dummies(ex_data['Sex'])[['m']]\r\n",
        "ex_data = pd.get_dummies(ex_data, columns=['Cell'])\r\n",
        "ex_data = pd.get_dummies(ex_data, columns=['ID_e'])\r\n",
        "# ex_data = pd.get_dummies(ex_data, columns=['Label'])\r\n",
        "ex_data"
      ],
      "execution_count": 53,
      "outputs": [
        {
          "output_type": "execute_result",
          "data": {
            "text/html": [
              "<div>\n",
              "<style scoped>\n",
              "    .dataframe tbody tr th:only-of-type {\n",
              "        vertical-align: middle;\n",
              "    }\n",
              "\n",
              "    .dataframe tbody tr th {\n",
              "        vertical-align: top;\n",
              "    }\n",
              "\n",
              "    .dataframe thead th {\n",
              "        text-align: right;\n",
              "    }\n",
              "</style>\n",
              "<table border=\"1\" class=\"dataframe\">\n",
              "  <thead>\n",
              "    <tr style=\"text-align: right;\">\n",
              "      <th></th>\n",
              "      <th>Date_Hour</th>\n",
              "      <th>E</th>\n",
              "      <th>N</th>\n",
              "      <th>Sex</th>\n",
              "      <th>Cell_e1</th>\n",
              "      <th>Cell_e10</th>\n",
              "      <th>Cell_e2</th>\n",
              "      <th>Cell_e3</th>\n",
              "      <th>Cell_e4</th>\n",
              "      <th>Cell_e5</th>\n",
              "      <th>Cell_e6</th>\n",
              "      <th>Cell_e7</th>\n",
              "      <th>Cell_e8</th>\n",
              "      <th>Cell_e9</th>\n",
              "      <th>ID_e_e10f1</th>\n",
              "      <th>ID_e_e10f2</th>\n",
              "      <th>ID_e_e10f3</th>\n",
              "      <th>ID_e_e10f4</th>\n",
              "      <th>ID_e_e10f5</th>\n",
              "      <th>ID_e_e10f6</th>\n",
              "      <th>ID_e_e10f7</th>\n",
              "      <th>ID_e_e10f8</th>\n",
              "      <th>ID_e_e10f9</th>\n",
              "      <th>ID_e_e10m1</th>\n",
              "      <th>ID_e_e10m2</th>\n",
              "      <th>ID_e_e10m3</th>\n",
              "      <th>ID_e_e10m4</th>\n",
              "      <th>ID_e_e10m5</th>\n",
              "      <th>ID_e_e10m6</th>\n",
              "      <th>ID_e_e10m7</th>\n",
              "      <th>ID_e_e10m8</th>\n",
              "      <th>ID_e_e10m9</th>\n",
              "      <th>ID_e_e1f1</th>\n",
              "      <th>ID_e_e1f2</th>\n",
              "      <th>ID_e_e1f3</th>\n",
              "      <th>ID_e_e1f4</th>\n",
              "      <th>ID_e_e1f5</th>\n",
              "      <th>ID_e_e1f6</th>\n",
              "      <th>ID_e_e1f7</th>\n",
              "      <th>ID_e_e1f8</th>\n",
              "      <th>...</th>\n",
              "      <th>ID_e_e7m9</th>\n",
              "      <th>ID_e_e8f1</th>\n",
              "      <th>ID_e_e8f2</th>\n",
              "      <th>ID_e_e8f3</th>\n",
              "      <th>ID_e_e8f4</th>\n",
              "      <th>ID_e_e8f5</th>\n",
              "      <th>ID_e_e8f6</th>\n",
              "      <th>ID_e_e8f7</th>\n",
              "      <th>ID_e_e8f8</th>\n",
              "      <th>ID_e_e8f9</th>\n",
              "      <th>ID_e_e8m1</th>\n",
              "      <th>ID_e_e8m2</th>\n",
              "      <th>ID_e_e8m3</th>\n",
              "      <th>ID_e_e8m4</th>\n",
              "      <th>ID_e_e8m5</th>\n",
              "      <th>ID_e_e8m6</th>\n",
              "      <th>ID_e_e8m7</th>\n",
              "      <th>ID_e_e8m8</th>\n",
              "      <th>ID_e_e8m9</th>\n",
              "      <th>ID_e_e9f1</th>\n",
              "      <th>ID_e_e9f2</th>\n",
              "      <th>ID_e_e9f3</th>\n",
              "      <th>ID_e_e9f4</th>\n",
              "      <th>ID_e_e9f5</th>\n",
              "      <th>ID_e_e9f6</th>\n",
              "      <th>ID_e_e9f7</th>\n",
              "      <th>ID_e_e9f8</th>\n",
              "      <th>ID_e_e9f9</th>\n",
              "      <th>ID_e_e9m1</th>\n",
              "      <th>ID_e_e9m2</th>\n",
              "      <th>ID_e_e9m3</th>\n",
              "      <th>ID_e_e9m4</th>\n",
              "      <th>ID_e_e9m5</th>\n",
              "      <th>ID_e_e9m6</th>\n",
              "      <th>ID_e_e9m7</th>\n",
              "      <th>ID_e_e9m8</th>\n",
              "      <th>ID_e_e9m9</th>\n",
              "      <th>Label_o</th>\n",
              "      <th>Label_w</th>\n",
              "      <th>Label_y</th>\n",
              "    </tr>\n",
              "  </thead>\n",
              "  <tbody>\n",
              "    <tr>\n",
              "      <th>0</th>\n",
              "      <td>5.815168e+17</td>\n",
              "      <td>5.583066</td>\n",
              "      <td>1.175189</td>\n",
              "      <td>0</td>\n",
              "      <td>1</td>\n",
              "      <td>0</td>\n",
              "      <td>0</td>\n",
              "      <td>0</td>\n",
              "      <td>0</td>\n",
              "      <td>0</td>\n",
              "      <td>0</td>\n",
              "      <td>0</td>\n",
              "      <td>0</td>\n",
              "      <td>0</td>\n",
              "      <td>0</td>\n",
              "      <td>0</td>\n",
              "      <td>0</td>\n",
              "      <td>0</td>\n",
              "      <td>0</td>\n",
              "      <td>0</td>\n",
              "      <td>0</td>\n",
              "      <td>0</td>\n",
              "      <td>0</td>\n",
              "      <td>0</td>\n",
              "      <td>0</td>\n",
              "      <td>0</td>\n",
              "      <td>0</td>\n",
              "      <td>0</td>\n",
              "      <td>0</td>\n",
              "      <td>0</td>\n",
              "      <td>0</td>\n",
              "      <td>0</td>\n",
              "      <td>1</td>\n",
              "      <td>0</td>\n",
              "      <td>0</td>\n",
              "      <td>0</td>\n",
              "      <td>0</td>\n",
              "      <td>0</td>\n",
              "      <td>0</td>\n",
              "      <td>0</td>\n",
              "      <td>...</td>\n",
              "      <td>0</td>\n",
              "      <td>0</td>\n",
              "      <td>0</td>\n",
              "      <td>0</td>\n",
              "      <td>0</td>\n",
              "      <td>0</td>\n",
              "      <td>0</td>\n",
              "      <td>0</td>\n",
              "      <td>0</td>\n",
              "      <td>0</td>\n",
              "      <td>0</td>\n",
              "      <td>0</td>\n",
              "      <td>0</td>\n",
              "      <td>0</td>\n",
              "      <td>0</td>\n",
              "      <td>0</td>\n",
              "      <td>0</td>\n",
              "      <td>0</td>\n",
              "      <td>0</td>\n",
              "      <td>0</td>\n",
              "      <td>0</td>\n",
              "      <td>0</td>\n",
              "      <td>0</td>\n",
              "      <td>0</td>\n",
              "      <td>0</td>\n",
              "      <td>0</td>\n",
              "      <td>0</td>\n",
              "      <td>0</td>\n",
              "      <td>0</td>\n",
              "      <td>0</td>\n",
              "      <td>0</td>\n",
              "      <td>0</td>\n",
              "      <td>0</td>\n",
              "      <td>0</td>\n",
              "      <td>0</td>\n",
              "      <td>0</td>\n",
              "      <td>0</td>\n",
              "      <td>1</td>\n",
              "      <td>0</td>\n",
              "      <td>0</td>\n",
              "    </tr>\n",
              "    <tr>\n",
              "      <th>1</th>\n",
              "      <td>5.828916e+17</td>\n",
              "      <td>5.325020</td>\n",
              "      <td>0.962680</td>\n",
              "      <td>0</td>\n",
              "      <td>1</td>\n",
              "      <td>0</td>\n",
              "      <td>0</td>\n",
              "      <td>0</td>\n",
              "      <td>0</td>\n",
              "      <td>0</td>\n",
              "      <td>0</td>\n",
              "      <td>0</td>\n",
              "      <td>0</td>\n",
              "      <td>0</td>\n",
              "      <td>0</td>\n",
              "      <td>0</td>\n",
              "      <td>0</td>\n",
              "      <td>0</td>\n",
              "      <td>0</td>\n",
              "      <td>0</td>\n",
              "      <td>0</td>\n",
              "      <td>0</td>\n",
              "      <td>0</td>\n",
              "      <td>0</td>\n",
              "      <td>0</td>\n",
              "      <td>0</td>\n",
              "      <td>0</td>\n",
              "      <td>0</td>\n",
              "      <td>0</td>\n",
              "      <td>0</td>\n",
              "      <td>0</td>\n",
              "      <td>0</td>\n",
              "      <td>1</td>\n",
              "      <td>0</td>\n",
              "      <td>0</td>\n",
              "      <td>0</td>\n",
              "      <td>0</td>\n",
              "      <td>0</td>\n",
              "      <td>0</td>\n",
              "      <td>0</td>\n",
              "      <td>...</td>\n",
              "      <td>0</td>\n",
              "      <td>0</td>\n",
              "      <td>0</td>\n",
              "      <td>0</td>\n",
              "      <td>0</td>\n",
              "      <td>0</td>\n",
              "      <td>0</td>\n",
              "      <td>0</td>\n",
              "      <td>0</td>\n",
              "      <td>0</td>\n",
              "      <td>0</td>\n",
              "      <td>0</td>\n",
              "      <td>0</td>\n",
              "      <td>0</td>\n",
              "      <td>0</td>\n",
              "      <td>0</td>\n",
              "      <td>0</td>\n",
              "      <td>0</td>\n",
              "      <td>0</td>\n",
              "      <td>0</td>\n",
              "      <td>0</td>\n",
              "      <td>0</td>\n",
              "      <td>0</td>\n",
              "      <td>0</td>\n",
              "      <td>0</td>\n",
              "      <td>0</td>\n",
              "      <td>0</td>\n",
              "      <td>0</td>\n",
              "      <td>0</td>\n",
              "      <td>0</td>\n",
              "      <td>0</td>\n",
              "      <td>0</td>\n",
              "      <td>0</td>\n",
              "      <td>0</td>\n",
              "      <td>0</td>\n",
              "      <td>0</td>\n",
              "      <td>0</td>\n",
              "      <td>1</td>\n",
              "      <td>0</td>\n",
              "      <td>0</td>\n",
              "    </tr>\n",
              "    <tr>\n",
              "      <th>2</th>\n",
              "      <td>5.829063e+17</td>\n",
              "      <td>3.412439</td>\n",
              "      <td>0.947501</td>\n",
              "      <td>0</td>\n",
              "      <td>1</td>\n",
              "      <td>0</td>\n",
              "      <td>0</td>\n",
              "      <td>0</td>\n",
              "      <td>0</td>\n",
              "      <td>0</td>\n",
              "      <td>0</td>\n",
              "      <td>0</td>\n",
              "      <td>0</td>\n",
              "      <td>0</td>\n",
              "      <td>0</td>\n",
              "      <td>0</td>\n",
              "      <td>0</td>\n",
              "      <td>0</td>\n",
              "      <td>0</td>\n",
              "      <td>0</td>\n",
              "      <td>0</td>\n",
              "      <td>0</td>\n",
              "      <td>0</td>\n",
              "      <td>0</td>\n",
              "      <td>0</td>\n",
              "      <td>0</td>\n",
              "      <td>0</td>\n",
              "      <td>0</td>\n",
              "      <td>0</td>\n",
              "      <td>0</td>\n",
              "      <td>0</td>\n",
              "      <td>0</td>\n",
              "      <td>1</td>\n",
              "      <td>0</td>\n",
              "      <td>0</td>\n",
              "      <td>0</td>\n",
              "      <td>0</td>\n",
              "      <td>0</td>\n",
              "      <td>0</td>\n",
              "      <td>0</td>\n",
              "      <td>...</td>\n",
              "      <td>0</td>\n",
              "      <td>0</td>\n",
              "      <td>0</td>\n",
              "      <td>0</td>\n",
              "      <td>0</td>\n",
              "      <td>0</td>\n",
              "      <td>0</td>\n",
              "      <td>0</td>\n",
              "      <td>0</td>\n",
              "      <td>0</td>\n",
              "      <td>0</td>\n",
              "      <td>0</td>\n",
              "      <td>0</td>\n",
              "      <td>0</td>\n",
              "      <td>0</td>\n",
              "      <td>0</td>\n",
              "      <td>0</td>\n",
              "      <td>0</td>\n",
              "      <td>0</td>\n",
              "      <td>0</td>\n",
              "      <td>0</td>\n",
              "      <td>0</td>\n",
              "      <td>0</td>\n",
              "      <td>0</td>\n",
              "      <td>0</td>\n",
              "      <td>0</td>\n",
              "      <td>0</td>\n",
              "      <td>0</td>\n",
              "      <td>0</td>\n",
              "      <td>0</td>\n",
              "      <td>0</td>\n",
              "      <td>0</td>\n",
              "      <td>0</td>\n",
              "      <td>0</td>\n",
              "      <td>0</td>\n",
              "      <td>0</td>\n",
              "      <td>0</td>\n",
              "      <td>1</td>\n",
              "      <td>0</td>\n",
              "      <td>0</td>\n",
              "    </tr>\n",
              "    <tr>\n",
              "      <th>3</th>\n",
              "      <td>5.828994e+17</td>\n",
              "      <td>3.761561</td>\n",
              "      <td>2.010046</td>\n",
              "      <td>0</td>\n",
              "      <td>1</td>\n",
              "      <td>0</td>\n",
              "      <td>0</td>\n",
              "      <td>0</td>\n",
              "      <td>0</td>\n",
              "      <td>0</td>\n",
              "      <td>0</td>\n",
              "      <td>0</td>\n",
              "      <td>0</td>\n",
              "      <td>0</td>\n",
              "      <td>0</td>\n",
              "      <td>0</td>\n",
              "      <td>0</td>\n",
              "      <td>0</td>\n",
              "      <td>0</td>\n",
              "      <td>0</td>\n",
              "      <td>0</td>\n",
              "      <td>0</td>\n",
              "      <td>0</td>\n",
              "      <td>0</td>\n",
              "      <td>0</td>\n",
              "      <td>0</td>\n",
              "      <td>0</td>\n",
              "      <td>0</td>\n",
              "      <td>0</td>\n",
              "      <td>0</td>\n",
              "      <td>0</td>\n",
              "      <td>0</td>\n",
              "      <td>1</td>\n",
              "      <td>0</td>\n",
              "      <td>0</td>\n",
              "      <td>0</td>\n",
              "      <td>0</td>\n",
              "      <td>0</td>\n",
              "      <td>0</td>\n",
              "      <td>0</td>\n",
              "      <td>...</td>\n",
              "      <td>0</td>\n",
              "      <td>0</td>\n",
              "      <td>0</td>\n",
              "      <td>0</td>\n",
              "      <td>0</td>\n",
              "      <td>0</td>\n",
              "      <td>0</td>\n",
              "      <td>0</td>\n",
              "      <td>0</td>\n",
              "      <td>0</td>\n",
              "      <td>0</td>\n",
              "      <td>0</td>\n",
              "      <td>0</td>\n",
              "      <td>0</td>\n",
              "      <td>0</td>\n",
              "      <td>0</td>\n",
              "      <td>0</td>\n",
              "      <td>0</td>\n",
              "      <td>0</td>\n",
              "      <td>0</td>\n",
              "      <td>0</td>\n",
              "      <td>0</td>\n",
              "      <td>0</td>\n",
              "      <td>0</td>\n",
              "      <td>0</td>\n",
              "      <td>0</td>\n",
              "      <td>0</td>\n",
              "      <td>0</td>\n",
              "      <td>0</td>\n",
              "      <td>0</td>\n",
              "      <td>0</td>\n",
              "      <td>0</td>\n",
              "      <td>0</td>\n",
              "      <td>0</td>\n",
              "      <td>0</td>\n",
              "      <td>0</td>\n",
              "      <td>0</td>\n",
              "      <td>1</td>\n",
              "      <td>0</td>\n",
              "      <td>0</td>\n",
              "    </tr>\n",
              "    <tr>\n",
              "      <th>4</th>\n",
              "      <td>5.823796e+17</td>\n",
              "      <td>NaN</td>\n",
              "      <td>1.144831</td>\n",
              "      <td>0</td>\n",
              "      <td>1</td>\n",
              "      <td>0</td>\n",
              "      <td>0</td>\n",
              "      <td>0</td>\n",
              "      <td>0</td>\n",
              "      <td>0</td>\n",
              "      <td>0</td>\n",
              "      <td>0</td>\n",
              "      <td>0</td>\n",
              "      <td>0</td>\n",
              "      <td>0</td>\n",
              "      <td>0</td>\n",
              "      <td>0</td>\n",
              "      <td>0</td>\n",
              "      <td>0</td>\n",
              "      <td>0</td>\n",
              "      <td>0</td>\n",
              "      <td>0</td>\n",
              "      <td>0</td>\n",
              "      <td>0</td>\n",
              "      <td>0</td>\n",
              "      <td>0</td>\n",
              "      <td>0</td>\n",
              "      <td>0</td>\n",
              "      <td>0</td>\n",
              "      <td>0</td>\n",
              "      <td>0</td>\n",
              "      <td>0</td>\n",
              "      <td>1</td>\n",
              "      <td>0</td>\n",
              "      <td>0</td>\n",
              "      <td>0</td>\n",
              "      <td>0</td>\n",
              "      <td>0</td>\n",
              "      <td>0</td>\n",
              "      <td>0</td>\n",
              "      <td>...</td>\n",
              "      <td>0</td>\n",
              "      <td>0</td>\n",
              "      <td>0</td>\n",
              "      <td>0</td>\n",
              "      <td>0</td>\n",
              "      <td>0</td>\n",
              "      <td>0</td>\n",
              "      <td>0</td>\n",
              "      <td>0</td>\n",
              "      <td>0</td>\n",
              "      <td>0</td>\n",
              "      <td>0</td>\n",
              "      <td>0</td>\n",
              "      <td>0</td>\n",
              "      <td>0</td>\n",
              "      <td>0</td>\n",
              "      <td>0</td>\n",
              "      <td>0</td>\n",
              "      <td>0</td>\n",
              "      <td>0</td>\n",
              "      <td>0</td>\n",
              "      <td>0</td>\n",
              "      <td>0</td>\n",
              "      <td>0</td>\n",
              "      <td>0</td>\n",
              "      <td>0</td>\n",
              "      <td>0</td>\n",
              "      <td>0</td>\n",
              "      <td>0</td>\n",
              "      <td>0</td>\n",
              "      <td>0</td>\n",
              "      <td>0</td>\n",
              "      <td>0</td>\n",
              "      <td>0</td>\n",
              "      <td>0</td>\n",
              "      <td>0</td>\n",
              "      <td>0</td>\n",
              "      <td>1</td>\n",
              "      <td>0</td>\n",
              "      <td>0</td>\n",
              "    </tr>\n",
              "    <tr>\n",
              "      <th>...</th>\n",
              "      <td>...</td>\n",
              "      <td>...</td>\n",
              "      <td>...</td>\n",
              "      <td>...</td>\n",
              "      <td>...</td>\n",
              "      <td>...</td>\n",
              "      <td>...</td>\n",
              "      <td>...</td>\n",
              "      <td>...</td>\n",
              "      <td>...</td>\n",
              "      <td>...</td>\n",
              "      <td>...</td>\n",
              "      <td>...</td>\n",
              "      <td>...</td>\n",
              "      <td>...</td>\n",
              "      <td>...</td>\n",
              "      <td>...</td>\n",
              "      <td>...</td>\n",
              "      <td>...</td>\n",
              "      <td>...</td>\n",
              "      <td>...</td>\n",
              "      <td>...</td>\n",
              "      <td>...</td>\n",
              "      <td>...</td>\n",
              "      <td>...</td>\n",
              "      <td>...</td>\n",
              "      <td>...</td>\n",
              "      <td>...</td>\n",
              "      <td>...</td>\n",
              "      <td>...</td>\n",
              "      <td>...</td>\n",
              "      <td>...</td>\n",
              "      <td>...</td>\n",
              "      <td>...</td>\n",
              "      <td>...</td>\n",
              "      <td>...</td>\n",
              "      <td>...</td>\n",
              "      <td>...</td>\n",
              "      <td>...</td>\n",
              "      <td>...</td>\n",
              "      <td>...</td>\n",
              "      <td>...</td>\n",
              "      <td>...</td>\n",
              "      <td>...</td>\n",
              "      <td>...</td>\n",
              "      <td>...</td>\n",
              "      <td>...</td>\n",
              "      <td>...</td>\n",
              "      <td>...</td>\n",
              "      <td>...</td>\n",
              "      <td>...</td>\n",
              "      <td>...</td>\n",
              "      <td>...</td>\n",
              "      <td>...</td>\n",
              "      <td>...</td>\n",
              "      <td>...</td>\n",
              "      <td>...</td>\n",
              "      <td>...</td>\n",
              "      <td>...</td>\n",
              "      <td>...</td>\n",
              "      <td>...</td>\n",
              "      <td>...</td>\n",
              "      <td>...</td>\n",
              "      <td>...</td>\n",
              "      <td>...</td>\n",
              "      <td>...</td>\n",
              "      <td>...</td>\n",
              "      <td>...</td>\n",
              "      <td>...</td>\n",
              "      <td>...</td>\n",
              "      <td>...</td>\n",
              "      <td>...</td>\n",
              "      <td>...</td>\n",
              "      <td>...</td>\n",
              "      <td>...</td>\n",
              "      <td>...</td>\n",
              "      <td>...</td>\n",
              "      <td>...</td>\n",
              "      <td>...</td>\n",
              "      <td>...</td>\n",
              "      <td>...</td>\n",
              "    </tr>\n",
              "    <tr>\n",
              "      <th>7184</th>\n",
              "      <td>5.805780e+17</td>\n",
              "      <td>1.103858</td>\n",
              "      <td>NaN</td>\n",
              "      <td>1</td>\n",
              "      <td>0</td>\n",
              "      <td>0</td>\n",
              "      <td>0</td>\n",
              "      <td>0</td>\n",
              "      <td>0</td>\n",
              "      <td>0</td>\n",
              "      <td>0</td>\n",
              "      <td>0</td>\n",
              "      <td>0</td>\n",
              "      <td>1</td>\n",
              "      <td>0</td>\n",
              "      <td>0</td>\n",
              "      <td>0</td>\n",
              "      <td>0</td>\n",
              "      <td>0</td>\n",
              "      <td>0</td>\n",
              "      <td>0</td>\n",
              "      <td>0</td>\n",
              "      <td>0</td>\n",
              "      <td>0</td>\n",
              "      <td>0</td>\n",
              "      <td>0</td>\n",
              "      <td>0</td>\n",
              "      <td>0</td>\n",
              "      <td>0</td>\n",
              "      <td>0</td>\n",
              "      <td>0</td>\n",
              "      <td>0</td>\n",
              "      <td>0</td>\n",
              "      <td>0</td>\n",
              "      <td>0</td>\n",
              "      <td>0</td>\n",
              "      <td>0</td>\n",
              "      <td>0</td>\n",
              "      <td>0</td>\n",
              "      <td>0</td>\n",
              "      <td>...</td>\n",
              "      <td>0</td>\n",
              "      <td>0</td>\n",
              "      <td>0</td>\n",
              "      <td>0</td>\n",
              "      <td>0</td>\n",
              "      <td>0</td>\n",
              "      <td>0</td>\n",
              "      <td>0</td>\n",
              "      <td>0</td>\n",
              "      <td>0</td>\n",
              "      <td>0</td>\n",
              "      <td>0</td>\n",
              "      <td>0</td>\n",
              "      <td>0</td>\n",
              "      <td>0</td>\n",
              "      <td>0</td>\n",
              "      <td>0</td>\n",
              "      <td>0</td>\n",
              "      <td>0</td>\n",
              "      <td>0</td>\n",
              "      <td>0</td>\n",
              "      <td>0</td>\n",
              "      <td>0</td>\n",
              "      <td>0</td>\n",
              "      <td>0</td>\n",
              "      <td>0</td>\n",
              "      <td>0</td>\n",
              "      <td>0</td>\n",
              "      <td>0</td>\n",
              "      <td>0</td>\n",
              "      <td>0</td>\n",
              "      <td>0</td>\n",
              "      <td>0</td>\n",
              "      <td>0</td>\n",
              "      <td>0</td>\n",
              "      <td>0</td>\n",
              "      <td>1</td>\n",
              "      <td>0</td>\n",
              "      <td>0</td>\n",
              "      <td>1</td>\n",
              "    </tr>\n",
              "    <tr>\n",
              "      <th>7185</th>\n",
              "      <td>5.805841e+17</td>\n",
              "      <td>3.699470</td>\n",
              "      <td>NaN</td>\n",
              "      <td>1</td>\n",
              "      <td>0</td>\n",
              "      <td>0</td>\n",
              "      <td>0</td>\n",
              "      <td>0</td>\n",
              "      <td>0</td>\n",
              "      <td>0</td>\n",
              "      <td>0</td>\n",
              "      <td>0</td>\n",
              "      <td>0</td>\n",
              "      <td>1</td>\n",
              "      <td>0</td>\n",
              "      <td>0</td>\n",
              "      <td>0</td>\n",
              "      <td>0</td>\n",
              "      <td>0</td>\n",
              "      <td>0</td>\n",
              "      <td>0</td>\n",
              "      <td>0</td>\n",
              "      <td>0</td>\n",
              "      <td>0</td>\n",
              "      <td>0</td>\n",
              "      <td>0</td>\n",
              "      <td>0</td>\n",
              "      <td>0</td>\n",
              "      <td>0</td>\n",
              "      <td>0</td>\n",
              "      <td>0</td>\n",
              "      <td>0</td>\n",
              "      <td>0</td>\n",
              "      <td>0</td>\n",
              "      <td>0</td>\n",
              "      <td>0</td>\n",
              "      <td>0</td>\n",
              "      <td>0</td>\n",
              "      <td>0</td>\n",
              "      <td>0</td>\n",
              "      <td>...</td>\n",
              "      <td>0</td>\n",
              "      <td>0</td>\n",
              "      <td>0</td>\n",
              "      <td>0</td>\n",
              "      <td>0</td>\n",
              "      <td>0</td>\n",
              "      <td>0</td>\n",
              "      <td>0</td>\n",
              "      <td>0</td>\n",
              "      <td>0</td>\n",
              "      <td>0</td>\n",
              "      <td>0</td>\n",
              "      <td>0</td>\n",
              "      <td>0</td>\n",
              "      <td>0</td>\n",
              "      <td>0</td>\n",
              "      <td>0</td>\n",
              "      <td>0</td>\n",
              "      <td>0</td>\n",
              "      <td>0</td>\n",
              "      <td>0</td>\n",
              "      <td>0</td>\n",
              "      <td>0</td>\n",
              "      <td>0</td>\n",
              "      <td>0</td>\n",
              "      <td>0</td>\n",
              "      <td>0</td>\n",
              "      <td>0</td>\n",
              "      <td>0</td>\n",
              "      <td>0</td>\n",
              "      <td>0</td>\n",
              "      <td>0</td>\n",
              "      <td>0</td>\n",
              "      <td>0</td>\n",
              "      <td>0</td>\n",
              "      <td>0</td>\n",
              "      <td>1</td>\n",
              "      <td>0</td>\n",
              "      <td>0</td>\n",
              "      <td>1</td>\n",
              "    </tr>\n",
              "    <tr>\n",
              "      <th>7186</th>\n",
              "      <td>5.804944e+17</td>\n",
              "      <td>1.766447</td>\n",
              "      <td>NaN</td>\n",
              "      <td>1</td>\n",
              "      <td>0</td>\n",
              "      <td>0</td>\n",
              "      <td>0</td>\n",
              "      <td>0</td>\n",
              "      <td>0</td>\n",
              "      <td>0</td>\n",
              "      <td>0</td>\n",
              "      <td>0</td>\n",
              "      <td>0</td>\n",
              "      <td>1</td>\n",
              "      <td>0</td>\n",
              "      <td>0</td>\n",
              "      <td>0</td>\n",
              "      <td>0</td>\n",
              "      <td>0</td>\n",
              "      <td>0</td>\n",
              "      <td>0</td>\n",
              "      <td>0</td>\n",
              "      <td>0</td>\n",
              "      <td>0</td>\n",
              "      <td>0</td>\n",
              "      <td>0</td>\n",
              "      <td>0</td>\n",
              "      <td>0</td>\n",
              "      <td>0</td>\n",
              "      <td>0</td>\n",
              "      <td>0</td>\n",
              "      <td>0</td>\n",
              "      <td>0</td>\n",
              "      <td>0</td>\n",
              "      <td>0</td>\n",
              "      <td>0</td>\n",
              "      <td>0</td>\n",
              "      <td>0</td>\n",
              "      <td>0</td>\n",
              "      <td>0</td>\n",
              "      <td>...</td>\n",
              "      <td>0</td>\n",
              "      <td>0</td>\n",
              "      <td>0</td>\n",
              "      <td>0</td>\n",
              "      <td>0</td>\n",
              "      <td>0</td>\n",
              "      <td>0</td>\n",
              "      <td>0</td>\n",
              "      <td>0</td>\n",
              "      <td>0</td>\n",
              "      <td>0</td>\n",
              "      <td>0</td>\n",
              "      <td>0</td>\n",
              "      <td>0</td>\n",
              "      <td>0</td>\n",
              "      <td>0</td>\n",
              "      <td>0</td>\n",
              "      <td>0</td>\n",
              "      <td>0</td>\n",
              "      <td>0</td>\n",
              "      <td>0</td>\n",
              "      <td>0</td>\n",
              "      <td>0</td>\n",
              "      <td>0</td>\n",
              "      <td>0</td>\n",
              "      <td>0</td>\n",
              "      <td>0</td>\n",
              "      <td>0</td>\n",
              "      <td>0</td>\n",
              "      <td>0</td>\n",
              "      <td>0</td>\n",
              "      <td>0</td>\n",
              "      <td>0</td>\n",
              "      <td>0</td>\n",
              "      <td>0</td>\n",
              "      <td>0</td>\n",
              "      <td>1</td>\n",
              "      <td>0</td>\n",
              "      <td>0</td>\n",
              "      <td>1</td>\n",
              "    </tr>\n",
              "    <tr>\n",
              "      <th>7187</th>\n",
              "      <td>5.803938e+17</td>\n",
              "      <td>0.497900</td>\n",
              "      <td>1.169597</td>\n",
              "      <td>1</td>\n",
              "      <td>0</td>\n",
              "      <td>0</td>\n",
              "      <td>0</td>\n",
              "      <td>0</td>\n",
              "      <td>0</td>\n",
              "      <td>0</td>\n",
              "      <td>0</td>\n",
              "      <td>0</td>\n",
              "      <td>0</td>\n",
              "      <td>1</td>\n",
              "      <td>0</td>\n",
              "      <td>0</td>\n",
              "      <td>0</td>\n",
              "      <td>0</td>\n",
              "      <td>0</td>\n",
              "      <td>0</td>\n",
              "      <td>0</td>\n",
              "      <td>0</td>\n",
              "      <td>0</td>\n",
              "      <td>0</td>\n",
              "      <td>0</td>\n",
              "      <td>0</td>\n",
              "      <td>0</td>\n",
              "      <td>0</td>\n",
              "      <td>0</td>\n",
              "      <td>0</td>\n",
              "      <td>0</td>\n",
              "      <td>0</td>\n",
              "      <td>0</td>\n",
              "      <td>0</td>\n",
              "      <td>0</td>\n",
              "      <td>0</td>\n",
              "      <td>0</td>\n",
              "      <td>0</td>\n",
              "      <td>0</td>\n",
              "      <td>0</td>\n",
              "      <td>...</td>\n",
              "      <td>0</td>\n",
              "      <td>0</td>\n",
              "      <td>0</td>\n",
              "      <td>0</td>\n",
              "      <td>0</td>\n",
              "      <td>0</td>\n",
              "      <td>0</td>\n",
              "      <td>0</td>\n",
              "      <td>0</td>\n",
              "      <td>0</td>\n",
              "      <td>0</td>\n",
              "      <td>0</td>\n",
              "      <td>0</td>\n",
              "      <td>0</td>\n",
              "      <td>0</td>\n",
              "      <td>0</td>\n",
              "      <td>0</td>\n",
              "      <td>0</td>\n",
              "      <td>0</td>\n",
              "      <td>0</td>\n",
              "      <td>0</td>\n",
              "      <td>0</td>\n",
              "      <td>0</td>\n",
              "      <td>0</td>\n",
              "      <td>0</td>\n",
              "      <td>0</td>\n",
              "      <td>0</td>\n",
              "      <td>0</td>\n",
              "      <td>0</td>\n",
              "      <td>0</td>\n",
              "      <td>0</td>\n",
              "      <td>0</td>\n",
              "      <td>0</td>\n",
              "      <td>0</td>\n",
              "      <td>0</td>\n",
              "      <td>0</td>\n",
              "      <td>1</td>\n",
              "      <td>0</td>\n",
              "      <td>0</td>\n",
              "      <td>1</td>\n",
              "    </tr>\n",
              "    <tr>\n",
              "      <th>7188</th>\n",
              "      <td>5.803982e+17</td>\n",
              "      <td>3.990179</td>\n",
              "      <td>1.146944</td>\n",
              "      <td>1</td>\n",
              "      <td>0</td>\n",
              "      <td>0</td>\n",
              "      <td>0</td>\n",
              "      <td>0</td>\n",
              "      <td>0</td>\n",
              "      <td>0</td>\n",
              "      <td>0</td>\n",
              "      <td>0</td>\n",
              "      <td>0</td>\n",
              "      <td>1</td>\n",
              "      <td>0</td>\n",
              "      <td>0</td>\n",
              "      <td>0</td>\n",
              "      <td>0</td>\n",
              "      <td>0</td>\n",
              "      <td>0</td>\n",
              "      <td>0</td>\n",
              "      <td>0</td>\n",
              "      <td>0</td>\n",
              "      <td>0</td>\n",
              "      <td>0</td>\n",
              "      <td>0</td>\n",
              "      <td>0</td>\n",
              "      <td>0</td>\n",
              "      <td>0</td>\n",
              "      <td>0</td>\n",
              "      <td>0</td>\n",
              "      <td>0</td>\n",
              "      <td>0</td>\n",
              "      <td>0</td>\n",
              "      <td>0</td>\n",
              "      <td>0</td>\n",
              "      <td>0</td>\n",
              "      <td>0</td>\n",
              "      <td>0</td>\n",
              "      <td>0</td>\n",
              "      <td>...</td>\n",
              "      <td>0</td>\n",
              "      <td>0</td>\n",
              "      <td>0</td>\n",
              "      <td>0</td>\n",
              "      <td>0</td>\n",
              "      <td>0</td>\n",
              "      <td>0</td>\n",
              "      <td>0</td>\n",
              "      <td>0</td>\n",
              "      <td>0</td>\n",
              "      <td>0</td>\n",
              "      <td>0</td>\n",
              "      <td>0</td>\n",
              "      <td>0</td>\n",
              "      <td>0</td>\n",
              "      <td>0</td>\n",
              "      <td>0</td>\n",
              "      <td>0</td>\n",
              "      <td>0</td>\n",
              "      <td>0</td>\n",
              "      <td>0</td>\n",
              "      <td>0</td>\n",
              "      <td>0</td>\n",
              "      <td>0</td>\n",
              "      <td>0</td>\n",
              "      <td>0</td>\n",
              "      <td>0</td>\n",
              "      <td>0</td>\n",
              "      <td>0</td>\n",
              "      <td>0</td>\n",
              "      <td>0</td>\n",
              "      <td>0</td>\n",
              "      <td>0</td>\n",
              "      <td>0</td>\n",
              "      <td>0</td>\n",
              "      <td>0</td>\n",
              "      <td>1</td>\n",
              "      <td>0</td>\n",
              "      <td>0</td>\n",
              "      <td>1</td>\n",
              "    </tr>\n",
              "  </tbody>\n",
              "</table>\n",
              "<p>7189 rows × 197 columns</p>\n",
              "</div>"
            ],
            "text/plain": [
              "         Date_Hour         E         N  ...  Label_o  Label_w  Label_y\n",
              "0     5.815168e+17  5.583066  1.175189  ...        1        0        0\n",
              "1     5.828916e+17  5.325020  0.962680  ...        1        0        0\n",
              "2     5.829063e+17  3.412439  0.947501  ...        1        0        0\n",
              "3     5.828994e+17  3.761561  2.010046  ...        1        0        0\n",
              "4     5.823796e+17       NaN  1.144831  ...        1        0        0\n",
              "...            ...       ...       ...  ...      ...      ...      ...\n",
              "7184  5.805780e+17  1.103858       NaN  ...        0        0        1\n",
              "7185  5.805841e+17  3.699470       NaN  ...        0        0        1\n",
              "7186  5.804944e+17  1.766447       NaN  ...        0        0        1\n",
              "7187  5.803938e+17  0.497900  1.169597  ...        0        0        1\n",
              "7188  5.803982e+17  3.990179  1.146944  ...        0        0        1\n",
              "\n",
              "[7189 rows x 197 columns]"
            ]
          },
          "metadata": {
            "tags": []
          },
          "execution_count": 53
        }
      ]
    },
    {
      "cell_type": "code",
      "metadata": {
        "id": "tQvjNLumHm7N",
        "outputId": "20acd8c2-7ca7-45ad-a7f6-4c1fd5f5104b",
        "colab": {
          "base_uri": "https://localhost:8080/"
        }
      },
      "source": [
        "x = ex_data.loc[:, (ex_data.columns != 'Label')].to_numpy()\r\n",
        "y = ex_data.loc[:, 'Label'].to_numpy()"
      ],
      "execution_count": 64,
      "outputs": [
        {
          "output_type": "stream",
          "text": [
            "(7189, 6) (7189,)\n"
          ],
          "name": "stdout"
        }
      ]
    },
    {
      "cell_type": "code",
      "metadata": {
        "id": "321wMRivLIDq",
        "outputId": "79b6a82d-13b4-4a7e-f947-0d92c6b5adc9",
        "colab": {
          "base_uri": "https://localhost:8080/"
        }
      },
      "source": [
        "k_fold = KFold(n_splits=5)\r\n",
        "for train_indices, test_indices in k_fold.split(x):\r\n",
        "    print('Train: %s | test: %s' % (train_indices, test_indices))"
      ],
      "execution_count": 65,
      "outputs": [
        {
          "output_type": "stream",
          "text": [
            "Train: [1438 1439 1440 ... 7186 7187 7188] | test: [   0    1    2 ... 1435 1436 1437]\n",
            "Train: [   0    1    2 ... 7186 7187 7188] | test: [1438 1439 1440 ... 2873 2874 2875]\n",
            "Train: [   0    1    2 ... 7186 7187 7188] | test: [2876 2877 2878 ... 4311 4312 4313]\n",
            "Train: [   0    1    2 ... 7186 7187 7188] | test: [4314 4315 4316 ... 5749 5750 5751]\n",
            "Train: [   0    1    2 ... 5749 5750 5751] | test: [5752 5753 5754 ... 7186 7187 7188]\n"
          ],
          "name": "stdout"
        }
      ]
    },
    {
      "cell_type": "markdown",
      "metadata": {
        "id": "I3NcZ7isRxn0"
      },
      "source": [
        "### Extra 1"
      ]
    },
    {
      "cell_type": "markdown",
      "metadata": {
        "id": "olU36yeKRxn0"
      },
      "source": [
        "The columns 'Date' and 'Hour' could be merged, into a single value (even directly upon reading the CSV file). Explore how to do it either in Pandas or Numpy."
      ]
    },
    {
      "cell_type": "markdown",
      "metadata": {
        "id": "YOkkJ7BMRxn0"
      },
      "source": [
        "### Extra 2"
      ]
    },
    {
      "cell_type": "markdown",
      "metadata": {
        "id": "dRPl9K96G8nD"
      },
      "source": [
        ""
      ]
    },
    {
      "cell_type": "markdown",
      "metadata": {
        "id": "ynVxSQ00Rxn0"
      },
      "source": [
        "This file indicates the position (East, North) where some lizards were seen. Each lizar has an ID (ID_e) and has been spotted several times. To infeer the position for those samples where there is no available data, instead of using the mean (or any other imputation method) based on the whole training set, try to calculate the mean (or other statistical value) for that specific lizard based on the training data. Note that, depending on how you divide the data, there could be unknown data in the test set for a lizard that was not included in the training data."
      ]
    }
  ]
}